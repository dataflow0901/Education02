{
  "nbformat": 4,
  "nbformat_minor": 0,
  "metadata": {
    "colab": {
      "name": "Untitled2.ipynb",
      "version": "0.3.2",
      "provenance": [],
      "collapsed_sections": []
    },
    "kernelspec": {
      "name": "python3",
      "display_name": "Python 3"
    },
    "accelerator": "TPU"
  },
  "cells": [
    {
      "cell_type": "code",
      "metadata": {
        "id": "2jxdxeWCJC0E",
        "colab_type": "code",
        "colab": {}
      },
      "source": [
        "import tensorflow as tf\n",
        "tf.reset_default_graph()"
      ],
      "execution_count": 0,
      "outputs": []
    },
    {
      "cell_type": "code",
      "metadata": {
        "id": "rl0_g-1KMC2b",
        "colab_type": "code",
        "colab": {}
      },
      "source": [
        "x = [1,2,3]\n",
        "y = [1,2,3]\n",
        "\n",
        "X = tf.placeholder(tf.float32, shape =[None])\n",
        "Y = tf.placeholder(tf.float32, shape =[None])"
      ],
      "execution_count": 0,
      "outputs": []
    },
    {
      "cell_type": "code",
      "metadata": {
        "id": "Otuju5UFMai6",
        "colab_type": "code",
        "colab": {
          "base_uri": "https://localhost:8080/",
          "height": 93
        },
        "outputId": "6794b11b-87f9-48e6-81ad-6c1ada743cb3"
      },
      "source": [
        "w = tf.Variable(tf.random_normal([1]), name = 'weight')\n",
        "b = tf.Variable(tf.random_normal([1]), name = 'bias')\n",
        "H = X * w + b\n",
        "\n",
        "w_hist = tf.summary.histogram('weight', w)\n",
        "b_hist = tf.summary.histogram('bias', b)\n",
        "H_hist = tf.summary.histogram('hypothesis', H)"
      ],
      "execution_count": 3,
      "outputs": [
        {
          "output_type": "stream",
          "text": [
            "WARNING:tensorflow:From /usr/local/lib/python3.6/dist-packages/tensorflow/python/framework/op_def_library.py:263: colocate_with (from tensorflow.python.framework.ops) is deprecated and will be removed in a future version.\n",
            "Instructions for updating:\n",
            "Colocations handled automatically by placer.\n"
          ],
          "name": "stdout"
        }
      ]
    },
    {
      "cell_type": "code",
      "metadata": {
        "id": "AbJD_zcWNGVH",
        "colab_type": "code",
        "colab": {}
      },
      "source": [
        ""
      ],
      "execution_count": 0,
      "outputs": []
    },
    {
      "cell_type": "code",
      "metadata": {
        "id": "AuEf7CriNq5Q",
        "colab_type": "code",
        "colab": {}
      },
      "source": [
        "cost = tf.reduce_mean(tf.square(H - Y ))\n",
        "c_hist = tf.summary.histogram('cost', cost)\n",
        "\n",
        "summary = tf.summary.merge_all()"
      ],
      "execution_count": 0,
      "outputs": []
    },
    {
      "cell_type": "code",
      "metadata": {
        "id": "nLQ3QgHXN-dv",
        "colab_type": "code",
        "colab": {}
      },
      "source": [
        "train = tf.train.GradientDescentOptimizer(learning_rate = 0.01).minimize(cost)"
      ],
      "execution_count": 0,
      "outputs": []
    },
    {
      "cell_type": "code",
      "metadata": {
        "id": "6Ab3A1M-OazT",
        "colab_type": "code",
        "colab": {
          "base_uri": "https://localhost:8080/",
          "height": 764
        },
        "outputId": "344fd5c7-e4e2-49e3-c171-c0791ac850e0"
      },
      "source": [
        "with tf.Session() as sess:\n",
        "  \n",
        "  writer = tf.summary.FileWriter(\"drive/ColabNotebooks/tb_logs\")\n",
        "  writer.add_graph(sess.graph)\n",
        "  \n",
        "  sess.run(tf.global_variables_initializer())\n",
        "\n",
        "  \n",
        "  for step in range(20000):\n",
        "    s, cost_val, w_val, b_val, _ = sess.run([summary, cost,w, b, train ],\n",
        "                                        feed_dict = {X:x, Y:y} )\n",
        "    writer.add_summary(s, global_step = step)\n",
        "    if(step%500 == 0):\n",
        "      print(step ,cost_val,w_val,b_val )\n",
        "  "
      ],
      "execution_count": 6,
      "outputs": [
        {
          "output_type": "stream",
          "text": [
            "0 8.01354 [0.03624318] [-0.4631115]\n",
            "500 1.3977518e-05 [1.0043317] [-0.00984702]\n",
            "1000 1.2600971e-06 [1.0013007] [-0.00295646]\n",
            "1500 1.1408584e-07 [1.0003916] [-0.00088949]\n",
            "2000 1.0396529e-08 [1.0001183] [-0.00026855]\n",
            "2500 9.518916e-10 [1.0000355] [-8.139131e-05]\n",
            "3000 9.912071e-11 [1.0000118] [-2.6046002e-05]\n",
            "3500 2.361844e-11 [1.000006] [-1.2511753e-05]\n",
            "4000 1.4045061e-11 [1.0000046] [-9.320884e-06]\n",
            "4500 1.22781785e-11 [1.0000043] [-8.612739e-06]\n",
            "5000 1.22781785e-11 [1.0000043] [-8.612739e-06]\n",
            "5500 1.22781785e-11 [1.0000043] [-8.612739e-06]\n",
            "6000 1.22781785e-11 [1.0000043] [-8.612739e-06]\n",
            "6500 1.22781785e-11 [1.0000043] [-8.612739e-06]\n",
            "7000 1.22781785e-11 [1.0000043] [-8.612739e-06]\n",
            "7500 1.22781785e-11 [1.0000043] [-8.612739e-06]\n",
            "8000 1.22781785e-11 [1.0000043] [-8.612739e-06]\n",
            "8500 1.22781785e-11 [1.0000043] [-8.612739e-06]\n",
            "9000 1.22781785e-11 [1.0000043] [-8.612739e-06]\n",
            "9500 1.22781785e-11 [1.0000043] [-8.612739e-06]\n",
            "10000 1.22781785e-11 [1.0000043] [-8.612739e-06]\n",
            "10500 1.22781785e-11 [1.0000043] [-8.612739e-06]\n",
            "11000 1.22781785e-11 [1.0000043] [-8.612739e-06]\n",
            "11500 1.22781785e-11 [1.0000043] [-8.612739e-06]\n",
            "12000 1.22781785e-11 [1.0000043] [-8.612739e-06]\n",
            "12500 1.22781785e-11 [1.0000043] [-8.612739e-06]\n",
            "13000 1.22781785e-11 [1.0000043] [-8.612739e-06]\n",
            "13500 1.22781785e-11 [1.0000043] [-8.612739e-06]\n",
            "14000 1.22781785e-11 [1.0000043] [-8.612739e-06]\n",
            "14500 1.22781785e-11 [1.0000043] [-8.612739e-06]\n",
            "15000 1.22781785e-11 [1.0000043] [-8.612739e-06]\n",
            "15500 1.22781785e-11 [1.0000043] [-8.612739e-06]\n",
            "16000 1.22781785e-11 [1.0000043] [-8.612739e-06]\n",
            "16500 1.22781785e-11 [1.0000043] [-8.612739e-06]\n",
            "17000 1.22781785e-11 [1.0000043] [-8.612739e-06]\n",
            "17500 1.22781785e-11 [1.0000043] [-8.612739e-06]\n",
            "18000 1.22781785e-11 [1.0000043] [-8.612739e-06]\n",
            "18500 1.22781785e-11 [1.0000043] [-8.612739e-06]\n",
            "19000 1.22781785e-11 [1.0000043] [-8.612739e-06]\n",
            "19500 1.22781785e-11 [1.0000043] [-8.612739e-06]\n"
          ],
          "name": "stdout"
        }
      ]
    },
    {
      "cell_type": "code",
      "metadata": {
        "id": "mmtTLVGehV2s",
        "colab_type": "code",
        "colab": {
          "base_uri": "https://localhost:8080/",
          "height": 299
        },
        "outputId": "d70b13d9-df8b-45e4-a646-9a93d3858cbe"
      },
      "source": [
        "LOG_DIR = 'drive/ColabNotebooks/tb_logs'\n",
        "\t\n",
        "!wget https://bin.equinox.io/c/4VmDzA7iaHb/ngrok-stable-linux-amd64.zip\n",
        "!unzip ngrok-stable-linux-amd64.zip\n",
        "\t\n",
        "import os\n",
        "if not os.path.exists(LOG_DIR):\n",
        "    os.makedirs(LOG_DIR)\n",
        "\t  \n",
        "get_ipython().system_raw('tensorboard --logdir {} --host 0.0.0.0 --port 6006 &'.format(LOG_DIR))\n",
        "\t\n",
        "get_ipython().system_raw('./ngrok http 6006 &')\n",
        "\t\n",
        "!curl -s http://localhost:4040/api/tunnels | python3 -c \"import sys, json; print(json.load(sys.stdin)['tunnels'][0]['public_url'])\""
      ],
      "execution_count": 7,
      "outputs": [
        {
          "output_type": "stream",
          "text": [
            "--2019-05-15 03:51:47--  https://bin.equinox.io/c/4VmDzA7iaHb/ngrok-stable-linux-amd64.zip\n",
            "Resolving bin.equinox.io (bin.equinox.io)... 54.173.32.212, 52.4.95.48, 52.73.9.93, ...\n",
            "Connecting to bin.equinox.io (bin.equinox.io)|54.173.32.212|:443... connected.\n",
            "HTTP request sent, awaiting response... 200 OK\n",
            "Length: 16529980 (16M) [application/octet-stream]\n",
            "Saving to: ‘ngrok-stable-linux-amd64.zip’\n",
            "\n",
            "ngrok-stable-linux- 100%[===================>]  15.76M  42.1MB/s    in 0.4s    \n",
            "\n",
            "2019-05-15 03:51:53 (42.1 MB/s) - ‘ngrok-stable-linux-amd64.zip’ saved [16529980/16529980]\n",
            "\n",
            "Archive:  ngrok-stable-linux-amd64.zip\n",
            "  inflating: ngrok                   \n",
            "https://6b3aa06e.ngrok.io\n"
          ],
          "name": "stdout"
        }
      ]
    },
    {
      "cell_type": "code",
      "metadata": {
        "id": "u61lzUA9lTdw",
        "colab_type": "code",
        "colab": {}
      },
      "source": [
        ""
      ],
      "execution_count": 0,
      "outputs": []
    }
  ]
}