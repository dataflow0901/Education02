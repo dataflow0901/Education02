{
  "nbformat": 4,
  "nbformat_minor": 0,
  "metadata": {
    "colab": {
      "name": "TensorFlow_1일차",
      "version": "0.3.2",
      "provenance": [],
      "collapsed_sections": []
    },
    "kernelspec": {
      "name": "python3",
      "display_name": "Python 3"
    },
    "accelerator": "TPU"
  },
  "cells": [
    {
      "cell_type": "markdown",
      "metadata": {
        "id": "C0QvVhPXJTuZ",
        "colab_type": "text"
      },
      "source": [
        "# TensorFlow+DeepLearning 소스코드 - 1일차\n",
        "- 1일차 수업에 사용된 소스코드를 정리"
      ]
    },
    {
      "cell_type": "markdown",
      "metadata": {
        "id": "Z_iFGo5RRM11",
        "colab_type": "toc"
      },
      "source": [
        ">[TensorFlow+DeepLearning 소스코드 - 1일차](#scrollTo=C0QvVhPXJTuZ)\n",
        "\n",
        ">>[1교시](#scrollTo=ahGFuVBERtRe)\n",
        "\n",
        ">>>[1-5. TensorFlow 작동원리](#scrollTo=VhNLu6m8dD4L)\n",
        "\n",
        ">>>>[EX01. 선형함수](#scrollTo=vNC7F4ACMKTz)\n",
        "\n",
        ">>>>[EX02. 비선형함수](#scrollTo=FKmJoHmqp1O6)\n",
        "\n",
        ">>[2교시](#scrollTo=MvxDiDotSW4Q)\n",
        "\n",
        ">>>[2-2. Colab 활용](#scrollTo=br9fd6LZawAU)\n",
        "\n",
        ">>>>[Python은 동적언어](#scrollTo=dRVj9NYlcvEn)\n",
        "\n",
        ">>>>[NumPy 소개](#scrollTo=_JSoJN8nd9c_)\n",
        "\n",
        ">>>>[NumPy로 숫자배열 생성](#scrollTo=j1Bkc0d0eIjX)\n",
        "\n",
        ">>>>[NumPy 주요 명령어](#scrollTo=mqN2Hsa67Wxg)\n",
        "\n",
        ">>>>[NumPy 패키지 활용 / Matplotlib로 시각화](#scrollTo=Esoo3bGMdl_j)\n",
        "\n",
        ">>>>[로컬에서 Colab으로 업로드](#scrollTo=esTYNc6VNHaz)\n",
        "\n",
        ">>>>[Colab에서 로컬로 다운로드](#scrollTo=lwKcsUbnV0ox)\n",
        "\n",
        ">>[3교시](#scrollTo=gVV9pvWxe9Xl)\n",
        "\n",
        ">>>[3-1. Linear Regression 소개](#scrollTo=CpqdYiMTSaqw)\n",
        "\n",
        ">>>[3-3. Multi-Linear Regression 소개](#scrollTo=9T-w41BctLH8)\n",
        "\n",
        ">>[4교시](#scrollTo=SyayScOjfDic)\n",
        "\n",
        ">>>[4-1. Logistic Regression(Classification) 소개](#scrollTo=S1Nz027hfIJO)\n",
        "\n",
        ">>>[4-2. Multinimial Logistic Regression(Softmax Regression) 소개](#scrollTo=sC7YxOJ3kF7-)\n",
        "\n",
        ">>[7교시](#scrollTo=hPqhUkITJ1fX)\n",
        "\n",
        ">>>[7-1. XOR문제 실습](#scrollTo=zvCGeqeoy-f5)\n",
        "\n"
      ]
    },
    {
      "cell_type": "markdown",
      "metadata": {
        "id": "ahGFuVBERtRe",
        "colab_type": "text"
      },
      "source": [
        "## 1교시\n",
        "\n",
        "---\n",
        "\n"
      ]
    },
    {
      "cell_type": "markdown",
      "metadata": {
        "id": "VhNLu6m8dD4L",
        "colab_type": "text"
      },
      "source": [
        "### 1-5. TensorFlow 작동원리"
      ]
    },
    {
      "cell_type": "markdown",
      "metadata": {
        "id": "vNC7F4ACMKTz",
        "colab_type": "text"
      },
      "source": [
        "#### EX01. 선형함수\n",
        ">>\n",
        "$f(x,y) = x+y+1$"
      ]
    },
    {
      "cell_type": "code",
      "metadata": {
        "id": "96OFSinfMyd1",
        "colab_type": "code",
        "colab": {}
      },
      "source": [
        "# tensorflow 사용\n",
        "import tensorflow as tf\n",
        "tf.set_random_seed(777)"
      ],
      "execution_count": 0,
      "outputs": []
    },
    {
      "cell_type": "code",
      "metadata": {
        "id": "qBs7KMQjNckR",
        "colab_type": "code",
        "colab": {}
      },
      "source": [
        "# 변수(미지수) X,Y / 상수 C = 1\n",
        "X = tf.placeholder(tf.float32)\n",
        "Y = tf.placeholder(tf.float32)\n",
        "C = tf.constant(1.0)"
      ],
      "execution_count": 0,
      "outputs": []
    },
    {
      "cell_type": "code",
      "metadata": {
        "id": "Ee1nO5LakFA-",
        "colab_type": "code",
        "colab": {}
      },
      "source": [
        "# 선형함수\n",
        "F = tf.add(tf.add(X,Y),C)"
      ],
      "execution_count": 0,
      "outputs": []
    },
    {
      "cell_type": "code",
      "metadata": {
        "id": "Ff3wz1hSNcq3",
        "colab_type": "code",
        "outputId": "90b1c9f5-fbd0-4660-d4b3-2b94ba2385b1",
        "colab": {
          "base_uri": "https://localhost:8080/",
          "height": 34
        }
      },
      "source": [
        "# 세션을 열어서 X = 1, Y = 1을 대입해서 결과를 확인해 보자\n",
        "with tf.Session() as sess:\n",
        "    \n",
        "    writer = tf.summary.FileWriter(\"drive/ColabNotebooks/tb_logs\")\n",
        "    writer.add_graph(sess.graph)\n",
        "    \n",
        "    sess.run(tf.global_variables_initializer())\n",
        "    print(sess.run(F, feed_dict = {X:1,Y:1}))"
      ],
      "execution_count": 5,
      "outputs": [
        {
          "output_type": "stream",
          "text": [
            "3.0\n"
          ],
          "name": "stdout"
        }
      ]
    },
    {
      "cell_type": "markdown",
      "metadata": {
        "id": "FKmJoHmqp1O6",
        "colab_type": "text"
      },
      "source": [
        "#### EX02. 비선형함수\n",
        ">>\n",
        "$g(x,y)=xy+1$"
      ]
    },
    {
      "cell_type": "code",
      "metadata": {
        "id": "xCW6ow1Qp0pG",
        "colab_type": "code",
        "colab": {}
      },
      "source": [
        "# tensorflow 사용\n",
        "import tensorflow as tf\n",
        "tf.set_random_seed(777)"
      ],
      "execution_count": 0,
      "outputs": []
    },
    {
      "cell_type": "code",
      "metadata": {
        "id": "Ghm6FTy-s6B5",
        "colab_type": "code",
        "colab": {}
      },
      "source": [
        "# 변수(미지수) X,Y / 상수 C = 1\n",
        "X = tf.placeholder(tf.float32)\n",
        "Y = tf.placeholder(tf.float32)\n",
        "C = tf.constant(1.0)"
      ],
      "execution_count": 0,
      "outputs": []
    },
    {
      "cell_type": "code",
      "metadata": {
        "id": "QdbpZy7ds6GD",
        "colab_type": "code",
        "colab": {}
      },
      "source": [
        "# 비선형함수\n",
        "G = tf.add(tf.multiply(X,Y),C)"
      ],
      "execution_count": 0,
      "outputs": []
    },
    {
      "cell_type": "code",
      "metadata": {
        "id": "HIHO7FOis6JQ",
        "colab_type": "code",
        "outputId": "52844c26-3fdb-436f-eb4b-12e578e816da",
        "colab": {
          "base_uri": "https://localhost:8080/",
          "height": 34
        }
      },
      "source": [
        "# 세션을 열어서 X = 1, Y = 2을 대입해서 결과를 확인해 보자\n",
        "with tf.Session() as sess:\n",
        "    \n",
        "    writer = tf.summary.FileWriter(\"drive/ColabNotebooks/tb_logs\")\n",
        "    writer.add_graph(sess.graph)\n",
        "    \n",
        "    sess.run(tf.global_variables_initializer())\n",
        "    print(sess.run(G, feed_dict = {X:1,Y:2}))"
      ],
      "execution_count": 9,
      "outputs": [
        {
          "output_type": "stream",
          "text": [
            "3.0\n"
          ],
          "name": "stdout"
        }
      ]
    },
    {
      "cell_type": "markdown",
      "metadata": {
        "id": "EZwkIiaTp2PI",
        "colab_type": "text"
      },
      "source": [
        ">>\n",
        "TensorBoard Code"
      ]
    },
    {
      "cell_type": "code",
      "metadata": {
        "id": "XcVfn1N7Nct-",
        "colab_type": "code",
        "outputId": "4d1720b3-471c-44ca-958a-ed20fec9afec",
        "colab": {
          "base_uri": "https://localhost:8080/",
          "height": 255
        }
      },
      "source": [
        "LOG_DIR = 'drive/ColabNotebooks/tb_logs'\n",
        "\t\n",
        "!wget https://bin.equinox.io/c/4VmDzA7iaHb/ngrok-stable-linux-amd64.zip\n",
        "!unzip ngrok-stable-linux-amd64.zip\n",
        "\t\n",
        "import os\n",
        "if not os.path.exists(LOG_DIR):\n",
        "    os.makedirs(LOG_DIR)\n",
        "\t  \n",
        "get_ipython().system_raw('tensorboard --logdir {} --host 0.0.0.0 --port 6006 &'.format(LOG_DIR))\n",
        "\t\n",
        "get_ipython().system_raw('./ngrok http 6006 &')\n",
        "\t\n",
        "!curl -s http://localhost:4040/api/tunnels | python3 -c \"import sys, json; print(json.load(sys.stdin)['tunnels'][0]['public_url'])\""
      ],
      "execution_count": 10,
      "outputs": [
        {
          "output_type": "stream",
          "text": [
            "--2019-05-14 10:30:18--  https://bin.equinox.io/c/4VmDzA7iaHb/ngrok-stable-linux-amd64.zip\n",
            "Resolving bin.equinox.io (bin.equinox.io)... 52.203.66.95, 34.231.75.48, 54.152.127.232, ...\n",
            "Connecting to bin.equinox.io (bin.equinox.io)|52.203.66.95|:443... connected.\n",
            "HTTP request sent, awaiting response... 200 OK\n",
            "Length: 16529980 (16M) [application/octet-stream]\n",
            "Saving to: ‘ngrok-stable-linux-amd64.zip’\n",
            "\n",
            "ngrok-stable-linux- 100%[===================>]  15.76M  33.0MB/s    in 0.5s    \n",
            "\n",
            "2019-05-14 10:30:24 (33.0 MB/s) - ‘ngrok-stable-linux-amd64.zip’ saved [16529980/16529980]\n",
            "\n",
            "Archive:  ngrok-stable-linux-amd64.zip\n",
            "  inflating: ngrok                   \n",
            "http://457c9387.ngrok.io\n"
          ],
          "name": "stdout"
        }
      ]
    },
    {
      "cell_type": "code",
      "metadata": {
        "id": "_24fhgWuf68A",
        "colab_type": "code",
        "outputId": "0f1fbf20-8fa8-46f8-cf03-ba0a452341a5",
        "colab": {
          "base_uri": "https://localhost:8080/",
          "height": 102
        }
      },
      "source": [
        "ls -l"
      ],
      "execution_count": 11,
      "outputs": [
        {
          "output_type": "stream",
          "text": [
            "total 50328\n",
            "drwxr-xr-x 3 root root     4096 May 14 10:30 \u001b[0m\u001b[01;34mdrive\u001b[0m/\n",
            "-rwxr-xr-x 1 root root 34992187 May 10 04:29 \u001b[01;32mngrok\u001b[0m*\n",
            "-rw-r--r-- 1 root root 16529980 May 14 10:30 ngrok-stable-linux-amd64.zip\n",
            "drwxr-xr-x 1 root root     4096 May  8 16:22 \u001b[01;34msample_data\u001b[0m/\n"
          ],
          "name": "stdout"
        }
      ]
    },
    {
      "cell_type": "markdown",
      "metadata": {
        "id": "MvxDiDotSW4Q",
        "colab_type": "text"
      },
      "source": [
        "## 2교시\n",
        "\n",
        "---\n",
        "\n"
      ]
    },
    {
      "cell_type": "markdown",
      "metadata": {
        "id": "br9fd6LZawAU",
        "colab_type": "text"
      },
      "source": [
        "### 2-2. Colab 활용"
      ]
    },
    {
      "cell_type": "markdown",
      "metadata": {
        "id": "dRVj9NYlcvEn",
        "colab_type": "text"
      },
      "source": [
        "#### Python은 동적언어"
      ]
    },
    {
      "cell_type": "code",
      "metadata": {
        "id": "0qVpdrx-blq1",
        "colab_type": "code",
        "outputId": "eb189a46-b9eb-47f9-c6db-4bec5db57788",
        "colab": {
          "base_uri": "https://localhost:8080/",
          "height": 34
        }
      },
      "source": [
        "a = 10\n",
        "a"
      ],
      "execution_count": 12,
      "outputs": [
        {
          "output_type": "execute_result",
          "data": {
            "text/plain": [
              "10"
            ]
          },
          "metadata": {
            "tags": []
          },
          "execution_count": 12
        }
      ]
    },
    {
      "cell_type": "code",
      "metadata": {
        "id": "IM24vqVlbqM7",
        "colab_type": "code",
        "outputId": "fe5a0130-8b3f-4ff7-94d1-47fb7c6a3bd3",
        "colab": {
          "base_uri": "https://localhost:8080/",
          "height": 34
        }
      },
      "source": [
        "type(a)"
      ],
      "execution_count": 13,
      "outputs": [
        {
          "output_type": "execute_result",
          "data": {
            "text/plain": [
              "int"
            ]
          },
          "metadata": {
            "tags": []
          },
          "execution_count": 13
        }
      ]
    },
    {
      "cell_type": "code",
      "metadata": {
        "id": "kMikuKVmbp0_",
        "colab_type": "code",
        "outputId": "d8dd7a34-30b2-449a-96d7-0649da505a23",
        "colab": {
          "base_uri": "https://localhost:8080/",
          "height": 51
        }
      },
      "source": [
        "a = \"Hello Colab!\"\n",
        "print(a)\n",
        "type(a)"
      ],
      "execution_count": 14,
      "outputs": [
        {
          "output_type": "stream",
          "text": [
            "Hello Colab!\n"
          ],
          "name": "stdout"
        },
        {
          "output_type": "execute_result",
          "data": {
            "text/plain": [
              "str"
            ]
          },
          "metadata": {
            "tags": []
          },
          "execution_count": 14
        }
      ]
    },
    {
      "cell_type": "markdown",
      "metadata": {
        "id": "_JSoJN8nd9c_",
        "colab_type": "text"
      },
      "source": [
        "#### NumPy 소개"
      ]
    },
    {
      "cell_type": "code",
      "metadata": {
        "id": "qvRKj9QHb0s6",
        "colab_type": "code",
        "colab": {}
      },
      "source": [
        "import numpy as np"
      ],
      "execution_count": 0,
      "outputs": []
    },
    {
      "cell_type": "code",
      "metadata": {
        "id": "UOHg-Scfb0qM",
        "colab_type": "code",
        "outputId": "e3abca70-1528-41ea-ba54-bb3e938b509a",
        "colab": {
          "base_uri": "https://localhost:8080/",
          "height": 34
        }
      },
      "source": [
        "np.__version__"
      ],
      "execution_count": 16,
      "outputs": [
        {
          "output_type": "execute_result",
          "data": {
            "text/plain": [
              "'1.16.3'"
            ]
          },
          "metadata": {
            "tags": []
          },
          "execution_count": 16
        }
      ]
    },
    {
      "cell_type": "markdown",
      "metadata": {
        "id": "j1Bkc0d0eIjX",
        "colab_type": "text"
      },
      "source": [
        "#### NumPy로 숫자배열 생성"
      ]
    },
    {
      "cell_type": "markdown",
      "metadata": {
        "id": "TBPROybgelvw",
        "colab_type": "text"
      },
      "source": [
        ">>\n",
        "$v=[0,1,2]$"
      ]
    },
    {
      "cell_type": "code",
      "metadata": {
        "id": "xmEMp5oMb0m2",
        "colab_type": "code",
        "outputId": "9a830d32-1e69-45a6-b9c2-14917d2e3767",
        "colab": {
          "base_uri": "https://localhost:8080/",
          "height": 68
        }
      },
      "source": [
        "# Vector\n",
        "# - Rank : 1\n",
        "v = np.array([0,1,2]) # 정수\n",
        "v1 = np.array([0,1,2], np.float32) # 부동소수\n",
        "v2 = np.array([0.0,1.0,2.0]) # 부동소수\n",
        "\n",
        "print(v)\n",
        "print(v1)\n",
        "print(v2)"
      ],
      "execution_count": 17,
      "outputs": [
        {
          "output_type": "stream",
          "text": [
            "[0 1 2]\n",
            "[0. 1. 2.]\n",
            "[0. 1. 2.]\n"
          ],
          "name": "stdout"
        }
      ]
    },
    {
      "cell_type": "markdown",
      "metadata": {
        "id": "uwIqafyxe7EK",
        "colab_type": "text"
      },
      "source": [
        ">>\n",
        "$m=\\begin{bmatrix} 0 & 1 & 2 \\\\ 3 & 4 & 5 \\\\ 6 & 7 & 8 \\end{bmatrix}$ "
      ]
    },
    {
      "cell_type": "code",
      "metadata": {
        "id": "W0ZwMHYteffe",
        "colab_type": "code",
        "outputId": "21d2ba36-94df-47e0-ddc0-1d4f867d60ff",
        "colab": {
          "base_uri": "https://localhost:8080/",
          "height": 119
        }
      },
      "source": [
        "# Matrix\n",
        "# - Rank : 2\n",
        "m = np.array([[0, 1, 2],\n",
        "              [3, 4, 5], \n",
        "              [6, 7, 8]])\n",
        "m1 = m.astype(np.float64) # 변수타입 변경 : 정수 -> 부동소수\n",
        "\n",
        "print(m)\n",
        "print(m1)"
      ],
      "execution_count": 18,
      "outputs": [
        {
          "output_type": "stream",
          "text": [
            "[[0 1 2]\n",
            " [3 4 5]\n",
            " [6 7 8]]\n",
            "[[0. 1. 2.]\n",
            " [3. 4. 5.]\n",
            " [6. 7. 8.]]\n"
          ],
          "name": "stdout"
        }
      ]
    },
    {
      "cell_type": "markdown",
      "metadata": {
        "id": "kGwUEDLlkTAD",
        "colab_type": "text"
      },
      "source": [
        ">>\n",
        "$t=\\begin{bmatrix} \\begin{bmatrix} 0 & 1 \\\\ 2 & 1 \\\\ 4 & 1 \\end{bmatrix} \\\\ \\begin{bmatrix} 1 & 2 \\\\ 3 & 2 \\\\ 5 & 2 \\end{bmatrix} \\\\ \\begin{bmatrix} 2 & 3 \\\\ 4 & 3 \\\\ 6 & 3 \\end{bmatrix} \\end{bmatrix}$"
      ]
    },
    {
      "cell_type": "code",
      "metadata": {
        "id": "BXp1--WFefmo",
        "colab_type": "code",
        "outputId": "9624910e-3817-4f43-b970-d5b79f298cd1",
        "colab": {
          "base_uri": "https://localhost:8080/",
          "height": 204
        }
      },
      "source": [
        "# 3-Tensor\n",
        "# - Rank : 3\n",
        "t = np.array([ [ [0,1], [2,1], [4,1] ], \n",
        "               [ [1,2], [3,2], [5,2] ], \n",
        "               [ [2,3], [4,3], [6,3] ] ])\n",
        "print(t)"
      ],
      "execution_count": 19,
      "outputs": [
        {
          "output_type": "stream",
          "text": [
            "[[[0 1]\n",
            "  [2 1]\n",
            "  [4 1]]\n",
            "\n",
            " [[1 2]\n",
            "  [3 2]\n",
            "  [5 2]]\n",
            "\n",
            " [[2 3]\n",
            "  [4 3]\n",
            "  [6 3]]]\n"
          ],
          "name": "stdout"
        }
      ]
    },
    {
      "cell_type": "markdown",
      "metadata": {
        "id": "mqN2Hsa67Wxg",
        "colab_type": "text"
      },
      "source": [
        "#### NumPy 주요 명령어\n",
        "- (강의에서 사용할 위주)"
      ]
    },
    {
      "cell_type": "code",
      "metadata": {
        "id": "FgVoCfFV7bYe",
        "colab_type": "code",
        "outputId": "9ed19461-82e5-4af9-fdf8-7f34a648c3fe",
        "colab": {
          "base_uri": "https://localhost:8080/",
          "height": 119
        }
      },
      "source": [
        "import numpy as np\n",
        "print(\"v:\\n\",v)\n",
        "print(\"m:\\n\",m)"
      ],
      "execution_count": 20,
      "outputs": [
        {
          "output_type": "stream",
          "text": [
            "v:\n",
            " [0 1 2]\n",
            "m:\n",
            " [[0 1 2]\n",
            " [3 4 5]\n",
            " [6 7 8]]\n"
          ],
          "name": "stdout"
        }
      ]
    },
    {
      "cell_type": "code",
      "metadata": {
        "id": "Ne7HLq-M7bk8",
        "colab_type": "code",
        "outputId": "54ac2649-bc6d-4f8d-dbf8-77653200fc6a",
        "colab": {
          "base_uri": "https://localhost:8080/",
          "height": 85
        }
      },
      "source": [
        "# Indexing\n",
        "print(v[0])\n",
        "print(v[1])\n",
        "print(v[2])\n",
        "print(v[-1]) # 제일 마지막 원소"
      ],
      "execution_count": 21,
      "outputs": [
        {
          "output_type": "stream",
          "text": [
            "0\n",
            "1\n",
            "2\n",
            "2\n"
          ],
          "name": "stdout"
        }
      ]
    },
    {
      "cell_type": "code",
      "metadata": {
        "id": "NcbBa9WS8nuo",
        "colab_type": "code",
        "outputId": "348eac6c-6dbb-40a5-bbda-3e612fa8641f",
        "colab": {
          "base_uri": "https://localhost:8080/",
          "height": 68
        }
      },
      "source": [
        "print(m[0,0])\n",
        "print(m[1,2])\n",
        "print(m[-1,1])"
      ],
      "execution_count": 22,
      "outputs": [
        {
          "output_type": "stream",
          "text": [
            "0\n",
            "5\n",
            "7\n"
          ],
          "name": "stdout"
        }
      ]
    },
    {
      "cell_type": "code",
      "metadata": {
        "id": "Pfx7ik-i8tPJ",
        "colab_type": "code",
        "outputId": "2f52d5b5-4c0c-488d-b5aa-e2dad8b90861",
        "colab": {
          "base_uri": "https://localhost:8080/",
          "height": 68
        }
      },
      "source": [
        "# Slicing\n",
        "# v[start_index:end_index+1]\n",
        "print(v[0:2])\n",
        "print(v[1:3])\n",
        "print(v[0:-1])"
      ],
      "execution_count": 23,
      "outputs": [
        {
          "output_type": "stream",
          "text": [
            "[0 1]\n",
            "[1 2]\n",
            "[0 1]\n"
          ],
          "name": "stdout"
        }
      ]
    },
    {
      "cell_type": "code",
      "metadata": {
        "id": "EDwC5EZw8tVW",
        "colab_type": "code",
        "outputId": "16292ace-e0c6-4df9-b586-6a21ec6ba1de",
        "colab": {
          "base_uri": "https://localhost:8080/",
          "height": 136
        }
      },
      "source": [
        "print(m[0:2, 0:2],\"\\n\")\n",
        "print(m[1:3, 0:2],\"\\n\")\n",
        "print(m[1,1:3])"
      ],
      "execution_count": 24,
      "outputs": [
        {
          "output_type": "stream",
          "text": [
            "[[0 1]\n",
            " [3 4]] \n",
            "\n",
            "[[3 4]\n",
            " [6 7]] \n",
            "\n",
            "[4 5]\n"
          ],
          "name": "stdout"
        }
      ]
    },
    {
      "cell_type": "code",
      "metadata": {
        "id": "wGgdN9X46W5V",
        "colab_type": "code",
        "outputId": "a54a3ba8-c77f-4aad-9da2-5ee4e6f1aed8",
        "colab": {
          "base_uri": "https://localhost:8080/",
          "height": 68
        }
      },
      "source": [
        "# ndim : 차원 확인\n",
        "print(\"v:\", v.ndim)\n",
        "print(\"m:\", m.ndim)\n",
        "print(\"t:\", t.ndim)"
      ],
      "execution_count": 25,
      "outputs": [
        {
          "output_type": "stream",
          "text": [
            "v: 1\n",
            "m: 2\n",
            "t: 3\n"
          ],
          "name": "stdout"
        }
      ]
    },
    {
      "cell_type": "code",
      "metadata": {
        "id": "NsirUJpx8yY9",
        "colab_type": "code",
        "outputId": "5be1a53f-9d96-4b5c-81c9-74c4c7dff9fa",
        "colab": {
          "base_uri": "https://localhost:8080/",
          "height": 68
        }
      },
      "source": [
        "# Shape : 모양 확인\n",
        "print(\"v:\",v.shape)\n",
        "print(\"m:\",m.shape)\n",
        "print(\"t:\",t.shape)"
      ],
      "execution_count": 26,
      "outputs": [
        {
          "output_type": "stream",
          "text": [
            "v: (3,)\n",
            "m: (3, 3)\n",
            "t: (3, 3, 2)\n"
          ],
          "name": "stdout"
        }
      ]
    },
    {
      "cell_type": "code",
      "metadata": {
        "id": "KbvaByWR9DuM",
        "colab_type": "code",
        "outputId": "129209f0-c9c8-4843-bdc3-6b3ae027eb83",
        "colab": {
          "base_uri": "https://localhost:8080/",
          "height": 51
        }
      },
      "source": [
        "print(\"rownum:\",m.shape[0])\n",
        "print(\"colnum:\",m.shape[1])"
      ],
      "execution_count": 27,
      "outputs": [
        {
          "output_type": "stream",
          "text": [
            "rownum: 3\n",
            "colnum: 3\n"
          ],
          "name": "stdout"
        }
      ]
    },
    {
      "cell_type": "code",
      "metadata": {
        "id": "p7_N6pgSBEQG",
        "colab_type": "code",
        "outputId": "5fb7fb20-a4c8-4ea8-fac7-17ca6ded55e1",
        "colab": {
          "base_uri": "https://localhost:8080/",
          "height": 204
        }
      },
      "source": [
        "# Reshape : 모양 재설정\n",
        "print(v.reshape(3,1), \"\\n\",v.shape,\"=>\",v.reshape(3,1).shape,\"\\n\")\n",
        "print(m.reshape(1,9), \"\\n\",m.shape, \"=>\",m.reshape(1,9).shape,\"\\n\")\n",
        "print(t.reshape(1,2,9), \"\\n\",t.shape, \"=>\",t.reshape(1,2,9).shape)"
      ],
      "execution_count": 28,
      "outputs": [
        {
          "output_type": "stream",
          "text": [
            "[[0]\n",
            " [1]\n",
            " [2]] \n",
            " (3,) => (3, 1) \n",
            "\n",
            "[[0 1 2 3 4 5 6 7 8]] \n",
            " (3, 3) => (1, 9) \n",
            "\n",
            "[[[0 1 2 1 4 1 1 2 3]\n",
            "  [2 5 2 2 3 4 3 6 3]]] \n",
            " (3, 3, 2) => (1, 2, 9)\n"
          ],
          "name": "stdout"
        }
      ]
    },
    {
      "cell_type": "code",
      "metadata": {
        "id": "ocPMMiGtBEfF",
        "colab_type": "code",
        "outputId": "9b1b1010-1b15-424d-fd24-29409370b5e5",
        "colab": {
          "base_uri": "https://localhost:8080/",
          "height": 153
        }
      },
      "source": [
        "# Broadcasting : numpy array의 핵심적인 장점으로 벡터화 계산을 가능하게 해줘서 연산시 발생하는 부하가 적게 설계되어 있다\n",
        "print(v,\"* 2 =\",v*2,\"\\n\")\n",
        "print(m,\"+\",v,\"\\n=\",m + v)"
      ],
      "execution_count": 29,
      "outputs": [
        {
          "output_type": "stream",
          "text": [
            "[0 1 2] * 2 = [0 2 4] \n",
            "\n",
            "[[0 1 2]\n",
            " [3 4 5]\n",
            " [6 7 8]] + [0 1 2] \n",
            "= [[ 0  2  4]\n",
            " [ 3  5  7]\n",
            " [ 6  8 10]]\n"
          ],
          "name": "stdout"
        }
      ]
    },
    {
      "cell_type": "markdown",
      "metadata": {
        "id": "Esoo3bGMdl_j",
        "colab_type": "text"
      },
      "source": [
        "#### NumPy 패키지 활용 / Matplotlib로 시각화"
      ]
    },
    {
      "cell_type": "code",
      "metadata": {
        "id": "A1j40JS_b0uP",
        "colab_type": "code",
        "outputId": "b94c55ad-e5d1-4a59-a9d2-b1eb6a6b204d",
        "colab": {
          "base_uri": "https://localhost:8080/",
          "height": 281
        }
      },
      "source": [
        "import numpy as np\n",
        "from matplotlib import pyplot as plt\n",
        "\n",
        "ys = 200 + np.random.randn(100)\n",
        "x = [x for x in range(len(ys))]\n",
        "\n",
        "plt.plot(x, ys, '-')\n",
        "plt.fill_between(x, ys, 195, where = (ys > 195), facecolor = 'g', alpha = 0.6)\n",
        "\n",
        "plt.title(\"Fills and Alpha Example\")\n",
        "plt.show()"
      ],
      "execution_count": 30,
      "outputs": [
        {
          "output_type": "display_data",
          "data": {
            "image/png": "[encoded data removed]",
            "text/plain": [
              "<Figure size 432x288 with 1 Axes>"
            ]
          },
          "metadata": {
            "tags": []
          }
        }
      ]
    },
    {
      "cell_type": "markdown",
      "metadata": {
        "id": "esTYNc6VNHaz",
        "colab_type": "text"
      },
      "source": [
        "#### 로컬에서 Colab으로 업로드 "
      ]
    },
    {
      "cell_type": "code",
      "metadata": {
        "id": "ZvJyUfuweftx",
        "colab_type": "code",
        "outputId": "a0b46194-b5ae-45c8-85a6-55f3b88fb8c2",
        "colab": {
          "resources": {
            "http://localhost:8080/nbextensions/google.colab/files.js": {
              "data": "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",
              "ok": true,
              "headers": [
                [
                  "content-type",
                  "application/javascript"
                ]
              ],
              "status": 200,
              "status_text": ""
            }
          },
          "base_uri": "https://localhost:8080/",
          "height": 71
        }
      },
      "source": [
        "# colab에서 파일 입출력 패키지\n",
        "from google.colab import files\n",
        "uploaded = files.upload()"
      ],
      "execution_count": 31,
      "outputs": [
        {
          "output_type": "display_data",
          "data": {
            "text/html": [
              "\n",
              "     <input type=\"file\" id=\"files-0e33e73e-0111-453d-abdf-fbeb93644039\" name=\"files[]\" multiple disabled />\n",
              "     <output id=\"result-0e33e73e-0111-453d-abdf-fbeb93644039\">\n",
              "      Upload widget is only available when the cell has been executed in the\n",
              "      current browser session. Please rerun this cell to enable.\n",
              "      </output>\n",
              "      <script src=\"/nbextensions/google.colab/files.js\"></script> "
            ],
            "text/plain": [
              "<IPython.core.display.HTML object>"
            ]
          },
          "metadata": {
            "tags": []
          }
        },
        {
          "output_type": "stream",
          "text": [
            "Saving bmi.csv to bmi.csv\n"
          ],
          "name": "stdout"
        }
      ]
    },
    {
      "cell_type": "code",
      "metadata": {
        "id": "hjZekLJqQssi",
        "colab_type": "code",
        "outputId": "231d6d88-4f47-459b-d9d6-219da09cbaaa",
        "colab": {
          "base_uri": "https://localhost:8080/",
          "height": 119
        }
      },
      "source": [
        "ls -l"
      ],
      "execution_count": 32,
      "outputs": [
        {
          "output_type": "stream",
          "text": [
            "total 50588\n",
            "-rw-r--r-- 1 root root   264209 May 14 10:31 bmi.csv\n",
            "drwxr-xr-x 3 root root     4096 May 14 10:30 \u001b[0m\u001b[01;34mdrive\u001b[0m/\n",
            "-rwxr-xr-x 1 root root 34992187 May 10 04:29 \u001b[01;32mngrok\u001b[0m*\n",
            "-rw-r--r-- 1 root root 16529980 May 14 10:30 ngrok-stable-linux-amd64.zip\n",
            "drwxr-xr-x 1 root root     4096 May  8 16:22 \u001b[01;34msample_data\u001b[0m/\n"
          ],
          "name": "stdout"
        }
      ]
    },
    {
      "cell_type": "markdown",
      "metadata": {
        "id": "lwKcsUbnV0ox",
        "colab_type": "text"
      },
      "source": [
        "#### Colab에서 로컬로 다운로드"
      ]
    },
    {
      "cell_type": "code",
      "metadata": {
        "id": "ddQlBU-FQvfw",
        "colab_type": "code",
        "colab": {}
      },
      "source": [
        "from google.colab import files\n",
        "\n",
        "with open('example.txt', 'w') as f:\n",
        "  f.write('Colab에서 작성된 이 편지는 (이하생략)...')\n",
        "\n",
        "files.download('example.txt')"
      ],
      "execution_count": 0,
      "outputs": []
    },
    {
      "cell_type": "markdown",
      "metadata": {
        "id": "gVV9pvWxe9Xl",
        "colab_type": "text"
      },
      "source": [
        "## 3교시\n",
        "\n",
        "---\n",
        "\n"
      ]
    },
    {
      "cell_type": "markdown",
      "metadata": {
        "id": "CpqdYiMTSaqw",
        "colab_type": "text"
      },
      "source": [
        "### 3-1. Linear Regression 소개"
      ]
    },
    {
      "cell_type": "code",
      "metadata": {
        "id": "HFtbsLMtSq_K",
        "colab_type": "code",
        "colab": {}
      },
      "source": [
        "# tensorflow 사용\n",
        "import tensorflow as tf\n",
        "tf.set_random_seed(777)"
      ],
      "execution_count": 0,
      "outputs": []
    },
    {
      "cell_type": "code",
      "metadata": {
        "id": "mzTVUc7MTdfb",
        "colab_type": "code",
        "colab": {}
      },
      "source": [
        "# train data\n",
        "x = [1,2,3]\n",
        "y = [3,5,7]"
      ],
      "execution_count": 0,
      "outputs": []
    },
    {
      "cell_type": "markdown",
      "metadata": {
        "id": "f-H3QPwwSvdP",
        "colab_type": "text"
      },
      "source": [
        ">>\n",
        "$H(x) = Wx + b$ 을 만들자"
      ]
    },
    {
      "cell_type": "code",
      "metadata": {
        "id": "J7c4qO9gTdnF",
        "colab_type": "code",
        "colab": {
          "base_uri": "https://localhost:8080/",
          "height": 88
        },
        "outputId": "11b937c7-b561-415c-90ce-e7fab653ad18"
      },
      "source": [
        "# W, b : tf.Variable\n",
        "W = tf.Variable(tf.random_normal([1]), name = 'weight')\n",
        "b = tf.Variable(tf.random_normal([1]), name = 'bias')\n",
        "\n",
        "# X, Y : tf.placeholder\n",
        "X = tf.placeholder(tf.float32, shape = [None])\n",
        "Y = tf.placeholder(tf.float32, shape = [None])\n",
        "\n",
        "# H(x)\n",
        "H = X * W + b"
      ],
      "execution_count": 36,
      "outputs": [
        {
          "output_type": "stream",
          "text": [
            "WARNING:tensorflow:From /usr/local/lib/python3.6/dist-packages/tensorflow/python/framework/op_def_library.py:263: colocate_with (from tensorflow.python.framework.ops) is deprecated and will be removed in a future version.\n",
            "Instructions for updating:\n",
            "Colocations handled automatically by placer.\n"
          ],
          "name": "stdout"
        }
      ]
    },
    {
      "cell_type": "markdown",
      "metadata": {
        "id": "t9Z-iMh2ZNAn",
        "colab_type": "text"
      },
      "source": [
        ">>$cost(W,b)=\\frac { 1 }{ m } \\sum _{ i=1 }^{ m }{ { (H({ x }^{ (i) })-{ y }^{ (i) }) }^{ 2 } } $"
      ]
    },
    {
      "cell_type": "code",
      "metadata": {
        "id": "rQmzkuvGTdqU",
        "colab_type": "code",
        "colab": {}
      },
      "source": [
        "# cost(loss) function\n",
        "# tf.reduce_mean() : 평균, tf.square() : 제곱\n",
        "cost = tf.reduce_mean(tf.square(H - Y))"
      ],
      "execution_count": 0,
      "outputs": []
    },
    {
      "cell_type": "code",
      "metadata": {
        "id": "V753fpFRTdtX",
        "colab_type": "code",
        "colab": {}
      },
      "source": [
        "# 최소값 찾아가는 코드\n",
        "# - Gradient Descent : 미분\n",
        "# - learning_rate : 학습률(최소값 찾아가는 단위)\n",
        "# - minimize(cost) : 오차를 최소화 하도록\n",
        "train = tf.train.GradientDescentOptimizer(learning_rate=0.01).minimize(cost)"
      ],
      "execution_count": 0,
      "outputs": []
    },
    {
      "cell_type": "code",
      "metadata": {
        "id": "jF4L7sFbTdwO",
        "colab_type": "code",
        "outputId": "c1f5e3a4-46dc-4b93-bc41-1994b5586908",
        "colab": {
          "base_uri": "https://localhost:8080/",
          "height": 153
        }
      },
      "source": [
        "# 그래프 설정하고 훈련데이터를 넣어서 예측되는 직선과 실제값의 오차가 최소가 되는 W,b를 찾자\n",
        "# - backpropagation : 딥러닝의 핵심 아이디어(나중에 자세히 다루겠음)\n",
        "with tf.Session() as sess:\n",
        "    # 변수 초기화\n",
        "    sess.run(tf.global_variables_initializer())\n",
        "    # 2000번 학습\n",
        "    for step in range(2001):\n",
        "        # feed_dict : 설정한 placeholder X,Y에 훈련데이터 x,y를 입력\n",
        "        cost_val, W_val, b_val, _ = sess.run([cost, W, b, train], \n",
        "                                             feed_dict = {X: x, Y: y})\n",
        "        if step % 500 == 0:\n",
        "            print(step, cost_val, W_val, b_val)\n",
        "            \n",
        "    # 테스트 단계\n",
        "    print(\"==== 테스트 ====\")\n",
        "    print(\"H(1)=\",sess.run(H, feed_dict = {X: [1]}),\"~3?\")\n",
        "    print(\"H(4)=\",sess.run(H, feed_dict = {X: [4]}),\"~9?\")"
      ],
      "execution_count": 39,
      "outputs": [
        {
          "output_type": "stream",
          "text": [
            "0 12.18349 [1.1611695] [-0.35241237]\n",
            "500 0.008817647 [2.1087995] [0.75267303]\n",
            "1000 0.00079449144 [2.0326583] [0.92575985]\n",
            "1500 7.158311e-05 [2.009803] [0.9777155]\n",
            "2000 6.453698e-06 [2.0029435] [0.993309]\n",
            "==== 테스트 ====\n",
            "H(1)= [2.9962525] ~3?\n",
            "H(4)= [9.005083] ~9?\n"
          ],
          "name": "stdout"
        }
      ]
    },
    {
      "cell_type": "markdown",
      "metadata": {
        "id": "9T-w41BctLH8",
        "colab_type": "text"
      },
      "source": [
        "### 3-3. Multi-Linear Regression 소개"
      ]
    },
    {
      "cell_type": "code",
      "metadata": {
        "id": "8P-FK_AJtKf4",
        "colab_type": "code",
        "colab": {}
      },
      "source": [
        "import tensorflow as tf\n",
        "import numpy as np\n",
        "tf.set_random_seed(777)"
      ],
      "execution_count": 0,
      "outputs": []
    },
    {
      "cell_type": "code",
      "metadata": {
        "id": "qS-KnHqwtdON",
        "colab_type": "code",
        "colab": {}
      },
      "source": [
        "# x1,x2 그리고 y\n",
        "x = np.array([[60,5.5],\n",
        "              [65,5.0],\n",
        "              [55,6.0]],dtype='float32')\n",
        "y = np.array([[66],[74],[78]],dtype='float32')"
      ],
      "execution_count": 0,
      "outputs": []
    },
    {
      "cell_type": "code",
      "metadata": {
        "id": "jyhA1iK-tdTr",
        "colab_type": "code",
        "colab": {}
      },
      "source": [
        "# H(X) = XW + b\n",
        "X = tf.placeholder(tf.float32, shape=[None,2]) # None : 어떤 갯수의 행이 오더라도, 2 : 열 갯수(즉, x1,x2)\n",
        "Y = tf.placeholder(tf.float32, shape=[None,1])\n",
        "\n",
        "W = tf.Variable(tf.random_normal([2,1]), name = 'weight') # 2행 1열 행렬\n",
        "b = tf.Variable(tf.random_normal([1]), name = 'bias')\n",
        "\n",
        "H = tf.matmul(X,W)+b"
      ],
      "execution_count": 0,
      "outputs": []
    },
    {
      "cell_type": "code",
      "metadata": {
        "id": "kjk4pxettdXl",
        "colab_type": "code",
        "colab": {}
      },
      "source": [
        "# cost function\n",
        "cost = tf.reduce_mean(tf.square(H - Y))"
      ],
      "execution_count": 0,
      "outputs": []
    },
    {
      "cell_type": "code",
      "metadata": {
        "id": "HZ4dltmktdZ7",
        "colab_type": "code",
        "colab": {}
      },
      "source": [
        "# gradient descent\n",
        "train = tf.train.GradientDescentOptimizer(learning_rate = 0.0001).minimize(cost)"
      ],
      "execution_count": 0,
      "outputs": []
    },
    {
      "cell_type": "code",
      "metadata": {
        "id": "WgFxOlIxtdSE",
        "colab_type": "code",
        "outputId": "c5e75f41-20b4-412f-b3cf-3d0b07e9bd6e",
        "colab": {
          "base_uri": "https://localhost:8080/",
          "height": 697
        }
      },
      "source": [
        "with tf.Session() as sess:\n",
        "    sess.run(tf.global_variables_initializer())\n",
        "    for step in range(70001):\n",
        "        cost_val, h_val, _ = sess.run([cost,H,train], feed_dict = {X:x,Y:y})\n",
        "        if step % 10000 == 0:\n",
        "            print(\"step\",step, \"\\ncost=\", cost_val, \"\\nH(X)=\", h_val)"
      ],
      "execution_count": 45,
      "outputs": [
        {
          "output_type": "stream",
          "text": [
            "step 0 \n",
            "cost= 2185.1924 \n",
            "H(X)= [[26.357828]\n",
            " [29.620214]\n",
            " [23.095444]]\n",
            "step 10000 \n",
            "cost= 26.984116 \n",
            "H(X)= [[72.52112]\n",
            " [73.18777]\n",
            " [71.85446]]\n",
            "step 20000 \n",
            "cost= 22.639029 \n",
            "H(X)= [[72.623604]\n",
            " [71.412544]\n",
            " [73.83466 ]]\n",
            "step 30000 \n",
            "cost= 22.258707 \n",
            "H(X)= [[72.65393]\n",
            " [70.88735]\n",
            " [74.42051]]\n",
            "step 40000 \n",
            "cost= 22.22542 \n",
            "H(X)= [[72.662895]\n",
            " [70.732   ]\n",
            " [74.59379 ]]\n",
            "step 50000 \n",
            "cost= 22.222504 \n",
            "H(X)= [[72.66555]\n",
            " [70.68607]\n",
            " [74.64503]]\n",
            "step 60000 \n",
            "cost= 22.222284 \n",
            "H(X)= [[72.66632 ]\n",
            " [70.672745]\n",
            " [74.65988 ]]\n",
            "step 70000 \n",
            "cost= 22.222216 \n",
            "H(X)= [[72.66646 ]\n",
            " [70.67019 ]\n",
            " [74.662735]]\n"
          ],
          "name": "stdout"
        }
      ]
    },
    {
      "cell_type": "markdown",
      "metadata": {
        "id": "SyayScOjfDic",
        "colab_type": "text"
      },
      "source": [
        "## 4교시\n",
        "\n",
        "---\n",
        "\n"
      ]
    },
    {
      "cell_type": "markdown",
      "metadata": {
        "id": "S1Nz027hfIJO",
        "colab_type": "text"
      },
      "source": [
        "### 4-1. Logistic Regression(Classification) 소개\n",
        "- 당뇨병 분류문제"
      ]
    },
    {
      "cell_type": "code",
      "metadata": {
        "id": "PCxd1HBafHTZ",
        "colab_type": "code",
        "outputId": "aee412e8-82df-4928-e3c7-042f1632fa41",
        "colab": {
          "resources": {
            "http://localhost:8080/nbextensions/google.colab/files.js": {
              "data": "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",
              "ok": true,
              "headers": [
                [
                  "content-type",
                  "application/javascript"
                ]
              ],
              "status": 200,
              "status_text": ""
            }
          },
          "base_uri": "https://localhost:8080/",
          "height": 71
        }
      },
      "source": [
        "# data load\n",
        "from google.colab import files\n",
        "uploaded = files.upload()"
      ],
      "execution_count": 46,
      "outputs": [
        {
          "output_type": "display_data",
          "data": {
            "text/html": [
              "\n",
              "     <input type=\"file\" id=\"files-a11912eb-7f0b-4b8b-9f3b-c02660bc4ce6\" name=\"files[]\" multiple disabled />\n",
              "     <output id=\"result-a11912eb-7f0b-4b8b-9f3b-c02660bc4ce6\">\n",
              "      Upload widget is only available when the cell has been executed in the\n",
              "      current browser session. Please rerun this cell to enable.\n",
              "      </output>\n",
              "      <script src=\"/nbextensions/google.colab/files.js\"></script> "
            ],
            "text/plain": [
              "<IPython.core.display.HTML object>"
            ]
          },
          "metadata": {
            "tags": []
          }
        },
        {
          "output_type": "stream",
          "text": [
            "Saving diabetes.csv to diabetes.csv\n"
          ],
          "name": "stdout"
        }
      ]
    },
    {
      "cell_type": "code",
      "metadata": {
        "id": "0wnYkXu_grQ2",
        "colab_type": "code",
        "colab": {}
      },
      "source": [
        "import numpy as np\n",
        "data = np.loadtxt(\"diabetes.csv\", delimiter=',', dtype=np.float32)"
      ],
      "execution_count": 0,
      "outputs": []
    },
    {
      "cell_type": "code",
      "metadata": {
        "id": "9RG_XXjOgrYs",
        "colab_type": "code",
        "outputId": "5cfbf8bc-f165-4aa0-ce8e-c46190cb0c2c",
        "colab": {
          "base_uri": "https://localhost:8080/",
          "height": 238
        }
      },
      "source": [
        "data"
      ],
      "execution_count": 48,
      "outputs": [
        {
          "output_type": "execute_result",
          "data": {
            "text/plain": [
              "array([[-0.294118 ,  0.487437 ,  0.180328 , ..., -0.53117  , -0.0333333,\n",
              "         0.       ],\n",
              "       [-0.882353 , -0.145729 ,  0.0819672, ..., -0.766866 , -0.666667 ,\n",
              "         1.       ],\n",
              "       [-0.0588235,  0.839196 ,  0.0491803, ..., -0.492741 , -0.633333 ,\n",
              "         0.       ],\n",
              "       ...,\n",
              "       [-0.411765 ,  0.21608  ,  0.180328 , ..., -0.857387 , -0.7      ,\n",
              "         1.       ],\n",
              "       [-0.882353 ,  0.266332 , -0.0163934, ..., -0.768574 , -0.133333 ,\n",
              "         0.       ],\n",
              "       [-0.882353 , -0.0653266,  0.147541 , ..., -0.797609 , -0.933333 ,\n",
              "         1.       ]], dtype=float32)"
            ]
          },
          "metadata": {
            "tags": []
          },
          "execution_count": 48
        }
      ]
    },
    {
      "cell_type": "code",
      "metadata": {
        "id": "6gPbgd2TgrXD",
        "colab_type": "code",
        "colab": {}
      },
      "source": [
        "import tensorflow as tf\n",
        "import numpy as np\n",
        "tf.set_random_seed(777)"
      ],
      "execution_count": 0,
      "outputs": []
    },
    {
      "cell_type": "code",
      "metadata": {
        "id": "jIZDKrCLgrTt",
        "colab_type": "code",
        "colab": {}
      },
      "source": [
        "# 학습 데이터 80% / 테스트 데이터 20%를 랜덤하게 나누어 주자\n",
        "train = data[np.random.choice(len(data), round(len(data)*0.8), replace=False), :]\n",
        "test = data[np.random.choice(len(data), round(len(data)*0.2), replace=False), :]"
      ],
      "execution_count": 0,
      "outputs": []
    },
    {
      "cell_type": "code",
      "metadata": {
        "id": "gQ5p4JzHokU8",
        "colab_type": "code",
        "colab": {}
      },
      "source": [
        "x_train = train[:, 0:-1]\n",
        "y_train = train[:, -1].reshape(len(x_train),1)\n",
        "\n",
        "x_test = test[:, 0:-1]\n",
        "y_test = test[:, -1].reshape(len(x_test),1)"
      ],
      "execution_count": 0,
      "outputs": []
    },
    {
      "cell_type": "code",
      "metadata": {
        "id": "mHaHjqjtokbs",
        "colab_type": "code",
        "colab": {}
      },
      "source": [
        "# H(X)\n",
        "# data.shape = (759, 9)\n",
        "X = tf.placeholder(tf.float32, shape = [None, 8])\n",
        "Y = tf.placeholder(tf.float32, shape = [None, 1])\n",
        "\n",
        "W = tf.Variable(tf.random_normal([8,1]), name = 'weight')\n",
        "b = tf.Variable(tf.random_normal([1]), name = 'bias')\n",
        "\n",
        "# tf.sigmoid = 1/(1+exp(-x))\n",
        "H = tf.sigmoid(tf.matmul(X,W)+b)"
      ],
      "execution_count": 0,
      "outputs": []
    },
    {
      "cell_type": "code",
      "metadata": {
        "id": "QPJ_7gcuokiO",
        "colab_type": "code",
        "colab": {}
      },
      "source": [
        "# cost\n",
        "cost = -tf.reduce_mean(Y*tf.log(H) + (1 - Y)*tf.log(1 - H))"
      ],
      "execution_count": 0,
      "outputs": []
    },
    {
      "cell_type": "code",
      "metadata": {
        "id": "RoZ86qd6okeq",
        "colab_type": "code",
        "colab": {}
      },
      "source": [
        "# gradient descent\n",
        "train = tf.train.GradientDescentOptimizer(learning_rate=0.01).minimize(cost)"
      ],
      "execution_count": 0,
      "outputs": []
    },
    {
      "cell_type": "code",
      "metadata": {
        "id": "ujJ2TxpbxBul",
        "colab_type": "code",
        "colab": {}
      },
      "source": [
        "# 0.5 이상이면 1, 이하이면 0\n",
        "predicted = tf.cast(H > 0.5, dtype=tf.float32)\n",
        "\n",
        "# 정확도\n",
        "accuracy = tf.reduce_mean(tf.cast(tf.equal(predicted, Y), dtype=tf.float32))"
      ],
      "execution_count": 0,
      "outputs": []
    },
    {
      "cell_type": "code",
      "metadata": {
        "id": "DhhWjtgFxB3m",
        "colab_type": "code",
        "outputId": "50438097-4c81-4dac-ed11-910f206b24bc",
        "colab": {
          "base_uri": "https://localhost:8080/",
          "height": 2686
        }
      },
      "source": [
        "with tf.Session() as sess:\n",
        "    # 변수 초기화\n",
        "    sess.run(tf.global_variables_initializer())\n",
        "    \n",
        "    # 학습\n",
        "    for step in range(10001):\n",
        "        cost_val, _ = sess.run([cost, train], feed_dict={X: x_train, Y: y_train})\n",
        "        if step % 5000 == 0:\n",
        "            print(step, cost_val)\n",
        "\n",
        "    # 테스트\n",
        "    c, a = sess.run([predicted, accuracy],\n",
        "                     feed_dict={X: x_test, Y: y_test})\n",
        "    for i,j in zip(c,y_test):\n",
        "        if i == j:\n",
        "            res = \"O\"\n",
        "        else:\n",
        "            res = \"X\"\n",
        "        print(\"predict\", i, \"vs\", \"real\",j, \"=> res:\",res)\n",
        "        \n",
        "    print(\"\\nAccuracy:\", a)"
      ],
      "execution_count": 56,
      "outputs": [
        {
          "output_type": "stream",
          "text": [
            "0 1.006186\n",
            "5000 0.514534\n",
            "10000 0.49188563\n",
            "predict [1.] vs real [0.] => res: X\n",
            "predict [1.] vs real [0.] => res: X\n",
            "predict [0.] vs real [0.] => res: O\n",
            "predict [1.] vs real [1.] => res: O\n",
            "predict [0.] vs real [0.] => res: O\n",
            "predict [1.] vs real [1.] => res: O\n",
            "predict [0.] vs real [0.] => res: O\n",
            "predict [1.] vs real [1.] => res: O\n",
            "predict [1.] vs real [1.] => res: O\n",
            "predict [1.] vs real [0.] => res: X\n",
            "predict [0.] vs real [1.] => res: X\n",
            "predict [0.] vs real [0.] => res: O\n",
            "predict [0.] vs real [0.] => res: O\n",
            "predict [1.] vs real [0.] => res: X\n",
            "predict [1.] vs real [1.] => res: O\n",
            "predict [1.] vs real [1.] => res: O\n",
            "predict [1.] vs real [1.] => res: O\n",
            "predict [1.] vs real [1.] => res: O\n",
            "predict [1.] vs real [1.] => res: O\n",
            "predict [0.] vs real [1.] => res: X\n",
            "predict [1.] vs real [0.] => res: X\n",
            "predict [1.] vs real [1.] => res: O\n",
            "predict [0.] vs real [0.] => res: O\n",
            "predict [1.] vs real [1.] => res: O\n",
            "predict [0.] vs real [0.] => res: O\n",
            "predict [0.] vs real [0.] => res: O\n",
            "predict [1.] vs real [1.] => res: O\n",
            "predict [1.] vs real [0.] => res: X\n",
            "predict [0.] vs real [1.] => res: X\n",
            "predict [1.] vs real [1.] => res: O\n",
            "predict [1.] vs real [1.] => res: O\n",
            "predict [1.] vs real [1.] => res: O\n",
            "predict [1.] vs real [0.] => res: X\n",
            "predict [0.] vs real [0.] => res: O\n",
            "predict [1.] vs real [0.] => res: X\n",
            "predict [0.] vs real [0.] => res: O\n",
            "predict [0.] vs real [0.] => res: O\n",
            "predict [1.] vs real [1.] => res: O\n",
            "predict [1.] vs real [1.] => res: O\n",
            "predict [1.] vs real [1.] => res: O\n",
            "predict [1.] vs real [1.] => res: O\n",
            "predict [1.] vs real [1.] => res: O\n",
            "predict [0.] vs real [0.] => res: O\n",
            "predict [1.] vs real [0.] => res: X\n",
            "predict [0.] vs real [0.] => res: O\n",
            "predict [1.] vs real [1.] => res: O\n",
            "predict [0.] vs real [0.] => res: O\n",
            "predict [1.] vs real [1.] => res: O\n",
            "predict [1.] vs real [1.] => res: O\n",
            "predict [1.] vs real [1.] => res: O\n",
            "predict [1.] vs real [1.] => res: O\n",
            "predict [1.] vs real [1.] => res: O\n",
            "predict [1.] vs real [1.] => res: O\n",
            "predict [1.] vs real [1.] => res: O\n",
            "predict [1.] vs real [1.] => res: O\n",
            "predict [0.] vs real [0.] => res: O\n",
            "predict [0.] vs real [0.] => res: O\n",
            "predict [1.] vs real [1.] => res: O\n",
            "predict [1.] vs real [1.] => res: O\n",
            "predict [0.] vs real [0.] => res: O\n",
            "predict [1.] vs real [0.] => res: X\n",
            "predict [1.] vs real [1.] => res: O\n",
            "predict [1.] vs real [1.] => res: O\n",
            "predict [1.] vs real [1.] => res: O\n",
            "predict [0.] vs real [0.] => res: O\n",
            "predict [1.] vs real [1.] => res: O\n",
            "predict [1.] vs real [0.] => res: X\n",
            "predict [0.] vs real [0.] => res: O\n",
            "predict [1.] vs real [1.] => res: O\n",
            "predict [1.] vs real [1.] => res: O\n",
            "predict [1.] vs real [1.] => res: O\n",
            "predict [1.] vs real [1.] => res: O\n",
            "predict [1.] vs real [1.] => res: O\n",
            "predict [1.] vs real [1.] => res: O\n",
            "predict [0.] vs real [0.] => res: O\n",
            "predict [1.] vs real [1.] => res: O\n",
            "predict [1.] vs real [1.] => res: O\n",
            "predict [1.] vs real [1.] => res: O\n",
            "predict [0.] vs real [0.] => res: O\n",
            "predict [1.] vs real [1.] => res: O\n",
            "predict [0.] vs real [0.] => res: O\n",
            "predict [0.] vs real [0.] => res: O\n",
            "predict [1.] vs real [1.] => res: O\n",
            "predict [1.] vs real [1.] => res: O\n",
            "predict [1.] vs real [1.] => res: O\n",
            "predict [1.] vs real [1.] => res: O\n",
            "predict [1.] vs real [1.] => res: O\n",
            "predict [1.] vs real [1.] => res: O\n",
            "predict [1.] vs real [0.] => res: X\n",
            "predict [1.] vs real [0.] => res: X\n",
            "predict [1.] vs real [1.] => res: O\n",
            "predict [1.] vs real [1.] => res: O\n",
            "predict [0.] vs real [1.] => res: X\n",
            "predict [1.] vs real [1.] => res: O\n",
            "predict [1.] vs real [0.] => res: X\n",
            "predict [1.] vs real [0.] => res: X\n",
            "predict [0.] vs real [0.] => res: O\n",
            "predict [1.] vs real [1.] => res: O\n",
            "predict [1.] vs real [1.] => res: O\n",
            "predict [0.] vs real [1.] => res: X\n",
            "predict [0.] vs real [0.] => res: O\n",
            "predict [0.] vs real [1.] => res: X\n",
            "predict [1.] vs real [1.] => res: O\n",
            "predict [0.] vs real [0.] => res: O\n",
            "predict [1.] vs real [0.] => res: X\n",
            "predict [1.] vs real [1.] => res: O\n",
            "predict [1.] vs real [1.] => res: O\n",
            "predict [1.] vs real [1.] => res: O\n",
            "predict [1.] vs real [1.] => res: O\n",
            "predict [1.] vs real [1.] => res: O\n",
            "predict [1.] vs real [1.] => res: O\n",
            "predict [1.] vs real [0.] => res: X\n",
            "predict [1.] vs real [1.] => res: O\n",
            "predict [1.] vs real [1.] => res: O\n",
            "predict [1.] vs real [1.] => res: O\n",
            "predict [1.] vs real [1.] => res: O\n",
            "predict [1.] vs real [0.] => res: X\n",
            "predict [1.] vs real [1.] => res: O\n",
            "predict [1.] vs real [1.] => res: O\n",
            "predict [1.] vs real [1.] => res: O\n",
            "predict [0.] vs real [1.] => res: X\n",
            "predict [1.] vs real [1.] => res: O\n",
            "predict [0.] vs real [0.] => res: O\n",
            "predict [1.] vs real [1.] => res: O\n",
            "predict [1.] vs real [0.] => res: X\n",
            "predict [0.] vs real [1.] => res: X\n",
            "predict [1.] vs real [1.] => res: O\n",
            "predict [1.] vs real [1.] => res: O\n",
            "predict [1.] vs real [1.] => res: O\n",
            "predict [1.] vs real [1.] => res: O\n",
            "predict [0.] vs real [1.] => res: X\n",
            "predict [1.] vs real [1.] => res: O\n",
            "predict [1.] vs real [1.] => res: O\n",
            "predict [1.] vs real [1.] => res: O\n",
            "predict [1.] vs real [1.] => res: O\n",
            "predict [1.] vs real [0.] => res: X\n",
            "predict [1.] vs real [1.] => res: O\n",
            "predict [1.] vs real [1.] => res: O\n",
            "predict [1.] vs real [1.] => res: O\n",
            "predict [0.] vs real [1.] => res: X\n",
            "predict [1.] vs real [1.] => res: O\n",
            "predict [1.] vs real [1.] => res: O\n",
            "predict [1.] vs real [1.] => res: O\n",
            "predict [1.] vs real [1.] => res: O\n",
            "predict [1.] vs real [1.] => res: O\n",
            "predict [0.] vs real [0.] => res: O\n",
            "predict [1.] vs real [1.] => res: O\n",
            "predict [1.] vs real [0.] => res: X\n",
            "predict [1.] vs real [1.] => res: O\n",
            "predict [1.] vs real [0.] => res: X\n",
            "predict [0.] vs real [0.] => res: O\n",
            "predict [1.] vs real [1.] => res: O\n",
            "\n",
            "Accuracy: 0.7894737\n"
          ],
          "name": "stdout"
        }
      ]
    },
    {
      "cell_type": "markdown",
      "metadata": {
        "id": "sC7YxOJ3kF7-",
        "colab_type": "text"
      },
      "source": [
        "### 4-2. Multinimial Logistic Regression(Softmax Regression) 소개\n",
        "- 동물종 분류하는 문제"
      ]
    },
    {
      "cell_type": "code",
      "metadata": {
        "id": "iczwT_XsxB0G",
        "colab_type": "code",
        "outputId": "08159c59-7be6-4ee5-ad97-6034a6645545",
        "colab": {
          "resources": {
            "http://localhost:8080/nbextensions/google.colab/files.js": {
              "data": "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",
              "ok": true,
              "headers": [
                [
                  "content-type",
                  "application/javascript"
                ]
              ],
              "status": 200,
              "status_text": ""
            }
          },
          "base_uri": "https://localhost:8080/",
          "height": 71
        }
      },
      "source": [
        "# data load\n",
        "from google.colab import files\n",
        "uploaded = files.upload()"
      ],
      "execution_count": 57,
      "outputs": [
        {
          "output_type": "display_data",
          "data": {
            "text/html": [
              "\n",
              "     <input type=\"file\" id=\"files-d7ec2ea7-8ba6-47a3-95bc-ced5420fe02a\" name=\"files[]\" multiple disabled />\n",
              "     <output id=\"result-d7ec2ea7-8ba6-47a3-95bc-ced5420fe02a\">\n",
              "      Upload widget is only available when the cell has been executed in the\n",
              "      current browser session. Please rerun this cell to enable.\n",
              "      </output>\n",
              "      <script src=\"/nbextensions/google.colab/files.js\"></script> "
            ],
            "text/plain": [
              "<IPython.core.display.HTML object>"
            ]
          },
          "metadata": {
            "tags": []
          }
        },
        {
          "output_type": "stream",
          "text": [
            "Saving zoo.data to zoo.data\n"
          ],
          "name": "stdout"
        }
      ]
    },
    {
      "cell_type": "code",
      "metadata": {
        "id": "F6zhHzg2xBx5",
        "colab_type": "code",
        "outputId": "4139a0f2-6ef8-4a9b-9b93-8c1edb31a583",
        "colab": {
          "base_uri": "https://localhost:8080/",
          "height": 51
        }
      },
      "source": [
        "# 서로다른 타입의 변수를 불러오려면 pandas의 DataFrame 형식으로 받으면 된다.\n",
        "import pandas as pd\n",
        "data = pd.read_table(\"zoo.data\", delimiter=',', \n",
        "                     names=[\"name\",\"hair\",\"feathers\",\"eggs\",\"milk\",\"airborne\",\n",
        "                            \"aquatic\",\"predator\",\"toothed\",\"backbone\",\"breathes\",\n",
        "                            \"venomous\",\"fins\",\"legs\",\"tail\",\"domestic\",\"catsize\",\n",
        "                            \"type\"])"
      ],
      "execution_count": 58,
      "outputs": [
        {
          "output_type": "stream",
          "text": [
            "/usr/local/lib/python3.6/dist-packages/ipykernel_launcher.py:6: FutureWarning: read_table is deprecated, use read_csv instead.\n",
            "  \n"
          ],
          "name": "stderr"
        }
      ]
    },
    {
      "cell_type": "code",
      "metadata": {
        "id": "xfASoCTJksm8",
        "colab_type": "code",
        "outputId": "50b92f35-096d-4356-c7b2-e08f161560ac",
        "colab": {
          "base_uri": "https://localhost:8080/",
          "height": 204
        }
      },
      "source": [
        "data.head() # 상위 5줄 까지만 확인"
      ],
      "execution_count": 59,
      "outputs": [
        {
          "output_type": "execute_result",
          "data": {
            "text/html": [
              "<div>\n",
              "<style scoped>\n",
              "    .dataframe tbody tr th:only-of-type {\n",
              "        vertical-align: middle;\n",
              "    }\n",
              "\n",
              "    .dataframe tbody tr th {\n",
              "        vertical-align: top;\n",
              "    }\n",
              "\n",
              "    .dataframe thead th {\n",
              "        text-align: right;\n",
              "    }\n",
              "</style>\n",
              "<table border=\"1\" class=\"dataframe\">\n",
              "  <thead>\n",
              "    <tr style=\"text-align: right;\">\n",
              "      <th></th>\n",
              "      <th>name</th>\n",
              "      <th>hair</th>\n",
              "      <th>feathers</th>\n",
              "      <th>eggs</th>\n",
              "      <th>milk</th>\n",
              "      <th>airborne</th>\n",
              "      <th>aquatic</th>\n",
              "      <th>predator</th>\n",
              "      <th>toothed</th>\n",
              "      <th>backbone</th>\n",
              "      <th>breathes</th>\n",
              "      <th>venomous</th>\n",
              "      <th>fins</th>\n",
              "      <th>legs</th>\n",
              "      <th>tail</th>\n",
              "      <th>domestic</th>\n",
              "      <th>catsize</th>\n",
              "      <th>type</th>\n",
              "    </tr>\n",
              "  </thead>\n",
              "  <tbody>\n",
              "    <tr>\n",
              "      <th>0</th>\n",
              "      <td>aardvark</td>\n",
              "      <td>1</td>\n",
              "      <td>0</td>\n",
              "      <td>0</td>\n",
              "      <td>1</td>\n",
              "      <td>0</td>\n",
              "      <td>0</td>\n",
              "      <td>1</td>\n",
              "      <td>1</td>\n",
              "      <td>1</td>\n",
              "      <td>1</td>\n",
              "      <td>0</td>\n",
              "      <td>0</td>\n",
              "      <td>4</td>\n",
              "      <td>0</td>\n",
              "      <td>0</td>\n",
              "      <td>1</td>\n",
              "      <td>1</td>\n",
              "    </tr>\n",
              "    <tr>\n",
              "      <th>1</th>\n",
              "      <td>antelope</td>\n",
              "      <td>1</td>\n",
              "      <td>0</td>\n",
              "      <td>0</td>\n",
              "      <td>1</td>\n",
              "      <td>0</td>\n",
              "      <td>0</td>\n",
              "      <td>0</td>\n",
              "      <td>1</td>\n",
              "      <td>1</td>\n",
              "      <td>1</td>\n",
              "      <td>0</td>\n",
              "      <td>0</td>\n",
              "      <td>4</td>\n",
              "      <td>1</td>\n",
              "      <td>0</td>\n",
              "      <td>1</td>\n",
              "      <td>1</td>\n",
              "    </tr>\n",
              "    <tr>\n",
              "      <th>2</th>\n",
              "      <td>bass</td>\n",
              "      <td>0</td>\n",
              "      <td>0</td>\n",
              "      <td>1</td>\n",
              "      <td>0</td>\n",
              "      <td>0</td>\n",
              "      <td>1</td>\n",
              "      <td>1</td>\n",
              "      <td>1</td>\n",
              "      <td>1</td>\n",
              "      <td>0</td>\n",
              "      <td>0</td>\n",
              "      <td>1</td>\n",
              "      <td>0</td>\n",
              "      <td>1</td>\n",
              "      <td>0</td>\n",
              "      <td>0</td>\n",
              "      <td>4</td>\n",
              "    </tr>\n",
              "    <tr>\n",
              "      <th>3</th>\n",
              "      <td>bear</td>\n",
              "      <td>1</td>\n",
              "      <td>0</td>\n",
              "      <td>0</td>\n",
              "      <td>1</td>\n",
              "      <td>0</td>\n",
              "      <td>0</td>\n",
              "      <td>1</td>\n",
              "      <td>1</td>\n",
              "      <td>1</td>\n",
              "      <td>1</td>\n",
              "      <td>0</td>\n",
              "      <td>0</td>\n",
              "      <td>4</td>\n",
              "      <td>0</td>\n",
              "      <td>0</td>\n",
              "      <td>1</td>\n",
              "      <td>1</td>\n",
              "    </tr>\n",
              "    <tr>\n",
              "      <th>4</th>\n",
              "      <td>boar</td>\n",
              "      <td>1</td>\n",
              "      <td>0</td>\n",
              "      <td>0</td>\n",
              "      <td>1</td>\n",
              "      <td>0</td>\n",
              "      <td>0</td>\n",
              "      <td>1</td>\n",
              "      <td>1</td>\n",
              "      <td>1</td>\n",
              "      <td>1</td>\n",
              "      <td>0</td>\n",
              "      <td>0</td>\n",
              "      <td>4</td>\n",
              "      <td>1</td>\n",
              "      <td>0</td>\n",
              "      <td>1</td>\n",
              "      <td>1</td>\n",
              "    </tr>\n",
              "  </tbody>\n",
              "</table>\n",
              "</div>"
            ],
            "text/plain": [
              "       name  hair  feathers  eggs  milk  airborne  aquatic  predator  toothed  \\\n",
              "0  aardvark     1         0     0     1         0        0         1        1   \n",
              "1  antelope     1         0     0     1         0        0         0        1   \n",
              "2      bass     0         0     1     0         0        1         1        1   \n",
              "3      bear     1         0     0     1         0        0         1        1   \n",
              "4      boar     1         0     0     1         0        0         1        1   \n",
              "\n",
              "   backbone  breathes  venomous  fins  legs  tail  domestic  catsize  type  \n",
              "0         1         1         0     0     4     0         0        1     1  \n",
              "1         1         1         0     0     4     1         0        1     1  \n",
              "2         1         0         0     1     0     1         0        0     4  \n",
              "3         1         1         0     0     4     0         0        1     1  \n",
              "4         1         1         0     0     4     1         0        1     1  "
            ]
          },
          "metadata": {
            "tags": []
          },
          "execution_count": 59
        }
      ]
    },
    {
      "cell_type": "code",
      "metadata": {
        "id": "UYucoKl4ks0K",
        "colab_type": "code",
        "colab": {}
      },
      "source": [
        "# 딥러닝에 불필요한 데이터인 \"name\"은 제외하면서 훈련데이터 80%, 테스트데이터 20%를 램덤하게 나누자\n",
        "import tensorflow as tf\n",
        "import numpy as np\n",
        "tf.set_random_seed(777)\n",
        "\n",
        "data1 = data.iloc[:,1:] # DataFrame에서 Slicing\n",
        "idx = data1.index\n",
        "\n",
        "train = data1.iloc[np.random.choice(idx, round(len(idx)*0.8), replace=False), :]\n",
        "test = data1.iloc[np.random.choice(len(idx), round(len(idx)*0.2), replace=False), :]"
      ],
      "execution_count": 0,
      "outputs": []
    },
    {
      "cell_type": "code",
      "metadata": {
        "id": "dupWcWnbqtg_",
        "colab_type": "code",
        "outputId": "007fb9a7-cfc5-4396-e482-ccbdcb918dad",
        "colab": {
          "base_uri": "https://localhost:8080/",
          "height": 51
        }
      },
      "source": [
        "# DataFrame을 연산에 편리한 Array로 변환\n",
        "Train = np.array(train, dtype = np.float32)\n",
        "Test = np.array(test, dtype = np.float32)\n",
        "\n",
        "# 훈련데이터 / 테스트데이터 분배\n",
        "x_train = Train[:, 0:-1]\n",
        "y_train = Train[:, -1].reshape(len(x_train),1)\n",
        "\n",
        "x_test = Test[:, 0:-1]\n",
        "y_test = Test[:, -1].reshape(len(x_test),1)\n",
        "\n",
        "print(x_train.shape, y_train.shape)\n",
        "print(x_test.shape, y_test.shape)"
      ],
      "execution_count": 61,
      "outputs": [
        {
          "output_type": "stream",
          "text": [
            "(81, 16) (81, 1)\n",
            "(20, 16) (20, 1)\n"
          ],
          "name": "stdout"
        }
      ]
    },
    {
      "cell_type": "code",
      "metadata": {
        "id": "TT90H_4SqtxJ",
        "colab_type": "code",
        "colab": {}
      },
      "source": [
        "typeNum = 7 # 동물종 타입 갯수\n",
        "\n",
        "# Softmax Function : H(x)\n",
        "X = tf.placeholder(tf.float32, [None, 16])\n",
        "Y = tf.placeholder(tf.int32, [None, 1])\n",
        "\n",
        "W = tf.Variable(tf.random_normal([16, typeNum]), name='weight')\n",
        "b = tf.Variable(tf.random_normal([typeNum]), name='bias')\n",
        "\n",
        "logits = tf.matmul(X,W)+b\n",
        "H = tf.nn.softmax(logits)"
      ],
      "execution_count": 0,
      "outputs": []
    },
    {
      "cell_type": "code",
      "metadata": {
        "id": "64qEB6x4qt_C",
        "colab_type": "code",
        "outputId": "bf072963-1a7b-402a-f630-4cdb453fd4d5",
        "colab": {
          "base_uri": "https://localhost:8080/",
          "height": 51
        }
      },
      "source": [
        "# one-hot encoding\n",
        "Y_one_hot = tf.one_hot(Y, typeNum)  \n",
        "print(\"one_hot:\", Y_one_hot)\n",
        "Y_one_hot = tf.reshape(Y_one_hot, [-1, typeNum])\n",
        "print(\"reshape one_hot:\", Y_one_hot)"
      ],
      "execution_count": 63,
      "outputs": [
        {
          "output_type": "stream",
          "text": [
            "one_hot: Tensor(\"one_hot:0\", shape=(?, 1, 7), dtype=float32)\n",
            "reshape one_hot: Tensor(\"Reshape:0\", shape=(?, 7), dtype=float32)\n"
          ],
          "name": "stdout"
        }
      ]
    },
    {
      "cell_type": "code",
      "metadata": {
        "id": "Q267whP0wTwc",
        "colab_type": "code",
        "colab": {}
      },
      "source": [
        "# cost\n",
        "cost = tf.reduce_mean(tf.nn.softmax_cross_entropy_with_logits_v2(labels = tf.stop_gradient([Y_one_hot]), \n",
        "                                                                 logits = logits))\n",
        "# gradient descent\n",
        "optimizer = tf.train.GradientDescentOptimizer(learning_rate=0.01).minimize(cost)\n",
        "\n",
        "# 2차원 배열에서 행단위로 가장 값이 큰 곳의 위치(인덱스)를 리턴\n",
        "# 즉, one-hot encoding 결과에서 가장 큰 확률값이 나온 인덱스(해당 동물종에 대한 번호)로 분류하는 작업\n",
        "prediction = tf.argmax(H, 1)\n",
        "correct_prediction = tf.equal(prediction, tf.argmax(Y_one_hot, 1))\n",
        "accuracy = tf.reduce_mean(tf.cast(correct_prediction, tf.float32))"
      ],
      "execution_count": 0,
      "outputs": []
    },
    {
      "cell_type": "code",
      "metadata": {
        "id": "txK_F_9iwT40",
        "colab_type": "code",
        "outputId": "3b26d381-088c-43c3-9675-5656990c6bc9",
        "colab": {
          "base_uri": "https://localhost:8080/",
          "height": 476
        }
      },
      "source": [
        "with tf.Session() as sess:\n",
        "    sess.run(tf.global_variables_initializer())\n",
        "\n",
        "    for step in range(5001):\n",
        "        _, cost_val, acc_val = sess.run([optimizer, cost, accuracy], feed_dict={X: x_train, Y: y_train})\n",
        "                                        \n",
        "        if step % 1000 == 0:\n",
        "            print(\"Step: {:5}\\tCost: {:.3f}\\tAcc: {:.2%}\".format(step, cost_val, acc_val))\n",
        "\n",
        "    # test데이터로 검증실시\n",
        "    pred, acc = sess.run([prediction,accuracy], feed_dict={X: x_test, Y: y_test})\n",
        "    \n",
        "    # test데이터에 대한 실제값과 예측값을 비교\n",
        "    for p, y in zip(pred, y_test.flatten()):\n",
        "        print(\"[{}] Prediction: {} True Y: {}\".format(p == int(y), p, int(y)))\n",
        "    print(\"Acc: {:.2%}\".format(acc))"
      ],
      "execution_count": 65,
      "outputs": [
        {
          "output_type": "stream",
          "text": [
            "Step:     0\tCost: 6.287\tAcc: 7.41%\n",
            "Step:  1000\tCost: 0.536\tAcc: 74.07%\n",
            "Step:  2000\tCost: 0.296\tAcc: 83.95%\n",
            "Step:  3000\tCost: 0.214\tAcc: 86.42%\n",
            "Step:  4000\tCost: 0.172\tAcc: 87.65%\n",
            "Step:  5000\tCost: 0.146\tAcc: 87.65%\n",
            "[True] Prediction: 4 True Y: 4\n",
            "[True] Prediction: 1 True Y: 1\n",
            "[True] Prediction: 6 True Y: 6\n",
            "[True] Prediction: 1 True Y: 1\n",
            "[True] Prediction: 1 True Y: 1\n",
            "[True] Prediction: 5 True Y: 5\n",
            "[True] Prediction: 1 True Y: 1\n",
            "[True] Prediction: 1 True Y: 1\n",
            "[True] Prediction: 1 True Y: 1\n",
            "[True] Prediction: 2 True Y: 2\n",
            "[True] Prediction: 5 True Y: 5\n",
            "[False] Prediction: 5 True Y: 7\n",
            "[True] Prediction: 1 True Y: 1\n",
            "[True] Prediction: 1 True Y: 1\n",
            "[True] Prediction: 1 True Y: 1\n",
            "[True] Prediction: 2 True Y: 2\n",
            "[True] Prediction: 1 True Y: 1\n",
            "[True] Prediction: 4 True Y: 4\n",
            "[True] Prediction: 2 True Y: 2\n",
            "[True] Prediction: 2 True Y: 2\n",
            "Acc: 95.00%\n"
          ],
          "name": "stdout"
        }
      ]
    },
    {
      "cell_type": "markdown",
      "metadata": {
        "id": "hPqhUkITJ1fX",
        "colab_type": "text"
      },
      "source": [
        "## 7교시\n",
        "\n",
        "---\n",
        "\n"
      ]
    },
    {
      "cell_type": "markdown",
      "metadata": {
        "id": "zvCGeqeoy-f5",
        "colab_type": "text"
      },
      "source": [
        "### 7-1. XOR문제 실습\n",
        "\n",
        "- XOR\n",
        " - 서로 다를때 True를 리턴하고, 서로 같으면 False를 리턴하는 논리\n",
        "\n",
        ">\n",
        "X|Y||Z\n",
        "---|---||---\n",
        "0|0||0\n",
        "0|1||1\n",
        "1|0||1\n",
        "1|1||0"
      ]
    },
    {
      "cell_type": "markdown",
      "metadata": {
        "id": "bO8hkCTC0FVi",
        "colab_type": "text"
      },
      "source": [
        "- 은닉층 미추가 했을 경우"
      ]
    },
    {
      "cell_type": "code",
      "metadata": {
        "id": "0cIkVkTZzasj",
        "colab_type": "code",
        "colab": {}
      },
      "source": [
        "import tensorflow as tf\n",
        "import numpy as np\n",
        "\n",
        "tf.set_random_seed(123) # 시드설정\n",
        "\n",
        "# XOR\n",
        "x_data = np.array([[0, 0], [0, 1], [1, 0], [1, 1]], dtype=np.float32)\n",
        "y_data = np.array([[0], [1], [1], [0]], dtype=np.float32)\n",
        "\n",
        "X = tf.placeholder(tf.float32, [None, 2])\n",
        "Y = tf.placeholder(tf.float32, [None, 1])\n",
        "\n",
        "W = tf.Variable(tf.random_normal([2, 1]), name=\"weight\")\n",
        "b = tf.Variable(tf.random_normal([1]), name=\"bias\")\n",
        "\n",
        "# Hypothesis using sigmoid: tf.div(1., 1. + tf.exp(tf.matmul(X, W)))\n",
        "H = tf.sigmoid(tf.matmul(X, W) + b)\n",
        "\n",
        "# cost/loss function\n",
        "cost = -tf.reduce_mean(Y * tf.log(H) + (1 - Y) * tf.log(1 - H))\n",
        "train = tf.train.GradientDescentOptimizer(learning_rate=0.1).minimize(cost)\n",
        "\n",
        "# Accuracy computation\n",
        "# True if hypothesis>0.5 else False\n",
        "predicted = tf.cast(H > 0.5, dtype=tf.float32)\n",
        "accuracy = tf.reduce_mean(tf.cast(tf.equal(predicted, Y), dtype=tf.float32))"
      ],
      "execution_count": 0,
      "outputs": []
    },
    {
      "cell_type": "code",
      "metadata": {
        "id": "wjr7QkYQ9K-A",
        "colab_type": "code",
        "outputId": "6a6e2af1-56f2-4432-c90c-8fac006915ff",
        "colab": {
          "base_uri": "https://localhost:8080/",
          "height": 289
        }
      },
      "source": [
        "# Launch graph\n",
        "with tf.Session() as sess:\n",
        "    # Initialize TensorFlow variables\n",
        "    sess.run(tf.global_variables_initializer())\n",
        "\n",
        "    for step in range(10001):\n",
        "        _, cost_val, w_val = sess.run(\n",
        "                  [train, cost, W], feed_dict={X: x_data, Y: y_data}\n",
        "        )\n",
        "        if step % 5000 == 0:\n",
        "            print(step, cost_val, w_val)\n",
        "\n",
        "    # Accuracy report\n",
        "    h, c, a = sess.run(\n",
        "              [H, predicted, accuracy], feed_dict={X: x_data, Y: y_data}\n",
        "    )\n",
        "    print(\"\\nHypothesis: \", h, \"\\nCorrect: \", c, \"\\nAccuracy: \", a)"
      ],
      "execution_count": 67,
      "outputs": [
        {
          "output_type": "stream",
          "text": [
            "0 0.8483199 [[1.151509  ]\n",
            " [0.42056292]]\n",
            "5000 0.6931472 [[1.3318018e-07]\n",
            " [1.3354943e-07]]\n",
            "10000 0.6931472 [[1.3318018e-07]\n",
            " [1.3354943e-07]]\n",
            "\n",
            "Hypothesis:  [[0.5]\n",
            " [0.5]\n",
            " [0.5]\n",
            " [0.5]] \n",
            "Correct:  [[0.]\n",
            " [0.]\n",
            " [0.]\n",
            " [0.]] \n",
            "Accuracy:  0.5\n"
          ],
          "name": "stdout"
        }
      ]
    },
    {
      "cell_type": "markdown",
      "metadata": {
        "id": "7fWNEhE38PJC",
        "colab_type": "text"
      },
      "source": [
        "- 은닉층 추가(XOR문제 해결법)"
      ]
    },
    {
      "cell_type": "code",
      "metadata": {
        "id": "9Vi3LTsc8Ojx",
        "colab_type": "code",
        "colab": {}
      },
      "source": [
        "import tensorflow as tf\n",
        "import numpy as np\n",
        "\n",
        "tf.set_random_seed(777)  # 시드설정\n",
        "\n",
        "x_data = np.array([[0, 0], [0, 1], [1, 0], [1, 1]], dtype=np.float32)\n",
        "y_data = np.array([[0], [1], [1], [0]], dtype=np.float32)\n",
        "\n",
        "X = tf.placeholder(tf.float32, [None, 2])\n",
        "Y = tf.placeholder(tf.float32, [None, 1])\n",
        "\n",
        "# 핵심부분\n",
        "W1 = tf.Variable(tf.random_normal([2, 2]), name='weight1')\n",
        "b1 = tf.Variable(tf.random_normal([2]), name='bias1')\n",
        "layer1 = tf.sigmoid(tf.matmul(X, W1) + b1)\n",
        "\n",
        "W2 = tf.Variable(tf.random_normal([2, 1]), name='weight2')\n",
        "b2 = tf.Variable(tf.random_normal([1]), name='bias2')\n",
        "H = tf.sigmoid(tf.matmul(layer1, W2) + b2)"
      ],
      "execution_count": 0,
      "outputs": []
    },
    {
      "cell_type": "code",
      "metadata": {
        "id": "qhUNKm0n-Fft",
        "colab_type": "code",
        "outputId": "7de4f61b-d7ca-415d-e839-8c42ac8b6109",
        "colab": {
          "base_uri": "https://localhost:8080/",
          "height": 289
        }
      },
      "source": [
        "# cost/loss function\n",
        "cost = -tf.reduce_mean(Y * tf.log(H) + (1 - Y) * tf.log(1 - H))\n",
        "train = tf.train.GradientDescentOptimizer(learning_rate=0.1).minimize(cost)\n",
        "\n",
        "# Accuracy computation\n",
        "# True if H > 0.5 else False\n",
        "predicted = tf.cast(H > 0.5, dtype=tf.float32)\n",
        "accuracy = tf.reduce_mean(tf.cast(tf.equal(predicted, Y), dtype=tf.float32))\n",
        "\n",
        "# Launch graph\n",
        "with tf.Session() as sess:\n",
        "    # Initialize TensorFlow variables\n",
        "    sess.run(tf.global_variables_initializer())\n",
        "\n",
        "    for step in range(10001):\n",
        "        _, cost_val = sess.run([train, cost], feed_dict={X: x_data, Y: y_data})\n",
        "        if step % 5000 == 0:\n",
        "            print(step, cost_val)\n",
        "\n",
        "    # Accuracy report\n",
        "    h, p, a = sess.run(\n",
        "        [H, predicted, accuracy], feed_dict={X: x_data, Y: y_data}\n",
        "    )\n",
        "    \n",
        "    print(f\"\\nHypothesis:\\n{h} \\nPredicted:\\n{p} \\nAccuracy:\\n{a}\")"
      ],
      "execution_count": 77,
      "outputs": [
        {
          "output_type": "stream",
          "text": [
            "0 0.69044924\n",
            "5000 0.05235087\n",
            "10000 0.014664634\n",
            "\n",
            "Hypothesis:\n",
            "[[0.01716198]\n",
            " [0.9867503 ]\n",
            " [0.98675805]\n",
            " [0.01456309]] \n",
            "Predicted:\n",
            "[[0.]\n",
            " [1.]\n",
            " [1.]\n",
            " [0.]] \n",
            "Accuracy:\n",
            "1.0\n"
          ],
          "name": "stdout"
        }
      ]
    },
    {
      "cell_type": "code",
      "metadata": {
        "id": "IdNwga8IJMya",
        "colab_type": "code",
        "colab": {}
      },
      "source": [
        "# XOR\n",
        "import tensorflow as tf\n",
        "import numpy as np\n",
        "tf.set_random_seed(777)\n",
        "learning_rate = 0.1\n",
        "x_data = [[0,0],\n",
        "          [0,1],\n",
        "          [1,0],\n",
        "          [1,1]]\n",
        "y_data = [[0],\n",
        "          [1],\n",
        "          [1],\n",
        "          [0]]\n",
        "x_data = np.array(x_data, dtype=np.float32)\n",
        "y_data = np.array(y_data, dtype=np.float32)\n",
        "\n",
        "X = tf.placeholder(tf.float32, [None,2])\n",
        "Y = tf.placeholder(tf.float32, [None,1])"
      ],
      "execution_count": 0,
      "outputs": []
    },
    {
      "cell_type": "code",
      "metadata": {
        "id": "n91Wr78yLauv",
        "colab_type": "code",
        "colab": {
          "base_uri": "https://localhost:8080/",
          "height": 3621
        },
        "outputId": "85570d0f-771c-4d16-e624-997813bd1e35"
      },
      "source": [
        "W = tf.Variable(tf.random_normal([2,1]), name='weight')\n",
        "b = tf.Variable(tf.random_normal([1]), name='bias')\n",
        "\n",
        "# Hypothesis using sigmoid function\n",
        "hypothesis = tf.sigmoid(tf.matmul(X,W)+b)\n",
        "\n",
        "# Cost/Loss function\n",
        "cost = -tf.reduce_mean(Y * tf.log(hypothesis) + (1-Y) * tf.log(1-hypothesis))\n",
        "\n",
        "train = tf.train.GradientDescentOptimizer(learning_rate=learning_rate).minimize(cost)\n",
        "predicted = tf.cast(hypothesis > 0.5, dtype=tf.float32)\n",
        "accuracy = tf.reduce_mean(tf.cast(tf.equal(predicted, Y), dtype=tf.float32))\n",
        "\n",
        "# Launch graph\n",
        "with tf.Session() as sess:\n",
        "    sess.run(tf.global_variables_initializer())\n",
        "    \n",
        "    for step in range(10001):\n",
        "        sess.run(train, feed_dict={X: x_data, Y: y_data})\n",
        "        if step % 100 == 0:\n",
        "            print(step, \n",
        "                  sess.run(cost, feed_dict={X: x_data, Y: y_data}),\n",
        "                  sess.run(W))\n",
        "    # Accuracy report\n",
        "    h, c, a = sess.run([hypothesis, predicted, accuracy],\n",
        "                       feed_dict={X: x_data, Y: y_data})\n",
        "    print(\"\\nHypothesis: \", h, \"\\nCorrect: \", c, \"\\nAccuracy: \", a)"
      ],
      "execution_count": 71,
      "outputs": [
        {
          "output_type": "stream",
          "text": [
            "0 0.8890228 [[-0.23280458]\n",
            " [-0.95733535]]\n",
            "100 0.726444 [[-0.47320104]\n",
            " [-0.8765252 ]]\n",
            "200 0.70835835 [[-0.35923225]\n",
            " [-0.57540834]]\n",
            "300 0.70006466 [[-0.25965223]\n",
            " [-0.37527496]]\n",
            "400 0.6962869 [[-0.18398118]\n",
            " [-0.24577835]]\n",
            "500 0.69457245 [[-0.12871236]\n",
            " [-0.16173196]]\n",
            "600 0.6937946 [[-0.0892565 ]\n",
            " [-0.10689756]]\n",
            "700 0.69344157 [[-0.06150388]\n",
            " [-0.07092828]]\n",
            "800 0.69328105 [[-0.04218154]\n",
            " [-0.04721626]]\n",
            "900 0.6932081 [[-0.02882701]\n",
            " [-0.03151664]]\n",
            "1000 0.69317496 [[-0.019647  ]\n",
            " [-0.02108383]]\n",
            "1100 0.6931598 [[-0.01336228]\n",
            " [-0.01412985]]\n",
            "1200 0.6931529 [[-0.00907313]\n",
            " [-0.00948318]]\n",
            "1300 0.6931498 [[-0.00615291]\n",
            " [-0.00637195]]\n",
            "1400 0.6931484 [[-0.00416841]\n",
            " [-0.00428543]]\n",
            "1500 0.6931477 [[-0.00282176]\n",
            " [-0.0028843 ]]\n",
            "1600 0.6931475 [[-0.00190899]\n",
            " [-0.00194238]]\n",
            "1700 0.6931473 [[-0.00129085]\n",
            " [-0.00130869]]\n",
            "1800 0.69314724 [[-0.00087253]\n",
            " [-0.00088206]]\n",
            "1900 0.6931471 [[-0.0005896 ]\n",
            " [-0.00059469]]\n",
            "2000 0.6931472 [[-0.00039831]\n",
            " [-0.00040103]]\n",
            "2100 0.6931472 [[-0.00026904]\n",
            " [-0.0002705 ]]\n",
            "2200 0.6931471 [[-0.00018171]\n",
            " [-0.00018249]]\n",
            "2300 0.6931472 [[-0.00012269]\n",
            " [-0.00012311]]\n",
            "2400 0.6931472 [[-8.2839608e-05]\n",
            " [-8.3066225e-05]]\n",
            "2500 0.6931472 [[-5.592661e-05]\n",
            " [-5.604296e-05]]\n",
            "2600 0.6931472 [[-3.7751652e-05]\n",
            " [-3.7815862e-05]]\n",
            "2700 0.6931472 [[-2.5479054e-05]\n",
            " [-2.5511968e-05]]\n",
            "2800 0.6931472 [[-1.7198483e-05]\n",
            " [-1.7216496e-05]]\n",
            "2900 0.6931472 [[-1.1603095e-05]\n",
            " [-1.1612169e-05]]\n",
            "3000 0.69314724 [[-7.824163e-06]\n",
            " [-7.830256e-06]]\n",
            "3100 0.6931472 [[-5.2790442e-06]\n",
            " [-5.2821574e-06]]\n",
            "3200 0.6931472 [[-3.568387e-06]\n",
            " [-3.567031e-06]]\n",
            "3300 0.6931472 [[-2.4090768e-06]\n",
            " [-2.4077208e-06]]\n",
            "3400 0.6931472 [[-1.6044103e-06]\n",
            " [-1.6045443e-06]]\n",
            "3500 0.6931472 [[-1.1096879e-06]\n",
            " [-1.1098219e-06]]\n",
            "3600 0.69314724 [[-7.4013712e-07]\n",
            " [-7.4027116e-07]]\n",
            "3700 0.69314724 [[-4.8830742e-07]\n",
            " [-4.8844146e-07]]\n",
            "3800 0.6931472 [[-3.1247308e-07]\n",
            " [-3.1260711e-07]]\n",
            "3900 0.6931472 [[-2.2455589e-07]\n",
            " [-2.2468993e-07]]\n",
            "4000 0.6931472 [[-1.7538187e-07]\n",
            " [-1.7551591e-07]]\n",
            "4100 0.6931472 [[-1.3365846e-07]\n",
            " [-1.3379250e-07]]\n",
            "4200 0.6931472 [[-1.3365846e-07]\n",
            " [-1.3379250e-07]]\n",
            "4300 0.6931472 [[-1.3365846e-07]\n",
            " [-1.3379250e-07]]\n",
            "4400 0.6931472 [[-1.3365846e-07]\n",
            " [-1.3379250e-07]]\n",
            "4500 0.6931472 [[-1.3365846e-07]\n",
            " [-1.3379250e-07]]\n",
            "4600 0.6931472 [[-1.3365846e-07]\n",
            " [-1.3379250e-07]]\n",
            "4700 0.6931472 [[-1.3365846e-07]\n",
            " [-1.3379250e-07]]\n",
            "4800 0.6931472 [[-1.3365846e-07]\n",
            " [-1.3379250e-07]]\n",
            "4900 0.6931472 [[-1.3365846e-07]\n",
            " [-1.3379250e-07]]\n",
            "5000 0.6931472 [[-1.3365846e-07]\n",
            " [-1.3379250e-07]]\n",
            "5100 0.6931472 [[-1.3365846e-07]\n",
            " [-1.3379250e-07]]\n",
            "5200 0.6931472 [[-1.3365846e-07]\n",
            " [-1.3379250e-07]]\n",
            "5300 0.6931472 [[-1.3365846e-07]\n",
            " [-1.3379250e-07]]\n",
            "5400 0.6931472 [[-1.3365846e-07]\n",
            " [-1.3379250e-07]]\n",
            "5500 0.6931472 [[-1.3365846e-07]\n",
            " [-1.3379250e-07]]\n",
            "5600 0.6931472 [[-1.3365846e-07]\n",
            " [-1.3379250e-07]]\n",
            "5700 0.6931472 [[-1.3365846e-07]\n",
            " [-1.3379250e-07]]\n",
            "5800 0.6931472 [[-1.3365846e-07]\n",
            " [-1.3379250e-07]]\n",
            "5900 0.6931472 [[-1.3365846e-07]\n",
            " [-1.3379250e-07]]\n",
            "6000 0.6931472 [[-1.3365846e-07]\n",
            " [-1.3379250e-07]]\n",
            "6100 0.6931472 [[-1.3365846e-07]\n",
            " [-1.3379250e-07]]\n",
            "6200 0.6931472 [[-1.3365846e-07]\n",
            " [-1.3379250e-07]]\n",
            "6300 0.6931472 [[-1.3365846e-07]\n",
            " [-1.3379250e-07]]\n",
            "6400 0.6931472 [[-1.3365846e-07]\n",
            " [-1.3379250e-07]]\n",
            "6500 0.6931472 [[-1.3365846e-07]\n",
            " [-1.3379250e-07]]\n",
            "6600 0.6931472 [[-1.3365846e-07]\n",
            " [-1.3379250e-07]]\n",
            "6700 0.6931472 [[-1.3365846e-07]\n",
            " [-1.3379250e-07]]\n",
            "6800 0.6931472 [[-1.3365846e-07]\n",
            " [-1.3379250e-07]]\n",
            "6900 0.6931472 [[-1.3365846e-07]\n",
            " [-1.3379250e-07]]\n",
            "7000 0.6931472 [[-1.3365846e-07]\n",
            " [-1.3379250e-07]]\n",
            "7100 0.6931472 [[-1.3365846e-07]\n",
            " [-1.3379250e-07]]\n",
            "7200 0.6931472 [[-1.3365846e-07]\n",
            " [-1.3379250e-07]]\n",
            "7300 0.6931472 [[-1.3365846e-07]\n",
            " [-1.3379250e-07]]\n",
            "7400 0.6931472 [[-1.3365846e-07]\n",
            " [-1.3379250e-07]]\n",
            "7500 0.6931472 [[-1.3365846e-07]\n",
            " [-1.3379250e-07]]\n",
            "7600 0.6931472 [[-1.3365846e-07]\n",
            " [-1.3379250e-07]]\n",
            "7700 0.6931472 [[-1.3365846e-07]\n",
            " [-1.3379250e-07]]\n",
            "7800 0.6931472 [[-1.3365846e-07]\n",
            " [-1.3379250e-07]]\n",
            "7900 0.6931472 [[-1.3365846e-07]\n",
            " [-1.3379250e-07]]\n",
            "8000 0.6931472 [[-1.3365846e-07]\n",
            " [-1.3379250e-07]]\n",
            "8100 0.6931472 [[-1.3365846e-07]\n",
            " [-1.3379250e-07]]\n",
            "8200 0.6931472 [[-1.3365846e-07]\n",
            " [-1.3379250e-07]]\n",
            "8300 0.6931472 [[-1.3365846e-07]\n",
            " [-1.3379250e-07]]\n",
            "8400 0.6931472 [[-1.3365846e-07]\n",
            " [-1.3379250e-07]]\n",
            "8500 0.6931472 [[-1.3365846e-07]\n",
            " [-1.3379250e-07]]\n",
            "8600 0.6931472 [[-1.3365846e-07]\n",
            " [-1.3379250e-07]]\n",
            "8700 0.6931472 [[-1.3365846e-07]\n",
            " [-1.3379250e-07]]\n",
            "8800 0.6931472 [[-1.3365846e-07]\n",
            " [-1.3379250e-07]]\n",
            "8900 0.6931472 [[-1.3365846e-07]\n",
            " [-1.3379250e-07]]\n",
            "9000 0.6931472 [[-1.3365846e-07]\n",
            " [-1.3379250e-07]]\n",
            "9100 0.6931472 [[-1.3365846e-07]\n",
            " [-1.3379250e-07]]\n",
            "9200 0.6931472 [[-1.3365846e-07]\n",
            " [-1.3379250e-07]]\n",
            "9300 0.6931472 [[-1.3365846e-07]\n",
            " [-1.3379250e-07]]\n",
            "9400 0.6931472 [[-1.3365846e-07]\n",
            " [-1.3379250e-07]]\n",
            "9500 0.6931472 [[-1.3365846e-07]\n",
            " [-1.3379250e-07]]\n",
            "9600 0.6931472 [[-1.3365846e-07]\n",
            " [-1.3379250e-07]]\n",
            "9700 0.6931472 [[-1.3365846e-07]\n",
            " [-1.3379250e-07]]\n",
            "9800 0.6931472 [[-1.3365846e-07]\n",
            " [-1.3379250e-07]]\n",
            "9900 0.6931472 [[-1.3365846e-07]\n",
            " [-1.3379250e-07]]\n",
            "10000 0.6931472 [[-1.3365846e-07]\n",
            " [-1.3379250e-07]]\n",
            "\n",
            "Hypothesis:  [[0.5]\n",
            " [0.5]\n",
            " [0.5]\n",
            " [0.5]] \n",
            "Correct:  [[0.]\n",
            " [0.]\n",
            " [0.]\n",
            " [0.]] \n",
            "Accuracy:  0.5\n"
          ],
          "name": "stdout"
        }
      ]
    },
    {
      "cell_type": "code",
      "metadata": {
        "id": "xwB7ImCtKvhm",
        "colab_type": "code",
        "colab": {}
      },
      "source": [
        "with tf.name_scope(\"layer1\") as scope:\n",
        "    W1 = tf.Variable(tf.random_normal([2,2]), name = 'weight1')\n",
        "    b1 = tf.Variable(tf.random_normal([2]), name = 'bias1')\n",
        "    layer1 = tf.sigmoid(tf.matmul(X,W1)+b1)\n",
        "    \n",
        "    w1_hist = tf.summary.histogram(\"weights1\",W1)\n",
        "    b1_hist = tf.summary.histogram(\"biases1\",b1)\n",
        "    layer1_hist = tf.summary.histogram(\"layer1\",layer1)\n",
        "    \n",
        "with tf.name_scope(\"layer2\") as scope:\n",
        "    W2 = tf.Variable(tf.random_normal([2,1]), name = 'weight2')\n",
        "    b2 = tf.Variable(tf.random_normal([1]), name = 'bias2')\n",
        "    hypothesis = tf.sigmoid(tf.matmul(layer1,W2)+b2)\n",
        "    \n",
        "    w2_hist = tf.summary.histogram(\"weights2\",W2)\n",
        "    b2_hist = tf.summary.histogram(\"biases2\",b2)\n",
        "    hypothesis_hist = tf.summary.histogram(\"hypothesis\", hypothesis)\n",
        "    \n",
        "with tf.name_scope(\"cost\") as scope:\n",
        "    cost = -tf.reduce_mean(Y * tf.log(hypothesis) + (1-Y) * tf.log(1-hypothesis))\n",
        "    cost_summ = tf.summary.scalar(\"cost\", cost)\n",
        "    \n",
        "with tf.name_scope(\"train\") as scope:\n",
        "    train = tf.train.AdamOptimizer(learning_rate=learning_rate).minimize(cost)"
      ],
      "execution_count": 0,
      "outputs": []
    },
    {
      "cell_type": "code",
      "metadata": {
        "id": "3slLG-yzKwea",
        "colab_type": "code",
        "outputId": "5c22d2e3-5fb0-42cd-c6c4-91f9b823b40d",
        "colab": {
          "base_uri": "https://localhost:8080/",
          "height": 340
        }
      },
      "source": [
        "predicted = tf.cast(hypothesis > 0.5, dtype = tf.float32)\n",
        "accuracy = tf.reduce_mean(tf.cast(tf.equal(predicted, Y), dtype = tf.float32))\n",
        "accuracy_summ = tf.summary.scalar(\"accuracy\", accuracy)\n",
        "\n",
        "with tf.Session() as sess:\n",
        "    merged_summary = tf.summary.merge_all()\n",
        "    writer = tf.summary.FileWriter(\"drive/ColabNotebooks/tb_logs\")\n",
        "    writer.add_graph(sess.graph)\n",
        "    \n",
        "    sess.run(tf.global_variables_initializer())\n",
        "    \n",
        "    for step in range(10001):\n",
        "        summary, _ = sess.run([merged_summary, train], \n",
        "                              feed_dict={X: x_data, Y: y_data})\n",
        "        writer.add_summary(summary, global_step = step)\n",
        "        \n",
        "        if step%5000 == 0:\n",
        "            print(step, sess.run(cost, feed_dict={X:x_data, Y:y_data}),\n",
        "                 sess.run([W1,W2]))\n",
        "          \n",
        "    h,c,a = sess.run([hypothesis, predicted, accuracy],\n",
        "                    feed_dict={X:x_data, Y:y_data})\n",
        "    print(\"\\nHypothesis: \",h,\"\\nCorrect: \",c,\"\\nAccuracy: \",a)"
      ],
      "execution_count": 73,
      "outputs": [
        {
          "output_type": "stream",
          "text": [
            "0 0.6919452 [array([[-0.39113355,  0.9613498 ],\n",
            "       [ 0.9765206 , -1.5952718 ]], dtype=float32), array([[-0.5465901 ],\n",
            "       [-0.26285326]], dtype=float32)]\n",
            "5000 3.035413e-05 [array([[ 10.911097,  11.54908 ],\n",
            "       [-10.58645 , -11.440054]], dtype=float32), array([[ 21.006083],\n",
            "       [-21.083496]], dtype=float32)]\n",
            "10000 2.2202755e-06 [array([[ 11.773522,  12.375487],\n",
            "       [-11.446335, -12.269897]], dtype=float32), array([[ 26.20585],\n",
            "       [-26.29056]], dtype=float32)]\n",
            "\n",
            "Hypothesis:  [[2.0349103e-06]\n",
            " [9.9999774e-01]\n",
            " [9.9999750e-01]\n",
            " [2.0682962e-06]] \n",
            "Correct:  [[0.]\n",
            " [1.]\n",
            " [1.]\n",
            " [0.]] \n",
            "Accuracy:  1.0\n"
          ],
          "name": "stdout"
        }
      ]
    }
  ]
}