{
  "nbformat": 4,
  "nbformat_minor": 0,
  "metadata": {
    "colab": {
      "name": "TensorFlow_1일차",
      "version": "0.3.2",
      "provenance": [],
      "collapsed_sections": []
    },
    "kernelspec": {
      "name": "python3",
      "display_name": "Python 3"
    },
    "accelerator": "TPU"
  },
  "cells": [
    {
      "cell_type": "markdown",
      "metadata": {
        "id": "C0QvVhPXJTuZ",
        "colab_type": "text"
      },
      "source": [
        "# TensorFlow+DeepLearning 소스코드 - 1일차\n",
        "- 1일차 수업에 사용된 소스코드를 정리"
      ]
    },
    {
      "cell_type": "markdown",
      "metadata": {
        "id": "Z_iFGo5RRM11",
        "colab_type": "toc"
      },
      "source": [
        ">[TensorFlow+DeepLearning 소스코드 - 1일차](#scrollTo=C0QvVhPXJTuZ)\n",
        "\n",
        ">>[1교시](#scrollTo=ahGFuVBERtRe)\n",
        "\n",
        ">>>[1-5. TensorFlow 작동원리](#scrollTo=VhNLu6m8dD4L)\n",
        "\n",
        ">>>>[EX01. 선형함수](#scrollTo=vNC7F4ACMKTz)\n",
        "\n",
        ">>>>[EX02. 비선형함수](#scrollTo=FKmJoHmqp1O6)\n",
        "\n",
        ">>[2교시](#scrollTo=MvxDiDotSW4Q)\n",
        "\n",
        ">>>[2-2. Colab 활용](#scrollTo=br9fd6LZawAU)\n",
        "\n",
        ">>>>[Python은 동적언어](#scrollTo=dRVj9NYlcvEn)\n",
        "\n",
        ">>>>[NumPy 소개](#scrollTo=_JSoJN8nd9c_)\n",
        "\n",
        ">>>>[NumPy로 숫자배열 생성](#scrollTo=j1Bkc0d0eIjX)\n",
        "\n",
        ">>>>[NumPy 주요 명령어](#scrollTo=mqN2Hsa67Wxg)\n",
        "\n",
        ">>>>[NumPy 패키지 활용 / Matplotlib로 시각화](#scrollTo=Esoo3bGMdl_j)\n",
        "\n",
        ">>>>[로컬에서 Colab으로 업로드](#scrollTo=esTYNc6VNHaz)\n",
        "\n",
        ">>>>[Colab에서 로컬로 다운로드](#scrollTo=lwKcsUbnV0ox)\n",
        "\n",
        ">>[3교시](#scrollTo=gVV9pvWxe9Xl)\n",
        "\n",
        ">>>[3-1. Linear Regression 소개](#scrollTo=CpqdYiMTSaqw)\n",
        "\n",
        ">>>[3-3. Multi-Linear Regression 소개](#scrollTo=9T-w41BctLH8)\n",
        "\n",
        ">>[4교시](#scrollTo=SyayScOjfDic)\n",
        "\n",
        ">>>[4-1. Logistic Regression(Classification) 소개](#scrollTo=S1Nz027hfIJO)\n",
        "\n",
        ">>>[4-2. Multinimial Logistic Regression(Softmax Regression) 소개](#scrollTo=sC7YxOJ3kF7-)\n",
        "\n",
        ">>[EX02. XOR](#scrollTo=hPqhUkITJ1fX)\n",
        "\n"
      ]
    },
    {
      "cell_type": "markdown",
      "metadata": {
        "id": "ahGFuVBERtRe",
        "colab_type": "text"
      },
      "source": [
        "## 1교시\n",
        "\n",
        "---\n",
        "\n"
      ]
    },
    {
      "cell_type": "markdown",
      "metadata": {
        "id": "VhNLu6m8dD4L",
        "colab_type": "text"
      },
      "source": [
        "### 1-5. TensorFlow 작동원리"
      ]
    },
    {
      "cell_type": "markdown",
      "metadata": {
        "id": "vNC7F4ACMKTz",
        "colab_type": "text"
      },
      "source": [
        "#### EX01. 선형함수\n",
        ">>\n",
        "$f(x,y) = x+y+1$"
      ]
    },
    {
      "cell_type": "code",
      "metadata": {
        "id": "96OFSinfMyd1",
        "colab_type": "code",
        "colab": {}
      },
      "source": [
        "# tensorflow 사용\n",
        "import tensorflow as tf\n",
        "tf.set_random_seed(777)"
      ],
      "execution_count": 0,
      "outputs": []
    },
    {
      "cell_type": "code",
      "metadata": {
        "id": "qBs7KMQjNckR",
        "colab_type": "code",
        "colab": {}
      },
      "source": [
        "# 변수(미지수) X,Y / 상수 C = 1\n",
        "X = tf.placeholder(tf.float32)\n",
        "Y = tf.placeholder(tf.float32)\n",
        "C = tf.constant(1.0)"
      ],
      "execution_count": 0,
      "outputs": []
    },
    {
      "cell_type": "code",
      "metadata": {
        "id": "Ee1nO5LakFA-",
        "colab_type": "code",
        "colab": {}
      },
      "source": [
        "# 선형함수\n",
        "F = tf.add(tf.add(X,Y),C)"
      ],
      "execution_count": 0,
      "outputs": []
    },
    {
      "cell_type": "code",
      "metadata": {
        "id": "Ff3wz1hSNcq3",
        "colab_type": "code",
        "outputId": "0af9ffd0-4c96-4062-ae43-5e347735df0d",
        "colab": {
          "base_uri": "https://localhost:8080/",
          "height": 34
        }
      },
      "source": [
        "# 세션을 열어서 X = 1, Y = 1을 대입해서 결과를 확인해 보자\n",
        "with tf.Session() as sess:\n",
        "    \n",
        "    writer = tf.summary.FileWriter(\"drive/ColabNotebooks/tb_logs\")\n",
        "    writer.add_graph(sess.graph)\n",
        "    \n",
        "    sess.run(tf.global_variables_initializer())\n",
        "    print(sess.run(F, feed_dict = {X:1,Y:1}))"
      ],
      "execution_count": 0,
      "outputs": [
        {
          "output_type": "stream",
          "text": [
            "3.0\n"
          ],
          "name": "stdout"
        }
      ]
    },
    {
      "cell_type": "markdown",
      "metadata": {
        "id": "FKmJoHmqp1O6",
        "colab_type": "text"
      },
      "source": [
        "#### EX02. 비선형함수\n",
        ">>\n",
        "$g(x,y)=xy+1$"
      ]
    },
    {
      "cell_type": "code",
      "metadata": {
        "id": "xCW6ow1Qp0pG",
        "colab_type": "code",
        "colab": {}
      },
      "source": [
        "# tensorflow 사용\n",
        "import tensorflow as tf\n",
        "tf.set_random_seed(777)"
      ],
      "execution_count": 0,
      "outputs": []
    },
    {
      "cell_type": "code",
      "metadata": {
        "id": "Ghm6FTy-s6B5",
        "colab_type": "code",
        "colab": {}
      },
      "source": [
        "# 변수(미지수) X,Y / 상수 C = 1\n",
        "X = tf.placeholder(tf.float32)\n",
        "Y = tf.placeholder(tf.float32)\n",
        "C = tf.constant(1.0)"
      ],
      "execution_count": 0,
      "outputs": []
    },
    {
      "cell_type": "code",
      "metadata": {
        "id": "QdbpZy7ds6GD",
        "colab_type": "code",
        "colab": {}
      },
      "source": [
        "# 비선형함수\n",
        "G = tf.add(tf.multiply(X,Y),C)"
      ],
      "execution_count": 0,
      "outputs": []
    },
    {
      "cell_type": "code",
      "metadata": {
        "id": "HIHO7FOis6JQ",
        "colab_type": "code",
        "outputId": "ba7807aa-215b-46a2-c4e6-8a15efd26240",
        "colab": {
          "base_uri": "https://localhost:8080/",
          "height": 34
        }
      },
      "source": [
        "# 세션을 열어서 X = 1, Y = 2을 대입해서 결과를 확인해 보자\n",
        "with tf.Session() as sess:\n",
        "    \n",
        "    writer = tf.summary.FileWriter(\"drive/ColabNotebooks/tb_logs\")\n",
        "    writer.add_graph(sess.graph)\n",
        "    \n",
        "    sess.run(tf.global_variables_initializer())\n",
        "    print(sess.run(G, feed_dict = {X:1,Y:2}))"
      ],
      "execution_count": 0,
      "outputs": [
        {
          "output_type": "stream",
          "text": [
            "3.0\n"
          ],
          "name": "stdout"
        }
      ]
    },
    {
      "cell_type": "markdown",
      "metadata": {
        "id": "EZwkIiaTp2PI",
        "colab_type": "text"
      },
      "source": [
        ">>\n",
        "TensorBoard Code"
      ]
    },
    {
      "cell_type": "code",
      "metadata": {
        "id": "XcVfn1N7Nct-",
        "colab_type": "code",
        "outputId": "10d5db99-b833-4551-e7a2-63f03a96fb52",
        "colab": {
          "base_uri": "https://localhost:8080/",
          "height": 272
        }
      },
      "source": [
        "LOG_DIR = 'drive/ColabNotebooks/tb_logs'\n",
        "\t\n",
        "!wget https://bin.equinox.io/c/4VmDzA7iaHb/ngrok-stable-linux-amd64.zip\n",
        "!unzip ngrok-stable-linux-amd64.zip\n",
        "\t\n",
        "import os\n",
        "if not os.path.exists(LOG_DIR):\n",
        "    os.makedirs(LOG_DIR)\n",
        "\t  \n",
        "get_ipython().system_raw('tensorboard --logdir {} --host 0.0.0.0 --port 6006 &'.format(LOG_DIR))\n",
        "\t\n",
        "get_ipython().system_raw('./ngrok http 6006 &')\n",
        "\t\n",
        "!curl -s http://localhost:4040/api/tunnels | python3 -c \"import sys, json; print(json.load(sys.stdin)['tunnels'][0]['public_url'])\""
      ],
      "execution_count": 0,
      "outputs": [
        {
          "output_type": "stream",
          "text": [
            "--2019-05-02 13:26:45--  https://bin.equinox.io/c/4VmDzA7iaHb/ngrok-stable-linux-amd64.zip\n",
            "Resolving bin.equinox.io (bin.equinox.io)... 52.7.169.168, 54.152.127.232, 52.73.94.166, ...\n",
            "Connecting to bin.equinox.io (bin.equinox.io)|52.7.169.168|:443... connected.\n",
            "HTTP request sent, awaiting response... 200 OK\n",
            "Length: 14991793 (14M) [application/octet-stream]\n",
            "Saving to: ‘ngrok-stable-linux-amd64.zip.1’\n",
            "\n",
            "ngrok-stable-linux- 100%[===================>]  14.30M  18.2MB/s    in 0.8s    \n",
            "\n",
            "2019-05-02 13:26:46 (18.2 MB/s) - ‘ngrok-stable-linux-amd64.zip.1’ saved [14991793/14991793]\n",
            "\n",
            "Archive:  ngrok-stable-linux-amd64.zip\n",
            "replace ngrok? [y]es, [n]o, [A]ll, [N]one, [r]ename: A\n",
            "  inflating: ngrok                   \n",
            "https://fec15bae.ngrok.io\n"
          ],
          "name": "stdout"
        }
      ]
    },
    {
      "cell_type": "code",
      "metadata": {
        "id": "_24fhgWuf68A",
        "colab_type": "code",
        "outputId": "14fb901b-7fc8-4b18-b16a-62a61b13f69b",
        "colab": {
          "base_uri": "https://localhost:8080/",
          "height": 102
        }
      },
      "source": [
        "ls -l"
      ],
      "execution_count": 0,
      "outputs": [
        {
          "output_type": "stream",
          "text": [
            "total 44500\n",
            "drwxr-xr-x 3 root root     4096 May  2 12:39 \u001b[0m\u001b[01;34mdrive\u001b[0m/\n",
            "-rwxr-xr-x 1 root root 30563780 Apr 24 06:04 \u001b[01;32mngrok\u001b[0m*\n",
            "-rw-r--r-- 1 root root 14991793 May  2 13:25 ngrok-stable-linux-amd64.zip\n",
            "drwxr-xr-x 1 root root     4096 Apr 29 16:32 \u001b[01;34msample_data\u001b[0m/\n"
          ],
          "name": "stdout"
        }
      ]
    },
    {
      "cell_type": "markdown",
      "metadata": {
        "id": "MvxDiDotSW4Q",
        "colab_type": "text"
      },
      "source": [
        "## 2교시\n",
        "\n",
        "---\n",
        "\n"
      ]
    },
    {
      "cell_type": "markdown",
      "metadata": {
        "id": "br9fd6LZawAU",
        "colab_type": "text"
      },
      "source": [
        "### 2-2. Colab 활용"
      ]
    },
    {
      "cell_type": "markdown",
      "metadata": {
        "id": "dRVj9NYlcvEn",
        "colab_type": "text"
      },
      "source": [
        "#### Python은 동적언어"
      ]
    },
    {
      "cell_type": "code",
      "metadata": {
        "id": "0qVpdrx-blq1",
        "colab_type": "code",
        "outputId": "50585c7a-5519-4b81-b2b7-2ae56f991c59",
        "colab": {
          "base_uri": "https://localhost:8080/",
          "height": 34
        }
      },
      "source": [
        "a = 10\n",
        "a"
      ],
      "execution_count": 0,
      "outputs": [
        {
          "output_type": "execute_result",
          "data": {
            "text/plain": [
              "10"
            ]
          },
          "metadata": {
            "tags": []
          },
          "execution_count": 1
        }
      ]
    },
    {
      "cell_type": "code",
      "metadata": {
        "id": "IM24vqVlbqM7",
        "colab_type": "code",
        "outputId": "58e3145f-ecb4-4d5e-9bdc-b7fb82d3576c",
        "colab": {
          "base_uri": "https://localhost:8080/",
          "height": 34
        }
      },
      "source": [
        "type(a)"
      ],
      "execution_count": 0,
      "outputs": [
        {
          "output_type": "execute_result",
          "data": {
            "text/plain": [
              "int"
            ]
          },
          "metadata": {
            "tags": []
          },
          "execution_count": 2
        }
      ]
    },
    {
      "cell_type": "code",
      "metadata": {
        "id": "kMikuKVmbp0_",
        "colab_type": "code",
        "outputId": "af780063-3b74-45ed-bdfe-1e43c027f80a",
        "colab": {
          "base_uri": "https://localhost:8080/",
          "height": 51
        }
      },
      "source": [
        "a = \"Hello Colab!\"\n",
        "print(a)\n",
        "type(a)"
      ],
      "execution_count": 0,
      "outputs": [
        {
          "output_type": "stream",
          "text": [
            "Hello Colab!\n"
          ],
          "name": "stdout"
        },
        {
          "output_type": "execute_result",
          "data": {
            "text/plain": [
              "str"
            ]
          },
          "metadata": {
            "tags": []
          },
          "execution_count": 3
        }
      ]
    },
    {
      "cell_type": "markdown",
      "metadata": {
        "id": "_JSoJN8nd9c_",
        "colab_type": "text"
      },
      "source": [
        "#### NumPy 소개"
      ]
    },
    {
      "cell_type": "code",
      "metadata": {
        "id": "qvRKj9QHb0s6",
        "colab_type": "code",
        "colab": {}
      },
      "source": [
        "import numpy as np"
      ],
      "execution_count": 0,
      "outputs": []
    },
    {
      "cell_type": "code",
      "metadata": {
        "id": "UOHg-Scfb0qM",
        "colab_type": "code",
        "outputId": "70131f06-c82d-42fb-8cb4-3bcd0faa291e",
        "colab": {
          "base_uri": "https://localhost:8080/",
          "height": 34
        }
      },
      "source": [
        "np.__version__"
      ],
      "execution_count": 0,
      "outputs": [
        {
          "output_type": "execute_result",
          "data": {
            "text/plain": [
              "'1.16.3'"
            ]
          },
          "metadata": {
            "tags": []
          },
          "execution_count": 7
        }
      ]
    },
    {
      "cell_type": "markdown",
      "metadata": {
        "id": "j1Bkc0d0eIjX",
        "colab_type": "text"
      },
      "source": [
        "#### NumPy로 숫자배열 생성"
      ]
    },
    {
      "cell_type": "markdown",
      "metadata": {
        "id": "TBPROybgelvw",
        "colab_type": "text"
      },
      "source": [
        ">>\n",
        "$v=[0,1,2]$"
      ]
    },
    {
      "cell_type": "code",
      "metadata": {
        "id": "xmEMp5oMb0m2",
        "colab_type": "code",
        "outputId": "fc605511-f0f5-4c50-a67b-9d874e70ee83",
        "colab": {
          "base_uri": "https://localhost:8080/",
          "height": 67
        }
      },
      "source": [
        "# Vector\n",
        "# - Rank : 1\n",
        "v = np.array([0,1,2]) # 정수\n",
        "v1 = np.array([0,1,2], np.float32) # 부동소수\n",
        "v2 = np.array([0.0,1.0,2.0]) # 부동소수\n",
        "\n",
        "print(v)\n",
        "print(v1)\n",
        "print(v2)"
      ],
      "execution_count": 0,
      "outputs": [
        {
          "output_type": "stream",
          "text": [
            "[0 1 2]\n",
            "[0. 1. 2.]\n",
            "[0. 1. 2.]\n"
          ],
          "name": "stdout"
        }
      ]
    },
    {
      "cell_type": "markdown",
      "metadata": {
        "id": "uwIqafyxe7EK",
        "colab_type": "text"
      },
      "source": [
        ">>\n",
        "$m=\\begin{bmatrix} 0 & 1 & 2 \\\\ 3 & 4 & 5 \\\\ 6 & 7 & 8 \\end{bmatrix}$ "
      ]
    },
    {
      "cell_type": "code",
      "metadata": {
        "id": "W0ZwMHYteffe",
        "colab_type": "code",
        "outputId": "bb8313aa-2395-40fe-e998-7233fdfdcc60",
        "colab": {
          "base_uri": "https://localhost:8080/",
          "height": 118
        }
      },
      "source": [
        "# Matrix\n",
        "# - Rank : 2\n",
        "m = np.array([[0, 1, 2],\n",
        "              [3, 4, 5], \n",
        "              [6, 7, 8]])\n",
        "m1 = m.astype(np.float64) # 변수타입 변경 : 정수 -> 부동소수\n",
        "\n",
        "print(m)\n",
        "print(m1)"
      ],
      "execution_count": 0,
      "outputs": [
        {
          "output_type": "stream",
          "text": [
            "[[0 1 2]\n",
            " [3 4 5]\n",
            " [6 7 8]]\n",
            "[[0. 1. 2.]\n",
            " [3. 4. 5.]\n",
            " [6. 7. 8.]]\n"
          ],
          "name": "stdout"
        }
      ]
    },
    {
      "cell_type": "markdown",
      "metadata": {
        "id": "kGwUEDLlkTAD",
        "colab_type": "text"
      },
      "source": [
        ">>\n",
        "$t=\\begin{bmatrix} \\begin{bmatrix} 0 & 1 \\\\ 2 & 1 \\\\ 4 & 1 \\end{bmatrix} \\\\ \\begin{bmatrix} 1 & 2 \\\\ 3 & 2 \\\\ 5 & 2 \\end{bmatrix} \\\\ \\begin{bmatrix} 2 & 3 \\\\ 4 & 3 \\\\ 6 & 3 \\end{bmatrix} \\end{bmatrix}$"
      ]
    },
    {
      "cell_type": "code",
      "metadata": {
        "id": "BXp1--WFefmo",
        "colab_type": "code",
        "outputId": "9c54701b-155a-45e8-affe-ba6fdda9e5f7",
        "colab": {
          "base_uri": "https://localhost:8080/",
          "height": 202
        }
      },
      "source": [
        "# 3-Tensor\n",
        "# - Rank : 3\n",
        "t = np.array([ [ [0,1], [2,1], [4,1] ], \n",
        "               [ [1,2], [3,2], [5,2] ], \n",
        "               [ [2,3], [4,3], [6,3] ] ])\n",
        "print(t)"
      ],
      "execution_count": 0,
      "outputs": [
        {
          "output_type": "stream",
          "text": [
            "[[[0 1]\n",
            "  [2 1]\n",
            "  [4 1]]\n",
            "\n",
            " [[1 2]\n",
            "  [3 2]\n",
            "  [5 2]]\n",
            "\n",
            " [[2 3]\n",
            "  [4 3]\n",
            "  [6 3]]]\n"
          ],
          "name": "stdout"
        }
      ]
    },
    {
      "cell_type": "markdown",
      "metadata": {
        "id": "mqN2Hsa67Wxg",
        "colab_type": "text"
      },
      "source": [
        "#### NumPy 주요 명령어\n",
        "- (강의에서 사용할 위주)"
      ]
    },
    {
      "cell_type": "code",
      "metadata": {
        "id": "FgVoCfFV7bYe",
        "colab_type": "code",
        "outputId": "d18bffc8-3aec-4aa5-b4db-333375ba1e4f",
        "colab": {
          "base_uri": "https://localhost:8080/",
          "height": 118
        }
      },
      "source": [
        "import numpy as np\n",
        "print(\"v:\\n\",v)\n",
        "print(\"m:\\n\",m)"
      ],
      "execution_count": 0,
      "outputs": [
        {
          "output_type": "stream",
          "text": [
            "v:\n",
            " [0 1 2]\n",
            "m:\n",
            " [[0 1 2]\n",
            " [3 4 5]\n",
            " [6 7 8]]\n"
          ],
          "name": "stdout"
        }
      ]
    },
    {
      "cell_type": "code",
      "metadata": {
        "id": "Ne7HLq-M7bk8",
        "colab_type": "code",
        "outputId": "3edf1484-fbd3-44a1-db65-b8bb7231810b",
        "colab": {
          "base_uri": "https://localhost:8080/",
          "height": 84
        }
      },
      "source": [
        "# Indexing\n",
        "print(v[0])\n",
        "print(v[1])\n",
        "print(v[2])\n",
        "print(v[-1]) # 제일 마지막 원소"
      ],
      "execution_count": 0,
      "outputs": [
        {
          "output_type": "stream",
          "text": [
            "0\n",
            "1\n",
            "2\n",
            "2\n"
          ],
          "name": "stdout"
        }
      ]
    },
    {
      "cell_type": "code",
      "metadata": {
        "id": "NcbBa9WS8nuo",
        "colab_type": "code",
        "outputId": "59ee937b-fa72-43e1-dba2-6fcbd6d28666",
        "colab": {
          "base_uri": "https://localhost:8080/",
          "height": 67
        }
      },
      "source": [
        "print(m[0,0])\n",
        "print(m[1,2])\n",
        "print(m[-1,1])"
      ],
      "execution_count": 0,
      "outputs": [
        {
          "output_type": "stream",
          "text": [
            "0\n",
            "5\n",
            "7\n"
          ],
          "name": "stdout"
        }
      ]
    },
    {
      "cell_type": "code",
      "metadata": {
        "id": "Pfx7ik-i8tPJ",
        "colab_type": "code",
        "outputId": "4a5e823e-6cf2-45b2-e7ca-ba300bc19b32",
        "colab": {
          "base_uri": "https://localhost:8080/",
          "height": 67
        }
      },
      "source": [
        "# Slicing\n",
        "# v[start_index:end_index+1]\n",
        "print(v[0:2])\n",
        "print(v[1:3])\n",
        "print(v[0:-1])"
      ],
      "execution_count": 0,
      "outputs": [
        {
          "output_type": "stream",
          "text": [
            "[0 1]\n",
            "[1 2]\n",
            "[0 1]\n"
          ],
          "name": "stdout"
        }
      ]
    },
    {
      "cell_type": "code",
      "metadata": {
        "id": "EDwC5EZw8tVW",
        "colab_type": "code",
        "outputId": "1a38bd00-b9c9-4126-cf4c-5f058293e525",
        "colab": {
          "base_uri": "https://localhost:8080/",
          "height": 134
        }
      },
      "source": [
        "print(m[0:2, 0:2],\"\\n\")\n",
        "print(m[1:3, 0:2],\"\\n\")\n",
        "print(m[1,1:3])"
      ],
      "execution_count": 0,
      "outputs": [
        {
          "output_type": "stream",
          "text": [
            "[[0 1]\n",
            " [3 4]] \n",
            "\n",
            "[[3 4]\n",
            " [6 7]] \n",
            "\n",
            "[4 5]\n"
          ],
          "name": "stdout"
        }
      ]
    },
    {
      "cell_type": "code",
      "metadata": {
        "id": "wGgdN9X46W5V",
        "colab_type": "code",
        "outputId": "416781c9-66ad-48bb-fa54-8f75bb0e14db",
        "colab": {
          "base_uri": "https://localhost:8080/",
          "height": 67
        }
      },
      "source": [
        "# ndim : 차원 확인\n",
        "print(\"v:\", v.ndim)\n",
        "print(\"m:\", m.ndim)\n",
        "print(\"t:\", t.ndim)"
      ],
      "execution_count": 0,
      "outputs": [
        {
          "output_type": "stream",
          "text": [
            "v: 1\n",
            "m: 2\n",
            "t: 3\n"
          ],
          "name": "stdout"
        }
      ]
    },
    {
      "cell_type": "code",
      "metadata": {
        "id": "NsirUJpx8yY9",
        "colab_type": "code",
        "outputId": "a0ddbbe9-3fd5-41c4-83db-699b521911e9",
        "colab": {
          "base_uri": "https://localhost:8080/",
          "height": 67
        }
      },
      "source": [
        "# Shape : 모양 확인\n",
        "print(\"v:\",v.shape)\n",
        "print(\"m:\",m.shape)\n",
        "print(\"t:\",t.shape)"
      ],
      "execution_count": 0,
      "outputs": [
        {
          "output_type": "stream",
          "text": [
            "v: (3,)\n",
            "m: (3, 3)\n",
            "t: (3, 3, 2)\n"
          ],
          "name": "stdout"
        }
      ]
    },
    {
      "cell_type": "code",
      "metadata": {
        "id": "KbvaByWR9DuM",
        "colab_type": "code",
        "outputId": "0d109c9d-144f-4857-9128-4045cedba5db",
        "colab": {
          "base_uri": "https://localhost:8080/",
          "height": 50
        }
      },
      "source": [
        "print(\"rownum:\",m.shape[0])\n",
        "print(\"colnum:\",m.shape[1])"
      ],
      "execution_count": 0,
      "outputs": [
        {
          "output_type": "stream",
          "text": [
            "rownum: 3\n",
            "colnum: 3\n"
          ],
          "name": "stdout"
        }
      ]
    },
    {
      "cell_type": "code",
      "metadata": {
        "id": "p7_N6pgSBEQG",
        "colab_type": "code",
        "outputId": "2a03ad9e-adf1-4d7d-94b8-205514e096c2",
        "colab": {
          "base_uri": "https://localhost:8080/",
          "height": 202
        }
      },
      "source": [
        "# Reshape : 모양 재설정\n",
        "print(v.reshape(3,1), \"\\n\",v.shape,\"=>\",v.reshape(3,1).shape,\"\\n\")\n",
        "print(m.reshape(1,9), \"\\n\",m.shape, \"=>\",m.reshape(1,9).shape,\"\\n\")\n",
        "print(t.reshape(1,2,9), \"\\n\",t.shape, \"=>\",t.reshape(1,2,9).shape)"
      ],
      "execution_count": 0,
      "outputs": [
        {
          "output_type": "stream",
          "text": [
            "[[0]\n",
            " [1]\n",
            " [2]] \n",
            " (3,) => (3, 1) \n",
            "\n",
            "[[0 1 2 3 4 5 6 7 8]] \n",
            " (3, 3) => (1, 9) \n",
            "\n",
            "[[[0 1 2 1 4 1 1 2 3]\n",
            "  [2 5 2 2 3 4 3 6 3]]] \n",
            " (3, 3, 2) => (1, 2, 9)\n"
          ],
          "name": "stdout"
        }
      ]
    },
    {
      "cell_type": "code",
      "metadata": {
        "id": "ocPMMiGtBEfF",
        "colab_type": "code",
        "outputId": "e0397844-a7ee-4203-ba73-d8836a993bf5",
        "colab": {
          "base_uri": "https://localhost:8080/",
          "height": 151
        }
      },
      "source": [
        "# Broadcasting : numpy array의 핵심적인 장점으로 벡터화 계산을 가능하게 해줘서 연산시 발생하는 부하가 적게 설계되어 있다\n",
        "print(v,\"* 2 =\",v*2,\"\\n\")\n",
        "print(m,\"+\",v,\"\\n=\",m + v)"
      ],
      "execution_count": 0,
      "outputs": [
        {
          "output_type": "stream",
          "text": [
            "[0 1 2] * 2 = [0 2 4] \n",
            "\n",
            "[[0 1 2]\n",
            " [3 4 5]\n",
            " [6 7 8]] + [0 1 2] \n",
            "= [[ 0  2  4]\n",
            " [ 3  5  7]\n",
            " [ 6  8 10]]\n"
          ],
          "name": "stdout"
        }
      ]
    },
    {
      "cell_type": "markdown",
      "metadata": {
        "id": "Esoo3bGMdl_j",
        "colab_type": "text"
      },
      "source": [
        "#### NumPy 패키지 활용 / Matplotlib로 시각화"
      ]
    },
    {
      "cell_type": "code",
      "metadata": {
        "id": "A1j40JS_b0uP",
        "colab_type": "code",
        "outputId": "cbbc88f1-4794-433f-be35-bfa3a33015da",
        "colab": {
          "base_uri": "https://localhost:8080/",
          "height": 281
        }
      },
      "source": [
        "import numpy as np\n",
        "from matplotlib import pyplot as plt\n",
        "\n",
        "ys = 200 + np.random.randn(100)\n",
        "x = [x for x in range(len(ys))]\n",
        "\n",
        "plt.plot(x, ys, '-')\n",
        "plt.fill_between(x, ys, 195, where = (ys > 195), facecolor = 'g', alpha = 0.6)\n",
        "\n",
        "plt.title(\"Fills and Alpha Example\")\n",
        "plt.show()"
      ],
      "execution_count": 0,
      "outputs": [
        {
          "output_type": "display_data",
          "data": {
            "image/png": "[encoded data removed]",
            "text/plain": [
              "<Figure size 432x288 with 1 Axes>"
            ]
          },
          "metadata": {
            "tags": []
          }
        }
      ]
    },
    {
      "cell_type": "markdown",
      "metadata": {
        "id": "esTYNc6VNHaz",
        "colab_type": "text"
      },
      "source": [
        "#### 로컬에서 Colab으로 업로드 "
      ]
    },
    {
      "cell_type": "code",
      "metadata": {
        "id": "ZvJyUfuweftx",
        "colab_type": "code",
        "outputId": "e5e4d290-e561-489d-95a6-f88f689440f6",
        "colab": {
          "resources": {
            "http://localhost:8080/nbextensions/google.colab/files.js": {
              "data": "Ly8gQ29weXJpZ2h0IDIwMTcgR29vZ2xlIExMQwovLwovLyBMaWNlbnNlZCB1bmRlciB0aGUgQXBhY2hlIExpY2Vuc2UsIFZlcnNpb24gMi4wICh0aGUgIkxpY2Vuc2UiKTsKLy8geW91IG1heSBub3QgdXNlIHRoaXMgZmlsZSBleGNlcHQgaW4gY29tcGxpYW5jZSB3aXRoIHRoZSBMaWNlbnNlLgovLyBZb3UgbWF5IG9idGFpbiBhIGNvcHkgb2YgdGhlIExpY2Vuc2UgYXQKLy8KLy8gICAgICBodHRwOi8vd3d3LmFwYWNoZS5vcmcvbGljZW5zZXMvTElDRU5TRS0yLjAKLy8KLy8gVW5sZXNzIHJlcXVpcmVkIGJ5IGFwcGxpY2FibGUgbGF3IG9yIGFncmVlZCB0byBpbiB3cml0aW5nLCBzb2Z0d2FyZQovLyBkaXN0cmlidXRlZCB1bmRlciB0aGUgTGljZW5zZSBpcyBkaXN0cmlidXRlZCBvbiBhbiAiQVMgSVMiIEJBU0lTLAovLyBXSVRIT1VUIFdBUlJBTlRJRVMgT1IgQ09ORElUSU9OUyBPRiBBTlkgS0lORCwgZWl0aGVyIGV4cHJlc3Mgb3IgaW1wbGllZC4KLy8gU2VlIHRoZSBMaWNlbnNlIGZvciB0aGUgc3BlY2lmaWMgbGFuZ3VhZ2UgZ292ZXJuaW5nIHBlcm1pc3Npb25zIGFuZAovLyBsaW1pdGF0aW9ucyB1bmRlciB0aGUgTGljZW5zZS4KCi8qKgogKiBAZmlsZW92ZXJ2aWV3IEhlbHBlcnMgZm9yIGdvb2dsZS5jb2xhYiBQeXRob24gbW9kdWxlLgogKi8KKGZ1bmN0aW9uKHNjb3BlKSB7CmZ1bmN0aW9uIHNwYW4odGV4dCwgc3R5bGVBdHRyaWJ1dGVzID0ge30pIHsKICBjb25zdCBlbGVtZW50ID0gZG9jdW1lbnQuY3JlYXRlRWxlbWVudCgnc3BhbicpOwogIGVsZW1lbnQudGV4dENvbnRlbnQgPSB0ZXh0OwogIGZvciAoY29uc3Qga2V5IG9mIE9iamVjdC5rZXlzKHN0eWxlQXR0cmlidXRlcykpIHsKICAgIGVsZW1lbnQuc3R5bGVba2V5XSA9IHN0eWxlQXR0cmlidXRlc1trZXldOwogIH0KICByZXR1cm4gZWxlbWVudDsKfQoKLy8gTWF4IG51bWJlciBvZiBieXRlcyB3aGljaCB3aWxsIGJlIHVwbG9hZGVkIGF0IGEgdGltZS4KY29uc3QgTUFYX1BBWUxPQURfU0laRSA9IDEwMCAqIDEwMjQ7Ci8vIE1heCBhbW91bnQgb2YgdGltZSB0byBibG9jayB3YWl0aW5nIGZvciB0aGUgdXNlci4KY29uc3QgRklMRV9DSEFOR0VfVElNRU9VVF9NUyA9IDMwICogMTAwMDsKCmZ1bmN0aW9uIF91cGxvYWRGaWxlcyhpbnB1dElkLCBvdXRwdXRJZCkgewogIGNvbnN0IHN0ZXBzID0gdXBsb2FkRmlsZXNTdGVwKGlucHV0SWQsIG91dHB1dElkKTsKICBjb25zdCBvdXRwdXRFbGVtZW50ID0gZG9jdW1lbnQuZ2V0RWxlbWVudEJ5SWQob3V0cHV0SWQpOwogIC8vIENhY2hlIHN0ZXBzIG9uIHRoZSBvdXRwdXRFbGVtZW50IHRvIG1ha2UgaXQgYXZhaWxhYmxlIGZvciB0aGUgbmV4dCBjYWxsCiAgLy8gdG8gdXBsb2FkRmlsZXNDb250aW51ZSBmcm9tIFB5dGhvbi4KICBvdXRwdXRFbGVtZW50LnN0ZXBzID0gc3RlcHM7CgogIHJldHVybiBfdXBsb2FkRmlsZXNDb250aW51ZShvdXRwdXRJZCk7Cn0KCi8vIFRoaXMgaXMgcm91Z2hseSBhbiBhc3luYyBnZW5lcmF0b3IgKG5vdCBzdXBwb3J0ZWQgaW4gdGhlIGJyb3dzZXIgeWV0KSwKLy8gd2hlcmUgdGhlcmUgYXJlIG11bHRpcGxlIGFzeW5jaHJvbm91cyBzdGVwcyBhbmQgdGhlIFB5dGhvbiBzaWRlIGlzIGdvaW5nCi8vIHRvIHBvbGwgZm9yIGNvbXBsZXRpb24gb2YgZWFjaCBzdGVwLgovLyBUaGlzIHVzZXMgYSBQcm9taXNlIHRvIGJsb2NrIHRoZSBweXRob24gc2lkZSBvbiBjb21wbGV0aW9uIG9mIGVhY2ggc3RlcCwKLy8gdGhlbiBwYXNzZXMgdGhlIHJlc3VsdCBvZiB0aGUgcHJldmlvdXMgc3RlcCBhcyB0aGUgaW5wdXQgdG8gdGhlIG5leHQgc3RlcC4KZnVuY3Rpb24gX3VwbG9hZEZpbGVzQ29udGludWUob3V0cHV0SWQpIHsKICBjb25zdCBvdXRwdXRFbGVtZW50ID0gZG9jdW1lbnQuZ2V0RWxlbWVudEJ5SWQob3V0cHV0SWQpOwogIGNvbnN0IHN0ZXBzID0gb3V0cHV0RWxlbWVudC5zdGVwczsKCiAgY29uc3QgbmV4dCA9IHN0ZXBzLm5leHQob3V0cHV0RWxlbWVudC5sYXN0UHJvbWlzZVZhbHVlKTsKICByZXR1cm4gUHJvbWlzZS5yZXNvbHZlKG5leHQudmFsdWUucHJvbWlzZSkudGhlbigodmFsdWUpID0+IHsKICAgIC8vIENhY2hlIHRoZSBsYXN0IHByb21pc2UgdmFsdWUgdG8gbWFrZSBpdCBhdmFpbGFibGUgdG8gdGhlIG5leHQKICAgIC8vIHN0ZXAgb2YgdGhlIGdlbmVyYXRvci4KICAgIG91dHB1dEVsZW1lbnQubGFzdFByb21pc2VWYWx1ZSA9IHZhbHVlOwogICAgcmV0dXJuIG5leHQudmFsdWUucmVzcG9uc2U7CiAgfSk7Cn0KCi8qKgogKiBHZW5lcmF0b3IgZnVuY3Rpb24gd2hpY2ggaXMgY2FsbGVkIGJldHdlZW4gZWFjaCBhc3luYyBzdGVwIG9mIHRoZSB1cGxvYWQKICogcHJvY2Vzcy4KICogQHBhcmFtIHtzdHJpbmd9IGlucHV0SWQgRWxlbWVudCBJRCBvZiB0aGUgaW5wdXQgZmlsZSBwaWNrZXIgZWxlbWVudC4KICogQHBhcmFtIHtzdHJpbmd9IG91dHB1dElkIEVsZW1lbnQgSUQgb2YgdGhlIG91dHB1dCBkaXNwbGF5LgogKiBAcmV0dXJuIHshSXRlcmFibGU8IU9iamVjdD59IEl0ZXJhYmxlIG9mIG5leHQgc3RlcHMuCiAqLwpmdW5jdGlvbiogdXBsb2FkRmlsZXNTdGVwKGlucHV0SWQsIG91dHB1dElkKSB7CiAgY29uc3QgaW5wdXRFbGVtZW50ID0gZG9jdW1lbnQuZ2V0RWxlbWVudEJ5SWQoaW5wdXRJZCk7CiAgaW5wdXRFbGVtZW50LmRpc2FibGVkID0gZmFsc2U7CgogIGNvbnN0IG91dHB1dEVsZW1lbnQgPSBkb2N1bWVudC5nZXRFbGVtZW50QnlJZChvdXRwdXRJZCk7CiAgb3V0cHV0RWxlbWVudC5pbm5lckhUTUwgPSAnJzsKCiAgY29uc3QgcGlja2VkUHJvbWlzZSA9IG5ldyBQcm9taXNlKChyZXNvbHZlKSA9PiB7CiAgICBpbnB1dEVsZW1lbnQuYWRkRXZlbnRMaXN0ZW5lcignY2hhbmdlJywgKGUpID0+IHsKICAgICAgcmVzb2x2ZShlLnRhcmdldC5maWxlcyk7CiAgICB9KTsKICB9KTsKCiAgY29uc3QgY2FuY2VsID0gZG9jdW1lbnQuY3JlYXRlRWxlbWVudCgnYnV0dG9uJyk7CiAgaW5wdXRFbGVtZW50LnBhcmVudEVsZW1lbnQuYXBwZW5kQ2hpbGQoY2FuY2VsKTsKICBjYW5jZWwudGV4dENvbnRlbnQgPSAnQ2FuY2VsIHVwbG9hZCc7CiAgY29uc3QgY2FuY2VsUHJvbWlzZSA9IG5ldyBQcm9taXNlKChyZXNvbHZlKSA9PiB7CiAgICBjYW5jZWwub25jbGljayA9ICgpID0+IHsKICAgICAgcmVzb2x2ZShudWxsKTsKICAgIH07CiAgfSk7CgogIC8vIENhbmNlbCB1cGxvYWQgaWYgdXNlciBoYXNuJ3QgcGlja2VkIGFueXRoaW5nIGluIHRpbWVvdXQuCiAgY29uc3QgdGltZW91dFByb21pc2UgPSBuZXcgUHJvbWlzZSgocmVzb2x2ZSkgPT4gewogICAgc2V0VGltZW91dCgoKSA9PiB7CiAgICAgIHJlc29sdmUobnVsbCk7CiAgICB9LCBGSUxFX0NIQU5HRV9USU1FT1VUX01TKTsKICB9KTsKCiAgLy8gV2FpdCBmb3IgdGhlIHVzZXIgdG8gcGljayB0aGUgZmlsZXMuCiAgY29uc3QgZmlsZXMgPSB5aWVsZCB7CiAgICBwcm9taXNlOiBQcm9taXNlLnJhY2UoW3BpY2tlZFByb21pc2UsIHRpbWVvdXRQcm9taXNlLCBjYW5jZWxQcm9taXNlXSksCiAgICByZXNwb25zZTogewogICAgICBhY3Rpb246ICdzdGFydGluZycsCiAgICB9CiAgfTsKCiAgaWYgKCFmaWxlcykgewogICAgcmV0dXJuIHsKICAgICAgcmVzcG9uc2U6IHsKICAgICAgICBhY3Rpb246ICdjb21wbGV0ZScsCiAgICAgIH0KICAgIH07CiAgfQoKICBjYW5jZWwucmVtb3ZlKCk7CgogIC8vIERpc2FibGUgdGhlIGlucHV0IGVsZW1lbnQgc2luY2UgZnVydGhlciBwaWNrcyBhcmUgbm90IGFsbG93ZWQuCiAgaW5wdXRFbGVtZW50LmRpc2FibGVkID0gdHJ1ZTsKCiAgZm9yIChjb25zdCBmaWxlIG9mIGZpbGVzKSB7CiAgICBjb25zdCBsaSA9IGRvY3VtZW50LmNyZWF0ZUVsZW1lbnQoJ2xpJyk7CiAgICBsaS5hcHBlbmQoc3BhbihmaWxlLm5hbWUsIHtmb250V2VpZ2h0OiAnYm9sZCd9KSk7CiAgICBsaS5hcHBlbmQoc3BhbigKICAgICAgICBgKCR7ZmlsZS50eXBlIHx8ICduL2EnfSkgLSAke2ZpbGUuc2l6ZX0gYnl0ZXMsIGAgKwogICAgICAgIGBsYXN0IG1vZGlmaWVkOiAkewogICAgICAgICAgICBmaWxlLmxhc3RNb2RpZmllZERhdGUgPyBmaWxlLmxhc3RNb2RpZmllZERhdGUudG9Mb2NhbGVEYXRlU3RyaW5nKCkgOgogICAgICAgICAgICAgICAgICAgICAgICAgICAgICAgICAgICAnbi9hJ30gLSBgKSk7CiAgICBjb25zdCBwZXJjZW50ID0gc3BhbignMCUgZG9uZScpOwogICAgbGkuYXBwZW5kQ2hpbGQocGVyY2VudCk7CgogICAgb3V0cHV0RWxlbWVudC5hcHBlbmRDaGlsZChsaSk7CgogICAgY29uc3QgZmlsZURhdGFQcm9taXNlID0gbmV3IFByb21pc2UoKHJlc29sdmUpID0+IHsKICAgICAgY29uc3QgcmVhZGVyID0gbmV3IEZpbGVSZWFkZXIoKTsKICAgICAgcmVhZGVyLm9ubG9hZCA9IChlKSA9PiB7CiAgICAgICAgcmVzb2x2ZShlLnRhcmdldC5yZXN1bHQpOwogICAgICB9OwogICAgICByZWFkZXIucmVhZEFzQXJyYXlCdWZmZXIoZmlsZSk7CiAgICB9KTsKICAgIC8vIFdhaXQgZm9yIHRoZSBkYXRhIHRvIGJlIHJlYWR5LgogICAgbGV0IGZpbGVEYXRhID0geWllbGQgewogICAgICBwcm9taXNlOiBmaWxlRGF0YVByb21pc2UsCiAgICAgIHJlc3BvbnNlOiB7CiAgICAgICAgYWN0aW9uOiAnY29udGludWUnLAogICAgICB9CiAgICB9OwoKICAgIC8vIFVzZSBhIGNodW5rZWQgc2VuZGluZyB0byBhdm9pZCBtZXNzYWdlIHNpemUgbGltaXRzLiBTZWUgYi82MjExNTY2MC4KICAgIGxldCBwb3NpdGlvbiA9IDA7CiAgICB3aGlsZSAocG9zaXRpb24gPCBmaWxlRGF0YS5ieXRlTGVuZ3RoKSB7CiAgICAgIGNvbnN0IGxlbmd0aCA9IE1hdGgubWluKGZpbGVEYXRhLmJ5dGVMZW5ndGggLSBwb3NpdGlvbiwgTUFYX1BBWUxPQURfU0laRSk7CiAgICAgIGNvbnN0IGNodW5rID0gbmV3IFVpbnQ4QXJyYXkoZmlsZURhdGEsIHBvc2l0aW9uLCBsZW5ndGgpOwogICAgICBwb3NpdGlvbiArPSBsZW5ndGg7CgogICAgICBjb25zdCBiYXNlNjQgPSBidG9hKFN0cmluZy5mcm9tQ2hhckNvZGUuYXBwbHkobnVsbCwgY2h1bmspKTsKICAgICAgeWllbGQgewogICAgICAgIHJlc3BvbnNlOiB7CiAgICAgICAgICBhY3Rpb246ICdhcHBlbmQnLAogICAgICAgICAgZmlsZTogZmlsZS5uYW1lLAogICAgICAgICAgZGF0YTogYmFzZTY0LAogICAgICAgIH0sCiAgICAgIH07CiAgICAgIHBlcmNlbnQudGV4dENvbnRlbnQgPQogICAgICAgICAgYCR7TWF0aC5yb3VuZCgocG9zaXRpb24gLyBmaWxlRGF0YS5ieXRlTGVuZ3RoKSAqIDEwMCl9JSBkb25lYDsKICAgIH0KICB9CgogIC8vIEFsbCBkb25lLgogIHlpZWxkIHsKICAgIHJlc3BvbnNlOiB7CiAgICAgIGFjdGlvbjogJ2NvbXBsZXRlJywKICAgIH0KICB9Owp9CgpzY29wZS5nb29nbGUgPSBzY29wZS5nb29nbGUgfHwge307CnNjb3BlLmdvb2dsZS5jb2xhYiA9IHNjb3BlLmdvb2dsZS5jb2xhYiB8fCB7fTsKc2NvcGUuZ29vZ2xlLmNvbGFiLl9maWxlcyA9IHsKICBfdXBsb2FkRmlsZXMsCiAgX3VwbG9hZEZpbGVzQ29udGludWUsCn07Cn0pKHNlbGYpOwo=",
              "ok": true,
              "headers": [
                [
                  "content-type",
                  "application/javascript"
                ]
              ],
              "status": 200,
              "status_text": ""
            }
          },
          "base_uri": "https://localhost:8080/",
          "height": 71
        }
      },
      "source": [
        "# colab에서 파일 입출력 패키지\n",
        "from google.colab import files\n",
        "uploaded = files.upload()"
      ],
      "execution_count": 0,
      "outputs": [
        {
          "output_type": "display_data",
          "data": {
            "text/html": [
              "\n",
              "     <input type=\"file\" id=\"files-fdbcedeb-7635-43e9-9f87-04ebbb2613e1\" name=\"files[]\" multiple disabled />\n",
              "     <output id=\"result-fdbcedeb-7635-43e9-9f87-04ebbb2613e1\">\n",
              "      Upload widget is only available when the cell has been executed in the\n",
              "      current browser session. Please rerun this cell to enable.\n",
              "      </output>\n",
              "      <script src=\"/nbextensions/google.colab/files.js\"></script> "
            ],
            "text/plain": [
              "<IPython.core.display.HTML object>"
            ]
          },
          "metadata": {
            "tags": []
          }
        },
        {
          "output_type": "stream",
          "text": [
            "Saving bmi.csv to bmi.csv\n"
          ],
          "name": "stdout"
        }
      ]
    },
    {
      "cell_type": "code",
      "metadata": {
        "id": "hjZekLJqQssi",
        "colab_type": "code",
        "outputId": "350ddf8a-9764-4431-d822-24ffd75b8c97",
        "colab": {
          "base_uri": "https://localhost:8080/",
          "height": 68
        }
      },
      "source": [
        "ls -l"
      ],
      "execution_count": 0,
      "outputs": [
        {
          "output_type": "stream",
          "text": [
            "total 264\n",
            "-rw-r--r-- 1 root root 264209 May  7 12:43 bmi.csv\n",
            "drwxr-xr-x 1 root root   4096 Apr 29 16:32 \u001b[0m\u001b[01;34msample_data\u001b[0m/\n"
          ],
          "name": "stdout"
        }
      ]
    },
    {
      "cell_type": "markdown",
      "metadata": {
        "id": "lwKcsUbnV0ox",
        "colab_type": "text"
      },
      "source": [
        "#### Colab에서 로컬로 다운로드"
      ]
    },
    {
      "cell_type": "code",
      "metadata": {
        "id": "ddQlBU-FQvfw",
        "colab_type": "code",
        "colab": {}
      },
      "source": [
        "from google.colab import files\n",
        "\n",
        "with open('example.txt', 'w') as f:\n",
        "  f.write('Colab에서 작성된 이 편지는 (이하생략)...')\n",
        "\n",
        "files.download('example.txt')"
      ],
      "execution_count": 0,
      "outputs": []
    },
    {
      "cell_type": "markdown",
      "metadata": {
        "id": "gVV9pvWxe9Xl",
        "colab_type": "text"
      },
      "source": [
        "## 3교시\n",
        "\n",
        "---\n",
        "\n"
      ]
    },
    {
      "cell_type": "markdown",
      "metadata": {
        "id": "CpqdYiMTSaqw",
        "colab_type": "text"
      },
      "source": [
        "### 3-1. Linear Regression 소개"
      ]
    },
    {
      "cell_type": "code",
      "metadata": {
        "id": "HFtbsLMtSq_K",
        "colab_type": "code",
        "colab": {}
      },
      "source": [
        "# tensorflow 사용\n",
        "import tensorflow as tf\n",
        "tf.set_random_seed(777)"
      ],
      "execution_count": 0,
      "outputs": []
    },
    {
      "cell_type": "code",
      "metadata": {
        "id": "mzTVUc7MTdfb",
        "colab_type": "code",
        "colab": {}
      },
      "source": [
        "# train data\n",
        "x = [1,2,3]\n",
        "y = [3,5,7]"
      ],
      "execution_count": 0,
      "outputs": []
    },
    {
      "cell_type": "markdown",
      "metadata": {
        "id": "f-H3QPwwSvdP",
        "colab_type": "text"
      },
      "source": [
        ">>\n",
        "$H(x) = Wx + b$ 을 만들자"
      ]
    },
    {
      "cell_type": "code",
      "metadata": {
        "id": "J7c4qO9gTdnF",
        "colab_type": "code",
        "colab": {}
      },
      "source": [
        "# W, b : tf.Variable\n",
        "W = tf.Variable(tf.random_normal([1]), name = 'weight')\n",
        "b = tf.Variable(tf.random_normal([1]), name = 'bias')\n",
        "\n",
        "# X, Y : tf.placeholder\n",
        "X = tf.placeholder(tf.float32, shape = [None])\n",
        "Y = tf.placeholder(tf.float32, shape = [None])\n",
        "\n",
        "# H(x)\n",
        "H = X * W + b"
      ],
      "execution_count": 0,
      "outputs": []
    },
    {
      "cell_type": "markdown",
      "metadata": {
        "id": "t9Z-iMh2ZNAn",
        "colab_type": "text"
      },
      "source": [
        ">>$cost(W,b)=\\frac { 1 }{ m } \\sum _{ i=1 }^{ m }{ { (H({ x }^{ (i) })-{ y }^{ (i) }) }^{ 2 } } $"
      ]
    },
    {
      "cell_type": "code",
      "metadata": {
        "id": "rQmzkuvGTdqU",
        "colab_type": "code",
        "colab": {}
      },
      "source": [
        "# cost(loss) function\n",
        "# tf.reduce_mean() : 평균, tf.square() : 제곱\n",
        "cost = tf.reduce_mean(tf.square(H - Y))"
      ],
      "execution_count": 0,
      "outputs": []
    },
    {
      "cell_type": "code",
      "metadata": {
        "id": "V753fpFRTdtX",
        "colab_type": "code",
        "colab": {}
      },
      "source": [
        "# 최소값 찾아가는 코드\n",
        "# - Gradient Descent : 미분\n",
        "# - learning_rate : 학습률(최소값 찾아가는 단위)\n",
        "# - minimize(cost) : 오차를 최소화 하도록\n",
        "train = tf.train.GradientDescentOptimizer(learning_rate=0.01).minimize(cost)"
      ],
      "execution_count": 0,
      "outputs": []
    },
    {
      "cell_type": "code",
      "metadata": {
        "id": "jF4L7sFbTdwO",
        "colab_type": "code",
        "outputId": "3ae9df39-f944-4c08-8dfb-59480c21394c",
        "colab": {
          "base_uri": "https://localhost:8080/",
          "height": 153
        }
      },
      "source": [
        "# 그래프 설정하고 훈련데이터를 넣어서 예측되는 직선과 실제값의 오차가 최소가 되는 W,b를 찾자\n",
        "# - backpropagation : 딥러닝의 핵심 아이디어(나중에 자세히 다루겠음)\n",
        "with tf.Session() as sess:\n",
        "    # 변수 초기화\n",
        "    sess.run(tf.global_variables_initializer())\n",
        "    # 2000번 학습\n",
        "    for step in range(2001):\n",
        "        # feed_dict : 설정한 placeholder X,Y에 훈련데이터 x,y를 입력\n",
        "        cost_val, W_val, b_val, _ = sess.run([cost, W, b, train], \n",
        "                                             feed_dict = {X: x, Y: y})\n",
        "        if step % 500 == 0:\n",
        "            print(step, cost_val, W_val, b_val)\n",
        "            \n",
        "    # 테스트 단계\n",
        "    print(\"==== 테스트 ====\")\n",
        "    print(\"H(1)=\",sess.run(H, feed_dict = {X: [1]}),\"~3?\")\n",
        "    print(\"H(4)=\",sess.run(H, feed_dict = {X: [4]}),\"~9?\")"
      ],
      "execution_count": 0,
      "outputs": [
        {
          "output_type": "stream",
          "text": [
            "0 1.3678179 [2.466622] [-0.9492197]\n",
            "500 0.04232259 [2.2383616] [0.45814753]\n",
            "1000 0.0038132889 [2.0715485] [0.8373533]\n",
            "1500 0.0003435779 [2.0214765] [0.95117885]\n",
            "2000 3.0958425e-05 [2.0064468] [0.985345]\n",
            "==== 테스트 ====\n",
            "H(1)= [2.9917917] ~3?\n",
            "H(4)= [9.011132] ~9?\n"
          ],
          "name": "stdout"
        }
      ]
    },
    {
      "cell_type": "markdown",
      "metadata": {
        "id": "9T-w41BctLH8",
        "colab_type": "text"
      },
      "source": [
        "### 3-3. Multi-Linear Regression 소개"
      ]
    },
    {
      "cell_type": "code",
      "metadata": {
        "id": "8P-FK_AJtKf4",
        "colab_type": "code",
        "colab": {}
      },
      "source": [
        "import tensorflow as tf\n",
        "import numpy as np\n",
        "tf.set_random_seed(777)"
      ],
      "execution_count": 0,
      "outputs": []
    },
    {
      "cell_type": "code",
      "metadata": {
        "id": "qS-KnHqwtdON",
        "colab_type": "code",
        "colab": {}
      },
      "source": [
        "# x1,x2 그리고 y\n",
        "x = np.array([[60,5.5],\n",
        "              [65,5.0],\n",
        "              [55,6.0]],dtype='float32')\n",
        "y = np.array([[66],[74],[78]],dtype='float32')"
      ],
      "execution_count": 0,
      "outputs": []
    },
    {
      "cell_type": "code",
      "metadata": {
        "id": "jyhA1iK-tdTr",
        "colab_type": "code",
        "colab": {}
      },
      "source": [
        "# H(X) = XW + b\n",
        "X = tf.placeholder(tf.float32, shape=[None,2]) # None : 어떤 갯수의 행이 오더라도, 2 : 열 갯수(즉, x1,x2)\n",
        "Y = tf.placeholder(tf.float32, shape=[None,1])\n",
        "\n",
        "W = tf.Variable(tf.random_normal([2,1]), name = 'weight') # 2행 1열 행렬\n",
        "b = tf.Variable(tf.random_normal([1]), name = 'bias')\n",
        "\n",
        "H = tf.matmul(X,W)+b"
      ],
      "execution_count": 0,
      "outputs": []
    },
    {
      "cell_type": "code",
      "metadata": {
        "id": "kjk4pxettdXl",
        "colab_type": "code",
        "colab": {}
      },
      "source": [
        "# cost function\n",
        "cost = tf.reduce_mean(tf.square(H - Y))"
      ],
      "execution_count": 0,
      "outputs": []
    },
    {
      "cell_type": "code",
      "metadata": {
        "id": "HZ4dltmktdZ7",
        "colab_type": "code",
        "colab": {}
      },
      "source": [
        "# gradient descent\n",
        "train = tf.train.GradientDescentOptimizer(learning_rate = 0.0001).minimize(cost)"
      ],
      "execution_count": 0,
      "outputs": []
    },
    {
      "cell_type": "code",
      "metadata": {
        "id": "WgFxOlIxtdSE",
        "colab_type": "code",
        "outputId": "d56abbe5-7557-4fe4-d508-449e4a100f4f",
        "colab": {
          "base_uri": "https://localhost:8080/",
          "height": 697
        }
      },
      "source": [
        "with tf.Session() as sess:\n",
        "    sess.run(tf.global_variables_initializer())\n",
        "    for step in range(70001):\n",
        "        cost_val, h_val, _ = sess.run([cost,H,train], feed_dict = {X:x,Y:y})\n",
        "        if step % 10000 == 0:\n",
        "            print(\"step\",step, \"\\ncost=\", cost_val, \"\\nH(X)=\", h_val)"
      ],
      "execution_count": 0,
      "outputs": [
        {
          "output_type": "stream",
          "text": [
            "step 0 \n",
            "cost= 15304.206 \n",
            "H(X)= [[-50.94844 ]\n",
            " [-54.338535]\n",
            " [-47.558346]]\n",
            "step 10000 \n",
            "cost= 26.65021 \n",
            "H(X)= [[72.526306]\n",
            " [73.09777 ]\n",
            " [71.95484 ]]\n",
            "step 20000 \n",
            "cost= 22.609818 \n",
            "H(X)= [[72.625145]\n",
            " [71.38592 ]\n",
            " [73.864365]]\n",
            "step 30000 \n",
            "cost= 22.256172 \n",
            "H(X)= [[72.65439 ]\n",
            " [70.87949 ]\n",
            " [74.429276]]\n",
            "step 40000 \n",
            "cost= 22.22518 \n",
            "H(X)= [[72.663025]\n",
            " [70.72968 ]\n",
            " [74.596375]]\n",
            "step 50000 \n",
            "cost= 22.222502 \n",
            "H(X)= [[72.665596]\n",
            " [70.685295]\n",
            " [74.64589 ]]\n",
            "step 60000 \n",
            "cost= 22.222246 \n",
            "H(X)= [[72.66633 ]\n",
            " [70.672485]\n",
            " [74.66017 ]]\n",
            "step 70000 \n",
            "cost= 22.222216 \n",
            "H(X)= [[72.66646 ]\n",
            " [70.67019 ]\n",
            " [74.662735]]\n"
          ],
          "name": "stdout"
        }
      ]
    },
    {
      "cell_type": "markdown",
      "metadata": {
        "id": "SyayScOjfDic",
        "colab_type": "text"
      },
      "source": [
        "## 4교시\n",
        "\n",
        "---\n",
        "\n"
      ]
    },
    {
      "cell_type": "markdown",
      "metadata": {
        "id": "S1Nz027hfIJO",
        "colab_type": "text"
      },
      "source": [
        "### 4-1. Logistic Regression(Classification) 소개\n",
        "- 당뇨병 분류문제"
      ]
    },
    {
      "cell_type": "code",
      "metadata": {
        "id": "PCxd1HBafHTZ",
        "colab_type": "code",
        "outputId": "b8e735b1-57f3-4ec6-c80e-6a7b2c867c57",
        "colab": {
          "resources": {
            "http://localhost:8080/nbextensions/google.colab/files.js": {
              "data": "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",
              "ok": true,
              "headers": [
                [
                  "content-type",
                  "application/javascript"
                ]
              ],
              "status": 200,
              "status_text": ""
            }
          },
          "base_uri": "https://localhost:8080/",
          "height": 71
        }
      },
      "source": [
        "# data load\n",
        "from google.colab import files\n",
        "uploaded = files.upload()"
      ],
      "execution_count": 0,
      "outputs": [
        {
          "output_type": "display_data",
          "data": {
            "text/html": [
              "\n",
              "     <input type=\"file\" id=\"files-1720eab3-5a26-4581-900f-41bd00dfb2c2\" name=\"files[]\" multiple disabled />\n",
              "     <output id=\"result-1720eab3-5a26-4581-900f-41bd00dfb2c2\">\n",
              "      Upload widget is only available when the cell has been executed in the\n",
              "      current browser session. Please rerun this cell to enable.\n",
              "      </output>\n",
              "      <script src=\"/nbextensions/google.colab/files.js\"></script> "
            ],
            "text/plain": [
              "<IPython.core.display.HTML object>"
            ]
          },
          "metadata": {
            "tags": []
          }
        },
        {
          "output_type": "stream",
          "text": [
            "Saving diabetes.csv to diabetes.csv\n"
          ],
          "name": "stdout"
        }
      ]
    },
    {
      "cell_type": "code",
      "metadata": {
        "id": "0wnYkXu_grQ2",
        "colab_type": "code",
        "colab": {}
      },
      "source": [
        "import numpy as np\n",
        "data = np.loadtxt(\"diabetes.csv\", delimiter=',', dtype=np.float32)"
      ],
      "execution_count": 0,
      "outputs": []
    },
    {
      "cell_type": "code",
      "metadata": {
        "id": "9RG_XXjOgrYs",
        "colab_type": "code",
        "outputId": "a62713e1-c84b-41d8-dd44-bbf89163366c",
        "colab": {
          "base_uri": "https://localhost:8080/",
          "height": 238
        }
      },
      "source": [
        "data"
      ],
      "execution_count": 0,
      "outputs": [
        {
          "output_type": "execute_result",
          "data": {
            "text/plain": [
              "array([[-0.294118 ,  0.487437 ,  0.180328 , ..., -0.53117  , -0.0333333,\n",
              "         0.       ],\n",
              "       [-0.882353 , -0.145729 ,  0.0819672, ..., -0.766866 , -0.666667 ,\n",
              "         1.       ],\n",
              "       [-0.0588235,  0.839196 ,  0.0491803, ..., -0.492741 , -0.633333 ,\n",
              "         0.       ],\n",
              "       ...,\n",
              "       [-0.411765 ,  0.21608  ,  0.180328 , ..., -0.857387 , -0.7      ,\n",
              "         1.       ],\n",
              "       [-0.882353 ,  0.266332 , -0.0163934, ..., -0.768574 , -0.133333 ,\n",
              "         0.       ],\n",
              "       [-0.882353 , -0.0653266,  0.147541 , ..., -0.797609 , -0.933333 ,\n",
              "         1.       ]], dtype=float32)"
            ]
          },
          "metadata": {
            "tags": []
          },
          "execution_count": 39
        }
      ]
    },
    {
      "cell_type": "code",
      "metadata": {
        "id": "6gPbgd2TgrXD",
        "colab_type": "code",
        "colab": {}
      },
      "source": [
        "import tensorflow as tf\n",
        "import numpy as np\n",
        "tf.set_random_seed(777)"
      ],
      "execution_count": 0,
      "outputs": []
    },
    {
      "cell_type": "code",
      "metadata": {
        "id": "jIZDKrCLgrTt",
        "colab_type": "code",
        "colab": {}
      },
      "source": [
        "# 학습 데이터 80% / 테스트 데이터 20%를 랜덤하게 나누어 주자\n",
        "train = data[np.random.choice(len(data), round(len(data)*0.8), replace=False), :]\n",
        "test = data[np.random.choice(len(data), round(len(data)*0.2), replace=False), :]"
      ],
      "execution_count": 0,
      "outputs": []
    },
    {
      "cell_type": "code",
      "metadata": {
        "id": "gQ5p4JzHokU8",
        "colab_type": "code",
        "colab": {}
      },
      "source": [
        "x_train = train[:, 0:-1]\n",
        "y_train = train[:, -1].reshape(len(x_train),1)\n",
        "\n",
        "x_test = test[:, 0:-1]\n",
        "y_test = test[:, -1].reshape(len(x_test),1)"
      ],
      "execution_count": 0,
      "outputs": []
    },
    {
      "cell_type": "code",
      "metadata": {
        "id": "mHaHjqjtokbs",
        "colab_type": "code",
        "colab": {}
      },
      "source": [
        "# H(X)\n",
        "# data.shape = (759, 9)\n",
        "X = tf.placeholder(tf.float32, shape = [None, 8])\n",
        "Y = tf.placeholder(tf.float32, shape = [None, 1])\n",
        "\n",
        "W = tf.Variable(tf.random_normal([8,1]), name = 'weight')\n",
        "b = tf.Variable(tf.random_normal([1]), name = 'bias')\n",
        "\n",
        "# tf.sigmoid = 1/(1+exp(-x))\n",
        "H = tf.sigmoid(tf.matmul(X,W)+b)"
      ],
      "execution_count": 0,
      "outputs": []
    },
    {
      "cell_type": "code",
      "metadata": {
        "id": "QPJ_7gcuokiO",
        "colab_type": "code",
        "colab": {}
      },
      "source": [
        "# cost\n",
        "cost = -tf.reduce_mean(Y*tf.log(H) + (1 - Y)*tf.log(1 - H))"
      ],
      "execution_count": 0,
      "outputs": []
    },
    {
      "cell_type": "code",
      "metadata": {
        "id": "RoZ86qd6okeq",
        "colab_type": "code",
        "colab": {}
      },
      "source": [
        "# gradient descent\n",
        "train = tf.train.GradientDescentOptimizer(learning_rate=0.01).minimize(cost)"
      ],
      "execution_count": 0,
      "outputs": []
    },
    {
      "cell_type": "code",
      "metadata": {
        "id": "ujJ2TxpbxBul",
        "colab_type": "code",
        "colab": {}
      },
      "source": [
        "# 0.5 이상이면 1, 이하이면 0\n",
        "predicted = tf.cast(H > 0.5, dtype=tf.float32)\n",
        "\n",
        "# 정확도\n",
        "accuracy = tf.reduce_mean(tf.cast(tf.equal(predicted, Y), dtype=tf.float32))"
      ],
      "execution_count": 0,
      "outputs": []
    },
    {
      "cell_type": "code",
      "metadata": {
        "id": "DhhWjtgFxB3m",
        "colab_type": "code",
        "outputId": "322ad2c1-bb4f-4a62-995e-76c93a854501",
        "colab": {
          "base_uri": "https://localhost:8080/",
          "height": 2686
        }
      },
      "source": [
        "with tf.Session() as sess:\n",
        "    # 변수 초기화\n",
        "    sess.run(tf.global_variables_initializer())\n",
        "    \n",
        "    # 학습\n",
        "    for step in range(10001):\n",
        "        cost_val, _ = sess.run([cost, train], feed_dict={X: x_train, Y: y_train})\n",
        "        if step % 5000 == 0:\n",
        "            print(step, cost_val)\n",
        "\n",
        "    # 테스트\n",
        "    c, a = sess.run([predicted, accuracy],\n",
        "                     feed_dict={X: x_test, Y: y_test})\n",
        "    for i,j in zip(c,y_test):\n",
        "        if i == j:\n",
        "            res = \"O\"\n",
        "        else:\n",
        "            res = \"X\"\n",
        "        print(\"predict\", i, \"vs\", \"real\",j, \"=> res:\",res)\n",
        "        \n",
        "    print(\"\\nAccuracy:\", a)"
      ],
      "execution_count": 0,
      "outputs": [
        {
          "output_type": "stream",
          "text": [
            "0 0.7617632\n",
            "5000 0.5088229\n",
            "10000 0.49025193\n",
            "predict [1.] vs real [1.] => res: O\n",
            "predict [1.] vs real [1.] => res: O\n",
            "predict [1.] vs real [1.] => res: O\n",
            "predict [1.] vs real [1.] => res: O\n",
            "predict [1.] vs real [1.] => res: O\n",
            "predict [0.] vs real [1.] => res: X\n",
            "predict [1.] vs real [1.] => res: O\n",
            "predict [0.] vs real [0.] => res: O\n",
            "predict [1.] vs real [1.] => res: O\n",
            "predict [1.] vs real [1.] => res: O\n",
            "predict [0.] vs real [0.] => res: O\n",
            "predict [1.] vs real [0.] => res: X\n",
            "predict [1.] vs real [0.] => res: X\n",
            "predict [0.] vs real [0.] => res: O\n",
            "predict [1.] vs real [1.] => res: O\n",
            "predict [1.] vs real [1.] => res: O\n",
            "predict [1.] vs real [1.] => res: O\n",
            "predict [0.] vs real [0.] => res: O\n",
            "predict [1.] vs real [0.] => res: X\n",
            "predict [1.] vs real [1.] => res: O\n",
            "predict [1.] vs real [1.] => res: O\n",
            "predict [1.] vs real [0.] => res: X\n",
            "predict [0.] vs real [0.] => res: O\n",
            "predict [0.] vs real [0.] => res: O\n",
            "predict [0.] vs real [0.] => res: O\n",
            "predict [1.] vs real [1.] => res: O\n",
            "predict [1.] vs real [1.] => res: O\n",
            "predict [1.] vs real [1.] => res: O\n",
            "predict [1.] vs real [0.] => res: X\n",
            "predict [1.] vs real [1.] => res: O\n",
            "predict [1.] vs real [1.] => res: O\n",
            "predict [0.] vs real [0.] => res: O\n",
            "predict [1.] vs real [1.] => res: O\n",
            "predict [0.] vs real [0.] => res: O\n",
            "predict [1.] vs real [1.] => res: O\n",
            "predict [1.] vs real [1.] => res: O\n",
            "predict [1.] vs real [1.] => res: O\n",
            "predict [1.] vs real [1.] => res: O\n",
            "predict [1.] vs real [1.] => res: O\n",
            "predict [1.] vs real [1.] => res: O\n",
            "predict [1.] vs real [1.] => res: O\n",
            "predict [1.] vs real [1.] => res: O\n",
            "predict [1.] vs real [0.] => res: X\n",
            "predict [1.] vs real [0.] => res: X\n",
            "predict [1.] vs real [1.] => res: O\n",
            "predict [1.] vs real [0.] => res: X\n",
            "predict [1.] vs real [1.] => res: O\n",
            "predict [1.] vs real [0.] => res: X\n",
            "predict [0.] vs real [0.] => res: O\n",
            "predict [1.] vs real [1.] => res: O\n",
            "predict [1.] vs real [1.] => res: O\n",
            "predict [1.] vs real [0.] => res: X\n",
            "predict [1.] vs real [1.] => res: O\n",
            "predict [1.] vs real [1.] => res: O\n",
            "predict [1.] vs real [1.] => res: O\n",
            "predict [1.] vs real [1.] => res: O\n",
            "predict [1.] vs real [1.] => res: O\n",
            "predict [1.] vs real [1.] => res: O\n",
            "predict [1.] vs real [1.] => res: O\n",
            "predict [1.] vs real [1.] => res: O\n",
            "predict [1.] vs real [1.] => res: O\n",
            "predict [0.] vs real [0.] => res: O\n",
            "predict [1.] vs real [1.] => res: O\n",
            "predict [1.] vs real [1.] => res: O\n",
            "predict [0.] vs real [0.] => res: O\n",
            "predict [1.] vs real [0.] => res: X\n",
            "predict [1.] vs real [1.] => res: O\n",
            "predict [1.] vs real [1.] => res: O\n",
            "predict [1.] vs real [1.] => res: O\n",
            "predict [1.] vs real [1.] => res: O\n",
            "predict [1.] vs real [1.] => res: O\n",
            "predict [0.] vs real [0.] => res: O\n",
            "predict [0.] vs real [0.] => res: O\n",
            "predict [1.] vs real [0.] => res: X\n",
            "predict [0.] vs real [0.] => res: O\n",
            "predict [1.] vs real [1.] => res: O\n",
            "predict [1.] vs real [1.] => res: O\n",
            "predict [1.] vs real [0.] => res: X\n",
            "predict [1.] vs real [1.] => res: O\n",
            "predict [1.] vs real [1.] => res: O\n",
            "predict [0.] vs real [1.] => res: X\n",
            "predict [1.] vs real [1.] => res: O\n",
            "predict [1.] vs real [0.] => res: X\n",
            "predict [1.] vs real [0.] => res: X\n",
            "predict [1.] vs real [0.] => res: X\n",
            "predict [1.] vs real [1.] => res: O\n",
            "predict [1.] vs real [0.] => res: X\n",
            "predict [0.] vs real [0.] => res: O\n",
            "predict [0.] vs real [1.] => res: X\n",
            "predict [1.] vs real [0.] => res: X\n",
            "predict [1.] vs real [1.] => res: O\n",
            "predict [1.] vs real [1.] => res: O\n",
            "predict [1.] vs real [1.] => res: O\n",
            "predict [1.] vs real [1.] => res: O\n",
            "predict [1.] vs real [1.] => res: O\n",
            "predict [0.] vs real [0.] => res: O\n",
            "predict [0.] vs real [0.] => res: O\n",
            "predict [1.] vs real [0.] => res: X\n",
            "predict [1.] vs real [1.] => res: O\n",
            "predict [0.] vs real [1.] => res: X\n",
            "predict [0.] vs real [1.] => res: X\n",
            "predict [1.] vs real [1.] => res: O\n",
            "predict [1.] vs real [1.] => res: O\n",
            "predict [1.] vs real [1.] => res: O\n",
            "predict [1.] vs real [1.] => res: O\n",
            "predict [1.] vs real [0.] => res: X\n",
            "predict [1.] vs real [0.] => res: X\n",
            "predict [1.] vs real [1.] => res: O\n",
            "predict [1.] vs real [0.] => res: X\n",
            "predict [0.] vs real [0.] => res: O\n",
            "predict [0.] vs real [0.] => res: O\n",
            "predict [0.] vs real [0.] => res: O\n",
            "predict [0.] vs real [0.] => res: O\n",
            "predict [1.] vs real [0.] => res: X\n",
            "predict [1.] vs real [1.] => res: O\n",
            "predict [1.] vs real [1.] => res: O\n",
            "predict [1.] vs real [1.] => res: O\n",
            "predict [1.] vs real [1.] => res: O\n",
            "predict [0.] vs real [0.] => res: O\n",
            "predict [1.] vs real [1.] => res: O\n",
            "predict [1.] vs real [1.] => res: O\n",
            "predict [1.] vs real [1.] => res: O\n",
            "predict [1.] vs real [1.] => res: O\n",
            "predict [1.] vs real [1.] => res: O\n",
            "predict [1.] vs real [1.] => res: O\n",
            "predict [1.] vs real [1.] => res: O\n",
            "predict [1.] vs real [1.] => res: O\n",
            "predict [1.] vs real [0.] => res: X\n",
            "predict [1.] vs real [1.] => res: O\n",
            "predict [1.] vs real [1.] => res: O\n",
            "predict [1.] vs real [1.] => res: O\n",
            "predict [1.] vs real [1.] => res: O\n",
            "predict [1.] vs real [0.] => res: X\n",
            "predict [1.] vs real [0.] => res: X\n",
            "predict [0.] vs real [1.] => res: X\n",
            "predict [1.] vs real [1.] => res: O\n",
            "predict [1.] vs real [1.] => res: O\n",
            "predict [0.] vs real [1.] => res: X\n",
            "predict [1.] vs real [0.] => res: X\n",
            "predict [1.] vs real [1.] => res: O\n",
            "predict [0.] vs real [1.] => res: X\n",
            "predict [1.] vs real [1.] => res: O\n",
            "predict [1.] vs real [1.] => res: O\n",
            "predict [1.] vs real [1.] => res: O\n",
            "predict [1.] vs real [1.] => res: O\n",
            "predict [1.] vs real [1.] => res: O\n",
            "predict [0.] vs real [1.] => res: X\n",
            "predict [1.] vs real [0.] => res: X\n",
            "predict [0.] vs real [0.] => res: O\n",
            "predict [0.] vs real [1.] => res: X\n",
            "predict [1.] vs real [1.] => res: O\n",
            "predict [1.] vs real [1.] => res: O\n",
            "\n",
            "Accuracy: 0.75\n"
          ],
          "name": "stdout"
        }
      ]
    },
    {
      "cell_type": "markdown",
      "metadata": {
        "id": "sC7YxOJ3kF7-",
        "colab_type": "text"
      },
      "source": [
        "### 4-2. Multinimial Logistic Regression(Softmax Regression) 소개\n",
        "- 동물종 분류하는 문제"
      ]
    },
    {
      "cell_type": "code",
      "metadata": {
        "id": "iczwT_XsxB0G",
        "colab_type": "code",
        "outputId": "6953bf23-9afb-4301-ab1a-d30bd7710bff",
        "colab": {
          "resources": {
            "http://localhost:8080/nbextensions/google.colab/files.js": {
              "data": "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",
              "ok": true,
              "headers": [
                [
                  "content-type",
                  "application/javascript"
                ]
              ],
              "status": 200,
              "status_text": ""
            }
          },
          "base_uri": "https://localhost:8080/",
          "height": 77
        }
      },
      "source": [
        "# data load\n",
        "from google.colab import files\n",
        "uploaded = files.upload()"
      ],
      "execution_count": 0,
      "outputs": [
        {
          "output_type": "display_data",
          "data": {
            "text/html": [
              "\n",
              "     <input type=\"file\" id=\"files-a5d657e7-ed4b-4a2f-b1e5-bc572858a4a9\" name=\"files[]\" multiple disabled />\n",
              "     <output id=\"result-a5d657e7-ed4b-4a2f-b1e5-bc572858a4a9\">\n",
              "      Upload widget is only available when the cell has been executed in the\n",
              "      current browser session. Please rerun this cell to enable.\n",
              "      </output>\n",
              "      <script src=\"/nbextensions/google.colab/files.js\"></script> "
            ],
            "text/plain": [
              "<IPython.core.display.HTML object>"
            ]
          },
          "metadata": {
            "tags": []
          }
        },
        {
          "output_type": "stream",
          "text": [
            "Saving zoo.data to zoo.data\n"
          ],
          "name": "stdout"
        }
      ]
    },
    {
      "cell_type": "code",
      "metadata": {
        "id": "F6zhHzg2xBx5",
        "colab_type": "code",
        "outputId": "67e22bde-23f7-4844-fbac-2c4dfb7a8c9a",
        "colab": {
          "base_uri": "https://localhost:8080/",
          "height": 50
        }
      },
      "source": [
        "# 서로다른 타입의 변수를 불러오려면 pandas의 DataFrame 형식으로 받으면 된다.\n",
        "import pandas as pd\n",
        "data = pd.read_table(\"zoo.data\", delimiter=',', \n",
        "                     names=[\"name\",\"hair\",\"feathers\",\"eggs\",\"milk\",\"airborne\",\n",
        "                            \"aquatic\",\"predator\",\"toothed\",\"backbone\",\"breathes\",\n",
        "                            \"venomous\",\"fins\",\"legs\",\"tail\",\"domestic\",\"catsize\",\n",
        "                            \"type\"])"
      ],
      "execution_count": 0,
      "outputs": [
        {
          "output_type": "stream",
          "text": [
            "/usr/local/lib/python3.6/dist-packages/ipykernel_launcher.py:6: FutureWarning: read_table is deprecated, use read_csv instead.\n",
            "  \n"
          ],
          "name": "stderr"
        }
      ]
    },
    {
      "cell_type": "code",
      "metadata": {
        "id": "xfASoCTJksm8",
        "colab_type": "code",
        "outputId": "8bddc7bb-6e8e-4db0-dac3-078a36cc0817",
        "colab": {
          "base_uri": "https://localhost:8080/",
          "height": 195
        }
      },
      "source": [
        "data.head() # 상위 5줄 까지만 확인"
      ],
      "execution_count": 0,
      "outputs": [
        {
          "output_type": "execute_result",
          "data": {
            "text/html": [
              "<div>\n",
              "<style scoped>\n",
              "    .dataframe tbody tr th:only-of-type {\n",
              "        vertical-align: middle;\n",
              "    }\n",
              "\n",
              "    .dataframe tbody tr th {\n",
              "        vertical-align: top;\n",
              "    }\n",
              "\n",
              "    .dataframe thead th {\n",
              "        text-align: right;\n",
              "    }\n",
              "</style>\n",
              "<table border=\"1\" class=\"dataframe\">\n",
              "  <thead>\n",
              "    <tr style=\"text-align: right;\">\n",
              "      <th></th>\n",
              "      <th>name</th>\n",
              "      <th>hair</th>\n",
              "      <th>feathers</th>\n",
              "      <th>eggs</th>\n",
              "      <th>milk</th>\n",
              "      <th>airborne</th>\n",
              "      <th>aquatic</th>\n",
              "      <th>predator</th>\n",
              "      <th>toothed</th>\n",
              "      <th>backbone</th>\n",
              "      <th>breathes</th>\n",
              "      <th>venomous</th>\n",
              "      <th>fins</th>\n",
              "      <th>legs</th>\n",
              "      <th>tail</th>\n",
              "      <th>domestic</th>\n",
              "      <th>catsize</th>\n",
              "      <th>type</th>\n",
              "    </tr>\n",
              "  </thead>\n",
              "  <tbody>\n",
              "    <tr>\n",
              "      <th>0</th>\n",
              "      <td>aardvark</td>\n",
              "      <td>1</td>\n",
              "      <td>0</td>\n",
              "      <td>0</td>\n",
              "      <td>1</td>\n",
              "      <td>0</td>\n",
              "      <td>0</td>\n",
              "      <td>1</td>\n",
              "      <td>1</td>\n",
              "      <td>1</td>\n",
              "      <td>1</td>\n",
              "      <td>0</td>\n",
              "      <td>0</td>\n",
              "      <td>4</td>\n",
              "      <td>0</td>\n",
              "      <td>0</td>\n",
              "      <td>1</td>\n",
              "      <td>1</td>\n",
              "    </tr>\n",
              "    <tr>\n",
              "      <th>1</th>\n",
              "      <td>antelope</td>\n",
              "      <td>1</td>\n",
              "      <td>0</td>\n",
              "      <td>0</td>\n",
              "      <td>1</td>\n",
              "      <td>0</td>\n",
              "      <td>0</td>\n",
              "      <td>0</td>\n",
              "      <td>1</td>\n",
              "      <td>1</td>\n",
              "      <td>1</td>\n",
              "      <td>0</td>\n",
              "      <td>0</td>\n",
              "      <td>4</td>\n",
              "      <td>1</td>\n",
              "      <td>0</td>\n",
              "      <td>1</td>\n",
              "      <td>1</td>\n",
              "    </tr>\n",
              "    <tr>\n",
              "      <th>2</th>\n",
              "      <td>bass</td>\n",
              "      <td>0</td>\n",
              "      <td>0</td>\n",
              "      <td>1</td>\n",
              "      <td>0</td>\n",
              "      <td>0</td>\n",
              "      <td>1</td>\n",
              "      <td>1</td>\n",
              "      <td>1</td>\n",
              "      <td>1</td>\n",
              "      <td>0</td>\n",
              "      <td>0</td>\n",
              "      <td>1</td>\n",
              "      <td>0</td>\n",
              "      <td>1</td>\n",
              "      <td>0</td>\n",
              "      <td>0</td>\n",
              "      <td>4</td>\n",
              "    </tr>\n",
              "    <tr>\n",
              "      <th>3</th>\n",
              "      <td>bear</td>\n",
              "      <td>1</td>\n",
              "      <td>0</td>\n",
              "      <td>0</td>\n",
              "      <td>1</td>\n",
              "      <td>0</td>\n",
              "      <td>0</td>\n",
              "      <td>1</td>\n",
              "      <td>1</td>\n",
              "      <td>1</td>\n",
              "      <td>1</td>\n",
              "      <td>0</td>\n",
              "      <td>0</td>\n",
              "      <td>4</td>\n",
              "      <td>0</td>\n",
              "      <td>0</td>\n",
              "      <td>1</td>\n",
              "      <td>1</td>\n",
              "    </tr>\n",
              "    <tr>\n",
              "      <th>4</th>\n",
              "      <td>boar</td>\n",
              "      <td>1</td>\n",
              "      <td>0</td>\n",
              "      <td>0</td>\n",
              "      <td>1</td>\n",
              "      <td>0</td>\n",
              "      <td>0</td>\n",
              "      <td>1</td>\n",
              "      <td>1</td>\n",
              "      <td>1</td>\n",
              "      <td>1</td>\n",
              "      <td>0</td>\n",
              "      <td>0</td>\n",
              "      <td>4</td>\n",
              "      <td>1</td>\n",
              "      <td>0</td>\n",
              "      <td>1</td>\n",
              "      <td>1</td>\n",
              "    </tr>\n",
              "  </tbody>\n",
              "</table>\n",
              "</div>"
            ],
            "text/plain": [
              "       name  hair  feathers  eggs  milk  airborne  aquatic  predator  toothed  \\\n",
              "0  aardvark     1         0     0     1         0        0         1        1   \n",
              "1  antelope     1         0     0     1         0        0         0        1   \n",
              "2      bass     0         0     1     0         0        1         1        1   \n",
              "3      bear     1         0     0     1         0        0         1        1   \n",
              "4      boar     1         0     0     1         0        0         1        1   \n",
              "\n",
              "   backbone  breathes  venomous  fins  legs  tail  domestic  catsize  type  \n",
              "0         1         1         0     0     4     0         0        1     1  \n",
              "1         1         1         0     0     4     1         0        1     1  \n",
              "2         1         0         0     1     0     1         0        0     4  \n",
              "3         1         1         0     0     4     0         0        1     1  \n",
              "4         1         1         0     0     4     1         0        1     1  "
            ]
          },
          "metadata": {
            "tags": []
          },
          "execution_count": 84
        }
      ]
    },
    {
      "cell_type": "code",
      "metadata": {
        "id": "UYucoKl4ks0K",
        "colab_type": "code",
        "colab": {}
      },
      "source": [
        "# 딥러닝에 불필요한 데이터인 \"name\"은 제외하면서 훈련데이터 80%, 테스트데이터 20%를 램덤하게 나누자\n",
        "import tensorflow as tf\n",
        "import numpy as np\n",
        "tf.set_random_seed(777)\n",
        "\n",
        "data1 = data.iloc[:,1:] # DataFrame에서 Slicing\n",
        "idx = data1.index\n",
        "\n",
        "train = data1.iloc[np.random.choice(idx, round(len(idx)*0.8), replace=False), :]\n",
        "test = data1.iloc[np.random.choice(len(idx), round(len(idx)*0.2), replace=False), :]"
      ],
      "execution_count": 0,
      "outputs": []
    },
    {
      "cell_type": "code",
      "metadata": {
        "id": "dupWcWnbqtg_",
        "colab_type": "code",
        "outputId": "e1d2e261-51f2-49c3-ce04-cecaf0b38dbb",
        "colab": {
          "base_uri": "https://localhost:8080/",
          "height": 50
        }
      },
      "source": [
        "# DataFrame을 연산에 편리한 Array로 변환\n",
        "Train = np.array(train, dtype = np.float32)\n",
        "Test = np.array(test, dtype = np.float32)\n",
        "\n",
        "# 훈련데이터 / 테스트데이터 분배\n",
        "x_train = Train[:, 0:-1]\n",
        "y_train = Train[:, -1].reshape(len(x_train),1)\n",
        "\n",
        "x_test = Test[:, 0:-1]\n",
        "y_test = Test[:, -1].reshape(len(x_test),1)\n",
        "\n",
        "print(x_train.shape, y_train.shape)\n",
        "print(x_test.shape, y_test.shape)"
      ],
      "execution_count": 0,
      "outputs": [
        {
          "output_type": "stream",
          "text": [
            "(81, 16) (81, 1)\n",
            "(20, 16) (20, 1)\n"
          ],
          "name": "stdout"
        }
      ]
    },
    {
      "cell_type": "code",
      "metadata": {
        "id": "TT90H_4SqtxJ",
        "colab_type": "code",
        "colab": {}
      },
      "source": [
        "typeNum = 7 # 동물종 타입 갯수\n",
        "\n",
        "# Softmax Function : H(x)\n",
        "X = tf.placeholder(tf.float32, [None, 16])\n",
        "Y = tf.placeholder(tf.int32, [None, 1])\n",
        "\n",
        "W = tf.Variable(tf.random_normal([16, typeNum]), name='weight')\n",
        "b = tf.Variable(tf.random_normal([typeNum]), name='bias')\n",
        "\n",
        "logits = tf.matmul(X,W)+b\n",
        "H = tf.nn.softmax(logits)"
      ],
      "execution_count": 0,
      "outputs": []
    },
    {
      "cell_type": "code",
      "metadata": {
        "id": "64qEB6x4qt_C",
        "colab_type": "code",
        "outputId": "b0599740-acfa-4213-96f6-e375518d46ab",
        "colab": {
          "base_uri": "https://localhost:8080/",
          "height": 50
        }
      },
      "source": [
        "# one-hot encoding\n",
        "Y_one_hot = tf.one_hot(Y, typeNum)  \n",
        "print(\"one_hot:\", Y_one_hot)\n",
        "Y_one_hot = tf.reshape(Y_one_hot, [-1, typeNum])\n",
        "print(\"reshape one_hot:\", Y_one_hot)"
      ],
      "execution_count": 0,
      "outputs": [
        {
          "output_type": "stream",
          "text": [
            "one_hot: Tensor(\"one_hot_2:0\", shape=(?, 1, 7), dtype=float32)\n",
            "reshape one_hot: Tensor(\"Reshape_2:0\", shape=(?, 7), dtype=float32)\n"
          ],
          "name": "stdout"
        }
      ]
    },
    {
      "cell_type": "code",
      "metadata": {
        "id": "Q267whP0wTwc",
        "colab_type": "code",
        "colab": {}
      },
      "source": [
        "# cost\n",
        "cost = tf.reduce_mean(tf.nn.softmax_cross_entropy_with_logits_v2(labels = tf.stop_gradient([Y_one_hot]), \n",
        "                                                                 logits = logits))\n",
        "# gradient descent\n",
        "optimizer = tf.train.GradientDescentOptimizer(learning_rate=0.01).minimize(cost)\n",
        "\n",
        "# 2차원 배열에서 행단위로 가장 값이 큰 곳의 위치(인덱스)를 리턴\n",
        "# 즉, one-hot encoding 결과에서 가장 큰 확률값이 나온 인덱스(해당 동물종에 대한 번호)로 분류하는 작업\n",
        "prediction = tf.argmax(H, 1)\n",
        "correct_prediction = tf.equal(prediction, tf.argmax(Y_one_hot, 1))\n",
        "accuracy = tf.reduce_mean(tf.cast(correct_prediction, tf.float32))"
      ],
      "execution_count": 0,
      "outputs": []
    },
    {
      "cell_type": "code",
      "metadata": {
        "id": "txK_F_9iwT40",
        "colab_type": "code",
        "outputId": "df83151f-9c9f-468e-852b-0e749d99aee2",
        "colab": {
          "base_uri": "https://localhost:8080/",
          "height": 470
        }
      },
      "source": [
        "with tf.Session() as sess:\n",
        "    sess.run(tf.global_variables_initializer())\n",
        "\n",
        "    for step in range(5001):\n",
        "        _, cost_val, acc_val = sess.run([optimizer, cost, accuracy], feed_dict={X: x_train, Y: y_train})\n",
        "                                        \n",
        "        if step % 1000 == 0:\n",
        "            print(\"Step: {:5}\\tCost: {:.3f}\\tAcc: {:.2%}\".format(step, cost_val, acc_val))\n",
        "\n",
        "    # test데이터로 검증실시\n",
        "    pred, acc = sess.run([prediction,accuracy], feed_dict={X: x_test, Y: y_test})\n",
        "    \n",
        "    # test데이터에 대한 실제값과 예측값을 비교\n",
        "    for p, y in zip(pred, y_test.flatten()):\n",
        "        print(\"[{}] Prediction: {} True Y: {}\".format(p == int(y), p, int(y)))\n",
        "    print(\"Acc: {:.2%}\".format(acc))"
      ],
      "execution_count": 0,
      "outputs": [
        {
          "output_type": "stream",
          "text": [
            "Step:     0\tCost: 2.928\tAcc: 7.41%\n",
            "Step:  1000\tCost: 0.515\tAcc: 76.54%\n",
            "Step:  2000\tCost: 0.333\tAcc: 80.25%\n",
            "Step:  3000\tCost: 0.252\tAcc: 82.72%\n",
            "Step:  4000\tCost: 0.204\tAcc: 82.72%\n",
            "Step:  5000\tCost: 0.170\tAcc: 85.19%\n",
            "[True] Prediction: 1 True Y: 1\n",
            "[True] Prediction: 1 True Y: 1\n",
            "[False] Prediction: 5 True Y: 7\n",
            "[True] Prediction: 4 True Y: 4\n",
            "[True] Prediction: 1 True Y: 1\n",
            "[True] Prediction: 1 True Y: 1\n",
            "[False] Prediction: 6 True Y: 7\n",
            "[True] Prediction: 1 True Y: 1\n",
            "[True] Prediction: 1 True Y: 1\n",
            "[True] Prediction: 5 True Y: 5\n",
            "[True] Prediction: 5 True Y: 5\n",
            "[True] Prediction: 2 True Y: 2\n",
            "[True] Prediction: 1 True Y: 1\n",
            "[True] Prediction: 4 True Y: 4\n",
            "[True] Prediction: 2 True Y: 2\n",
            "[True] Prediction: 2 True Y: 2\n",
            "[True] Prediction: 2 True Y: 2\n",
            "[True] Prediction: 3 True Y: 3\n",
            "[True] Prediction: 4 True Y: 4\n",
            "[True] Prediction: 1 True Y: 1\n",
            "Acc: 90.00%\n"
          ],
          "name": "stdout"
        }
      ]
    },
    {
      "cell_type": "markdown",
      "metadata": {
        "id": "hPqhUkITJ1fX",
        "colab_type": "text"
      },
      "source": [
        "## EX02. XOR\n",
        "- 서로 다를때 True를 리턴하고, 서로 같으면 False를 리턴하는 논리\n",
        "\n",
        ">\n",
        "X|Y||Z\n",
        "---|---||---\n",
        "0|0||0\n",
        "0|1||1\n",
        "1|0||1\n",
        "1|1||0"
      ]
    },
    {
      "cell_type": "code",
      "metadata": {
        "id": "IdNwga8IJMya",
        "colab_type": "code",
        "colab": {}
      },
      "source": [
        "# XOR\n",
        "import tensorflow as tf\n",
        "import numpy as np\n",
        "tf.set_random_seed(777)\n",
        "learning_rate = 0.1\n",
        "x_data = [[0,0],\n",
        "          [0,1],\n",
        "          [1,0],\n",
        "          [1,1]]\n",
        "y_data = [[0],\n",
        "          [1],\n",
        "          [1],\n",
        "          [0]]\n",
        "x_data = np.array(x_data, dtype=np.float32)\n",
        "y_data = np.array(y_data, dtype=np.float32)\n",
        "\n",
        "X = tf.placeholder(tf.float32, [None,2])\n",
        "Y = tf.placeholder(tf.float32, [None,1])"
      ],
      "execution_count": 0,
      "outputs": []
    },
    {
      "cell_type": "code",
      "metadata": {
        "id": "n91Wr78yLauv",
        "colab_type": "code",
        "colab": {}
      },
      "source": [
        "W = tf.Variable(tf.random_normal([2,1]), name='weight')\n",
        "b = tf.Variable(tf.random_normal([1]), name='bias')\n",
        "\n",
        "# Hypothesis using sigmoid function\n",
        "hypothesis = tf.sigmoid(tf.matmul(X,W)+b)\n",
        "\n",
        "# Cost/Loss function\n",
        "cost = -tf.reduce_mean(Y * tf.log(hypothesis) + (1-Y) * tf.log(1-hypothesis))\n",
        "\n",
        "train = tf.train.GradientDescentOptimizer(learning_rate=learning_rate).minimize(cost)\n",
        "predicted = tf.cast(hypothesis > 0.5, dtype=tf.float32)\n",
        "accuracy = tf.reduce_mean(tf.cast(tf.equal(predicted, Y), dtype=tf.float32))\n",
        "\n",
        "# Launch graph\n",
        "with tf.Session() as sess:\n",
        "    sess.run(tf.global_variables_initializer())\n",
        "    \n",
        "    for step in range(10001):\n",
        "        sess.run(train, feed_dict={X: x_data, Y: y_data})\n",
        "        if step % 100 == 0:\n",
        "            print(step, \n",
        "                  sess.run(cost, feed_dict={X: x_data, Y: y_data}),\n",
        "                  sess.run(W))\n",
        "    # Accuracy report\n",
        "    h, c, a = sess.run([hypothesis, predicted, accuracy],\n",
        "                       feed_dict={X: x_data, Y: y_data})\n",
        "    print(\"\\nHypothesis: \", h, \"\\nCorrect: \", c, \"\\nAccuracy: \", a)"
      ],
      "execution_count": 0,
      "outputs": []
    },
    {
      "cell_type": "code",
      "metadata": {
        "id": "xwB7ImCtKvhm",
        "colab_type": "code",
        "outputId": "18c3073a-c3af-414e-913c-50a49355877a",
        "colab": {
          "base_uri": "https://localhost:8080/",
          "height": 88
        }
      },
      "source": [
        "with tf.name_scope(\"layer1\") as scope:\n",
        "    W1 = tf.Variable(tf.random_normal([2,2]), name = 'weight1')\n",
        "    b1 = tf.Variable(tf.random_normal([2]), name = 'bias1')\n",
        "    layer1 = tf.sigmoid(tf.matmul(X,W1)+b1)\n",
        "    \n",
        "    w1_hist = tf.summary.histogram(\"weights1\",W1)\n",
        "    b1_hist = tf.summary.histogram(\"biases1\",b1)\n",
        "    layer1_hist = tf.summary.histogram(\"layer1\",layer1)\n",
        "    \n",
        "with tf.name_scope(\"layer2\") as scope:\n",
        "    W2 = tf.Variable(tf.random_normal([2,1]), name = 'weight2')\n",
        "    b2 = tf.Variable(tf.random_normal([1]), name = 'bias2')\n",
        "    hypothesis = tf.sigmoid(tf.matmul(layer1,W2)+b2)\n",
        "    \n",
        "    w2_hist = tf.summary.histogram(\"weights2\",W2)\n",
        "    b2_hist = tf.summary.histogram(\"biases2\",b2)\n",
        "    hypothesis_hist = tf.summary.histogram(\"hypothesis\", hypothesis)\n",
        "    \n",
        "with tf.name_scope(\"cost\") as scope:\n",
        "    cost = -tf.reduce_mean(Y * tf.log(hypothesis) + (1-Y) * tf.log(1-hypothesis))\n",
        "    cost_summ = tf.summary.scalar(\"cost\", cost)\n",
        "    \n",
        "with tf.name_scope(\"train\") as scope:\n",
        "    train = tf.train.AdamOptimizer(learning_rate=learning_rate).minimize(cost)"
      ],
      "execution_count": 0,
      "outputs": [
        {
          "output_type": "stream",
          "text": [
            "WARNING:tensorflow:From /usr/local/lib/python3.6/dist-packages/tensorflow/python/framework/op_def_library.py:263: colocate_with (from tensorflow.python.framework.ops) is deprecated and will be removed in a future version.\n",
            "Instructions for updating:\n",
            "Colocations handled automatically by placer.\n"
          ],
          "name": "stdout"
        }
      ]
    },
    {
      "cell_type": "code",
      "metadata": {
        "id": "3slLG-yzKwea",
        "colab_type": "code",
        "outputId": "cec0ea7e-f5ef-4a62-90d4-26279e0b9476",
        "colab": {
          "base_uri": "https://localhost:8080/",
          "height": 5338
        }
      },
      "source": [
        "predicted = tf.cast(hypothesis > 0.5, dtype = tf.float32)\n",
        "accuracy = tf.reduce_mean(tf.cast(tf.equal(predicted, Y), dtype = tf.float32))\n",
        "accuracy_summ = tf.summary.scalar(\"accuracy\", accuracy)\n",
        "\n",
        "with tf.Session() as sess:\n",
        "    merged_summary = tf.summary.merge_all()\n",
        "    writer = tf.summary.FileWriter(\"drive/ColabNotebooks/tb_logs\")\n",
        "    writer.add_graph(sess.graph)\n",
        "    \n",
        "    sess.run(tf.global_variables_initializer())\n",
        "    \n",
        "    for step in range(10001):\n",
        "        summary, _ = sess.run([merged_summary, train], \n",
        "                              feed_dict={X: x_data, Y: y_data})\n",
        "        writer.add_summary(summary, global_step = step)\n",
        "        \n",
        "        if step%100 == 0:\n",
        "            print(step, sess.run(cost, feed_dict={X:x_data, Y:y_data}),\n",
        "                 sess.run([W1,W2]))\n",
        "          \n",
        "    h,c,a = sess.run([hypothesis, predicted, accuracy],\n",
        "                    feed_dict={X:x_data, Y:y_data})\n",
        "    print(\"\\nHypothesis: \",h,\"\\nCorrect: \",c,\"\\nAccuracy: \",a)"
      ],
      "execution_count": 0,
      "outputs": [
        {
          "output_type": "stream",
          "text": [
            "0 0.7106433 [array([[ 0.70269835,  0.77858704],\n",
            "       [-1.117285  , -0.20518988]], dtype=float32), array([[1.8076982 ],\n",
            "       [0.44572306]], dtype=float32)]\n",
            "100 0.025378346 [array([[-6.3617067,  7.0726943],\n",
            "       [ 6.382225 , -7.351254 ]], dtype=float32), array([[8.072095],\n",
            "       [8.096099]], dtype=float32)]\n",
            "200 0.008222368 [array([[-7.177819 ,  7.7899528],\n",
            "       [ 7.207688 , -8.06941  ]], dtype=float32), array([[10.220896],\n",
            "       [10.295114]], dtype=float32)]\n",
            "300 0.0044439835 [array([[-7.5618944,  8.13878  ],\n",
            "       [ 7.5931234, -8.418611 ]], dtype=float32), array([[11.404736],\n",
            "       [11.490021]], dtype=float32)]\n",
            "400 0.0028645056 [array([[-7.817696,  8.373695],\n",
            "       [ 7.849089, -8.653805]], dtype=float32), array([[12.252488],\n",
            "       [12.342842]], dtype=float32)]\n",
            "500 0.0020297016 [array([[-8.008799 ,  8.5504675],\n",
            "       [ 8.040075 , -8.830814 ]], dtype=float32), array([[12.918983],\n",
            "       [13.012582]], dtype=float32)]\n",
            "600 0.0015263349 [array([[-8.161014,  8.692008],\n",
            "       [ 8.192097, -8.972558]], dtype=float32), array([[13.471253 ],\n",
            "       [13.5672245]], dtype=float32)]\n",
            "700 0.0011958219 [array([[-8.287385 ,  8.8099785],\n",
            "       [ 8.318256 , -9.090713 ]], dtype=float32), array([[13.944765],\n",
            "       [14.042605]], dtype=float32)]\n",
            "800 0.00096533366 [array([[-8.395397,  8.911132],\n",
            "       [ 8.426055, -9.192031]], dtype=float32), array([[14.3606415],\n",
            "       [14.460022 ]], dtype=float32)]\n",
            "900 0.0007972785 [array([[-8.489733,  8.999705],\n",
            "       [ 8.520177, -9.280757]], dtype=float32), array([[14.732515],\n",
            "       [14.833199]], dtype=float32)]\n",
            "1000 0.0006704356 [array([[-8.57351 ,  9.07854 ],\n",
            "       [ 8.603752, -9.359737]], dtype=float32), array([[15.069712],\n",
            "       [15.171515]], dtype=float32)]\n",
            "1100 0.0005720265 [array([[-8.648906,  9.149625],\n",
            "       [ 8.678952, -9.430947]], dtype=float32), array([[15.3788805],\n",
            "       [15.481674 ]], dtype=float32)]\n",
            "1200 0.0004939323 [array([[-8.717503,  9.214406],\n",
            "       [ 8.747362, -9.495846]], dtype=float32), array([[15.664954],\n",
            "       [15.768626]], dtype=float32)]\n",
            "1300 0.00043079647 [array([[-8.780474,  9.273964],\n",
            "       [ 8.81016 , -9.55552 ]], dtype=float32), array([[15.931677],\n",
            "       [16.036135]], dtype=float32)]\n",
            "1400 0.00037890443 [array([[-8.838732,  9.329135],\n",
            "       [ 8.868245, -9.610799]], dtype=float32), array([[16.18196],\n",
            "       [16.28715]], dtype=float32)]\n",
            "1500 0.00033575005 [array([[-8.892981,  9.380569],\n",
            "       [ 8.922334, -9.662334]], dtype=float32), array([[16.418139],\n",
            "       [16.52398 ]], dtype=float32)]\n",
            "1600 0.0002993796 [array([[-8.943781,  9.428796],\n",
            "       [ 8.972975, -9.710655]], dtype=float32), array([[16.642052],\n",
            "       [16.748522]], dtype=float32)]\n",
            "1700 0.00026842105 [array([[-8.991591,  9.474222],\n",
            "       [ 9.020648, -9.756175]], dtype=float32), array([[16.855274],\n",
            "       [16.962303]], dtype=float32)]\n",
            "1800 0.00024184547 [array([[-9.036787,  9.517203],\n",
            "       [ 9.065701, -9.799243]], dtype=float32), array([[17.059053],\n",
            "       [17.166594]], dtype=float32)]\n",
            "1900 0.00021884764 [array([[-9.079675,  9.558026],\n",
            "       [ 9.108451, -9.840148]], dtype=float32), array([[17.254454],\n",
            "       [17.362478]], dtype=float32)]\n",
            "2000 0.00019878647 [array([[-9.120513,  9.596932],\n",
            "       [ 9.149157, -9.879133]], dtype=float32), array([[17.442375],\n",
            "       [17.55086 ]], dtype=float32)]\n",
            "2100 0.00018122955 [array([[-9.159525,  9.634137],\n",
            "       [ 9.188038, -9.916406]], dtype=float32), array([[17.623589],\n",
            "       [17.732565]], dtype=float32)]\n",
            "2200 0.00016574452 [array([[-9.1969  ,  9.669795],\n",
            "       [ 9.225291, -9.952138]], dtype=float32), array([[17.798786],\n",
            "       [17.908203]], dtype=float32)]\n",
            "2300 0.00015195875 [array([[-9.232801,  9.704067],\n",
            "       [ 9.261077, -9.986486]], dtype=float32), array([[17.968552],\n",
            "       [18.078354]], dtype=float32)]\n",
            "2400 0.00013966349 [array([[ -9.267362,   9.737078],\n",
            "       [  9.29552 , -10.019571]], dtype=float32), array([[18.133348],\n",
            "       [18.243525]], dtype=float32)]\n",
            "2500 0.00012869475 [array([[ -9.300704,   9.768948],\n",
            "       [  9.328753, -10.051512]], dtype=float32), array([[18.293634],\n",
            "       [18.404165]], dtype=float32)]\n",
            "2600 0.00011882896 [array([[ -9.332936,   9.799773],\n",
            "       [  9.360876, -10.082406]], dtype=float32), array([[18.449799],\n",
            "       [18.560667]], dtype=float32)]\n",
            "2700 0.00010996175 [array([[ -9.364152,   9.829644],\n",
            "       [  9.391987, -10.112342]], dtype=float32), array([[18.602182],\n",
            "       [18.713373]], dtype=float32)]\n",
            "2800 0.000101914266 [array([[ -9.394432,   9.858637],\n",
            "       [  9.422166, -10.141398]], dtype=float32), array([[18.751102],\n",
            "       [18.8626  ]], dtype=float32)]\n",
            "2900 9.4611976e-05 [array([[ -9.423855,   9.886822],\n",
            "       [  9.451487, -10.169645]], dtype=float32), array([[18.896822],\n",
            "       [19.00862 ]], dtype=float32)]\n",
            "3000 8.798035e-05 [array([[ -9.452483,   9.914257],\n",
            "       [  9.480015, -10.197143]], dtype=float32), array([[19.039595],\n",
            "       [19.15168 ]], dtype=float32)]\n",
            "3100 8.191506e-05 [array([[ -9.480376,   9.941001],\n",
            "       [  9.507808, -10.223947]], dtype=float32), array([[19.179638],\n",
            "       [19.292013]], dtype=float32)]\n",
            "3200 7.635648e-05 [array([[ -9.507586,   9.967107],\n",
            "       [  9.534924, -10.250108]], dtype=float32), array([[19.317163],\n",
            "       [19.429808]], dtype=float32)]\n",
            "3300 7.128971e-05 [array([[ -9.534163,   9.992613],\n",
            "       [  9.561409, -10.275671]], dtype=float32), array([[19.452347],\n",
            "       [19.565266]], dtype=float32)]\n",
            "3400 6.664023e-05 [array([[ -9.560148,  10.017557],\n",
            "       [  9.587305, -10.300677]], dtype=float32), array([[19.585365],\n",
            "       [19.698528]], dtype=float32)]\n",
            "3500 6.2303705e-05 [array([[ -9.58558 ,  10.041987],\n",
            "       [  9.612649, -10.32516 ]], dtype=float32), array([[19.716366],\n",
            "       [19.829771]], dtype=float32)]\n",
            "3600 5.8324855e-05 [array([[ -9.610499,  10.065929],\n",
            "       [  9.637483, -10.349156]], dtype=float32), array([[19.845486],\n",
            "       [19.95913 ]], dtype=float32)]\n",
            "3700 5.4688768e-05 [array([[ -9.634933,  10.089414],\n",
            "       [  9.661827, -10.372699]], dtype=float32), array([[19.972834],\n",
            "       [20.086727]], dtype=float32)]\n",
            "3800 5.129112e-05 [array([[ -9.658913,  10.112477],\n",
            "       [  9.685723, -10.395808]], dtype=float32), array([[20.09855 ],\n",
            "       [20.212673]], dtype=float32)]\n",
            "3900 4.8161724e-05 [array([[ -9.6824665,  10.135134 ],\n",
            "       [  9.709192 , -10.418516 ]], dtype=float32), array([[20.222744],\n",
            "       [20.337078]], dtype=float32)]\n",
            "4000 4.5255856e-05 [array([[ -9.705619 ,  10.157411 ],\n",
            "       [  9.73226  , -10.4408455]], dtype=float32), array([[20.345486],\n",
            "       [20.460047]], dtype=float32)]\n",
            "4100 4.2528824e-05 [array([[ -9.72839 ,  10.179335],\n",
            "       [  9.75495 , -10.462819]], dtype=float32), array([[20.466896],\n",
            "       [20.581692]], dtype=float32)]\n",
            "4200 4.0010425e-05 [array([[ -9.750804,  10.200917],\n",
            "       [  9.777283, -10.484451]], dtype=float32), array([[20.587046],\n",
            "       [20.702047]], dtype=float32)]\n",
            "4300 3.767085e-05 [array([[ -9.772879,  10.222186],\n",
            "       [  9.799277, -10.505764]], dtype=float32), array([[20.706013],\n",
            "       [20.821218]], dtype=float32)]\n",
            "4400 3.5465397e-05 [array([[ -9.794637,  10.243149],\n",
            "       [  9.820953, -10.526776]], dtype=float32), array([[20.823872],\n",
            "       [20.93929 ]], dtype=float32)]\n",
            "4500 3.3423865e-05 [array([[ -9.816088,  10.263823],\n",
            "       [  9.842331, -10.547501]], dtype=float32), array([[20.940697],\n",
            "       [21.056309]], dtype=float32)]\n",
            "4600 3.1501557e-05 [array([[ -9.837253,  10.284226],\n",
            "       [  9.863423, -10.567954]], dtype=float32), array([[21.056551],\n",
            "       [21.172344]], dtype=float32)]\n",
            "4700 2.9713361e-05 [array([[ -9.858141,  10.304367],\n",
            "       [  9.884234, -10.588151]], dtype=float32), array([[21.171467],\n",
            "       [21.287455]], dtype=float32)]\n",
            "4800 2.8059283e-05 [array([[ -9.878768,  10.32427 ],\n",
            "       [  9.90479 , -10.608094]], dtype=float32), array([[21.28552],\n",
            "       [21.4017 ]], dtype=float32)]\n",
            "4900 2.6509519e-05 [array([[ -9.899153,  10.343934],\n",
            "       [  9.925099, -10.627811]], dtype=float32), array([[21.398775],\n",
            "       [21.515131]], dtype=float32)]\n",
            "5000 2.5004463e-05 [array([[ -9.919293,  10.363378],\n",
            "       [  9.945172, -10.647298]], dtype=float32), array([[21.51126 ],\n",
            "       [21.627785]], dtype=float32)]\n",
            "5100 2.3648423e-05 [array([[ -9.939213,  10.382608],\n",
            "       [  9.965016, -10.666574]], dtype=float32), array([[21.623001],\n",
            "       [21.73971 ]], dtype=float32)]\n",
            "5200 2.2337092e-05 [array([[ -9.958919 ,  10.401638 ],\n",
            "       [  9.9846525, -10.685647 ]], dtype=float32), array([[21.734083],\n",
            "       [21.850965]], dtype=float32)]\n",
            "5300 2.1100268e-05 [array([[ -9.978413,  10.420472],\n",
            "       [ 10.004079, -10.704525]], dtype=float32), array([[21.844511],\n",
            "       [21.961552]], dtype=float32)]\n",
            "5400 1.9967756e-05 [array([[ -9.997711,  10.439116],\n",
            "       [ 10.023305, -10.723216]], dtype=float32), array([[21.954344],\n",
            "       [22.07154 ]], dtype=float32)]\n",
            "5500 1.889485e-05 [array([[-10.016821,  10.457585],\n",
            "       [ 10.042343, -10.74173 ]], dtype=float32), array([[22.063593],\n",
            "       [22.180964]], dtype=float32)]\n",
            "5600 1.7896455e-05 [array([[-10.035749,  10.47588 ],\n",
            "       [ 10.061202, -10.760076]], dtype=float32), array([[22.172295],\n",
            "       [22.289831]], dtype=float32)]\n",
            "5700 1.6942766e-05 [array([[-10.054498,  10.494015],\n",
            "       [ 10.079887, -10.778249]], dtype=float32), array([[22.280485],\n",
            "       [22.398188]], dtype=float32)]\n",
            "5800 1.6018877e-05 [array([[-10.073081,  10.51199 ],\n",
            "       [ 10.098408, -10.796267]], dtype=float32), array([[22.3882 ],\n",
            "       [22.50605]], dtype=float32)]\n",
            "5900 1.5184399e-05 [array([[-10.091509,  10.529812],\n",
            "       [ 10.116768, -10.814138]], dtype=float32), array([[22.495459],\n",
            "       [22.613466]], dtype=float32)]\n",
            "6000 1.4379724e-05 [array([[-10.109776,  10.547491],\n",
            "       [ 10.134966, -10.831854]], dtype=float32), array([[22.602282],\n",
            "       [22.72045 ]], dtype=float32)]\n",
            "6100 1.3649556e-05 [array([[-10.127894,  10.565026],\n",
            "       [ 10.153022, -10.849438]], dtype=float32), array([[22.708702],\n",
            "       [22.827026]], dtype=float32)]\n",
            "6200 1.2874686e-05 [array([[-10.14587 ,  10.582431],\n",
            "       [ 10.170931, -10.866878]], dtype=float32), array([[22.814734],\n",
            "       [22.93321 ]], dtype=float32)]\n",
            "6300 1.2219027e-05 [array([[-10.163708,  10.599703],\n",
            "       [ 10.188708, -10.88419 ]], dtype=float32), array([[22.920393],\n",
            "       [23.039032]], dtype=float32)]\n",
            "6400 1.1593171e-05 [array([[-10.181407,  10.616844],\n",
            "       [ 10.206347, -10.901382]], dtype=float32), array([[23.025743],\n",
            "       [23.14449 ]], dtype=float32)]\n",
            "6500 1.0982216e-05 [array([[-10.198985,  10.63387 ],\n",
            "       [ 10.223854, -10.918441]], dtype=float32), array([[23.130732],\n",
            "       [23.249636]], dtype=float32)]\n",
            "6600 1.0415966e-05 [array([[-10.216427,  10.650776],\n",
            "       [ 10.241232, -10.935382]], dtype=float32), array([[23.235415],\n",
            "       [23.354475]], dtype=float32)]\n",
            "6700 9.879519e-06 [array([[-10.2337475,  10.667566 ],\n",
            "       [ 10.258494 , -10.952212 ]], dtype=float32), array([[23.339823],\n",
            "       [23.45901 ]], dtype=float32)]\n",
            "6800 9.402676e-06 [array([[-10.250955,  10.684241],\n",
            "       [ 10.275636, -10.968933]], dtype=float32), array([[23.443941],\n",
            "       [23.563257]], dtype=float32)]\n",
            "6900 8.881131e-06 [array([[-10.268049 ,  10.700811 ],\n",
            "       [ 10.2926655, -10.985547 ]], dtype=float32), array([[23.547802],\n",
            "       [23.667244]], dtype=float32)]\n",
            "7000 8.463896e-06 [array([[-10.285033,  10.717272],\n",
            "       [ 10.309584, -11.002056]], dtype=float32), array([[23.651411],\n",
            "       [23.770962]], dtype=float32)]\n",
            "7100 8.031759e-06 [array([[-10.301902,  10.733641],\n",
            "       [ 10.326393, -11.01846 ]], dtype=float32), array([[23.75479 ],\n",
            "       [23.874466]], dtype=float32)]\n",
            "7200 7.629424e-06 [array([[-10.318667,  10.749909],\n",
            "       [ 10.343097, -11.034764]], dtype=float32), array([[23.857933],\n",
            "       [23.977758]], dtype=float32)]\n",
            "7300 7.2121884e-06 [array([[-10.335332,  10.766073],\n",
            "       [ 10.359704, -11.050974]], dtype=float32), array([[23.960876],\n",
            "       [24.080816]], dtype=float32)]\n",
            "7400 6.854558e-06 [array([[-10.351898,  10.782152],\n",
            "       [ 10.376211, -11.067091]], dtype=float32), array([[24.063616],\n",
            "       [24.183695]], dtype=float32)]\n",
            "7500 6.52673e-06 [array([[-10.368368,  10.798139],\n",
            "       [ 10.392622, -11.083115]], dtype=float32), array([[24.166166],\n",
            "       [24.286371]], dtype=float32)]\n",
            "7600 6.1691e-06 [array([[-10.384745 ,  10.8140335],\n",
            "       [ 10.408949 , -11.099049 ]], dtype=float32), array([[24.268564],\n",
            "       [24.388844]], dtype=float32)]\n",
            "7700 5.871075e-06 [array([[-10.401031,  10.829835],\n",
            "       [ 10.425168, -11.114894]], dtype=float32), array([[24.37074 ],\n",
            "       [24.491125]], dtype=float32)]\n",
            "7800 5.5730497e-06 [array([[-10.417227,  10.845562],\n",
            "       [ 10.441312, -11.130658]], dtype=float32), array([[24.47281 ],\n",
            "       [24.593288]], dtype=float32)]\n",
            "7900 5.304828e-06 [array([[-10.433337,  10.861213],\n",
            "       [ 10.457341, -11.146338]], dtype=float32), array([[24.574642],\n",
            "       [24.695297]], dtype=float32)]\n",
            "8000 5.0515064e-06 [array([[-10.449359,  10.876781],\n",
            "       [ 10.473305, -11.161946]], dtype=float32), array([[24.67638 ],\n",
            "       [24.797173]], dtype=float32)]\n",
            "8100 4.753482e-06 [array([[-10.465288 ,  10.8922615],\n",
            "       [ 10.489202 , -11.177479 ]], dtype=float32), array([[24.778044],\n",
            "       [24.898882]], dtype=float32)]\n",
            "8200 4.515062e-06 [array([[-10.481141,  10.907681],\n",
            "       [ 10.505011, -11.192928]], dtype=float32), array([[24.879545],\n",
            "       [25.000528]], dtype=float32)]\n",
            "8300 4.306445e-06 [array([[-10.496916,  10.923039],\n",
            "       [ 10.520721, -11.208293]], dtype=float32), array([[24.980877],\n",
            "       [25.102087]], dtype=float32)]\n",
            "8400 4.0978275e-06 [array([[-10.512618,  10.938255],\n",
            "       [ 10.536333, -11.223585]], dtype=float32), array([[25.08203 ],\n",
            "       [25.203266]], dtype=float32)]\n",
            "8500 3.889211e-06 [array([[-10.528247,  10.953494],\n",
            "       [ 10.551893, -11.238811]], dtype=float32), array([[25.183142],\n",
            "       [25.304688]], dtype=float32)]\n",
            "8600 3.6805936e-06 [array([[-10.543792,  10.968559],\n",
            "       [ 10.56743 , -11.253974]], dtype=float32), array([[25.284302],\n",
            "       [25.405628]], dtype=float32)]\n",
            "8700 3.5315816e-06 [array([[-10.559256,  10.98362 ],\n",
            "       [ 10.5828  , -11.269046]], dtype=float32), array([[25.385065],\n",
            "       [25.506691]], dtype=float32)]\n",
            "8800 3.3229646e-06 [array([[-10.574653,  10.998647],\n",
            "       [ 10.598171, -11.284061]], dtype=float32), array([[25.485977],\n",
            "       [25.607798]], dtype=float32)]\n",
            "8900 3.1739523e-06 [array([[-10.5899935,  11.013506 ],\n",
            "       [ 10.6133995, -11.299028 ]], dtype=float32), array([[25.586569],\n",
            "       [25.70843 ]], dtype=float32)]\n",
            "9000 3.0249403e-06 [array([[-10.605252,  11.02832 ],\n",
            "       [ 10.628669, -11.313906]], dtype=float32), array([[25.687412],\n",
            "       [25.809061]], dtype=float32)]\n",
            "9100 2.8461259e-06 [array([[-10.620436,  11.043096],\n",
            "       [ 10.64381 , -11.328711]], dtype=float32), array([[25.787994],\n",
            "       [25.909712]], dtype=float32)]\n",
            "9200 2.7269161e-06 [array([[-10.635572,  11.057808],\n",
            "       [ 10.658819, -11.343477]], dtype=float32), array([[25.888317],\n",
            "       [26.010273]], dtype=float32)]\n",
            "9300 2.5928055e-06 [array([[-10.650632,  11.072453],\n",
            "       [ 10.673789, -11.358164]], dtype=float32), array([[25.98863 ],\n",
            "       [26.110744]], dtype=float32)]\n",
            "9400 2.4586946e-06 [array([[-10.665605,  11.087026],\n",
            "       [ 10.688706, -11.372791]], dtype=float32), array([[26.088915],\n",
            "       [26.211105]], dtype=float32)]\n",
            "9500 2.339485e-06 [array([[-10.680544,  11.101566],\n",
            "       [ 10.703582, -11.387371]], dtype=float32), array([[26.1892  ],\n",
            "       [26.311493]], dtype=float32)]\n",
            "9600 2.2202755e-06 [array([[-10.695418,  11.116102],\n",
            "       [ 10.718391, -11.401867]], dtype=float32), array([[26.289417],\n",
            "       [26.41205 ]], dtype=float32)]\n",
            "9700 2.101066e-06 [array([[-10.7102  ,  11.13064 ],\n",
            "       [ 10.733134, -11.416301]], dtype=float32), array([[26.389566],\n",
            "       [26.512764]], dtype=float32)]\n",
            "9800 2.011659e-06 [array([[-10.724951,  11.144871],\n",
            "       [ 10.747818, -11.430701]], dtype=float32), array([[26.489668],\n",
            "       [26.612453]], dtype=float32)]\n",
            "9900 1.9073505e-06 [array([[-10.739637 ,  11.1590605],\n",
            "       [ 10.762487 , -11.445059 ]], dtype=float32), array([[26.589876],\n",
            "       [26.712181]], dtype=float32)]\n",
            "10000 1.7881409e-06 [array([[-10.75423 ,  11.173407],\n",
            "       [ 10.777158, -11.459364]], dtype=float32), array([[26.690195],\n",
            "       [26.812704]], dtype=float32)]\n",
            "\n",
            "Hypothesis:  [[1.9360891e-06]\n",
            " [9.9999821e-01]\n",
            " [9.9999845e-01]\n",
            " [1.9067892e-06]] \n",
            "Correct:  [[0.]\n",
            " [1.]\n",
            " [1.]\n",
            " [0.]] \n",
            "Accuracy:  1.0\n"
          ],
          "name": "stdout"
        }
      ]
    },
    {
      "cell_type": "code",
      "metadata": {
        "id": "3VvGcdCMK0q_",
        "colab_type": "code",
        "outputId": "656d0ac5-aaa8-4cf7-80bc-c12600d10575",
        "colab": {
          "base_uri": "https://localhost:8080/",
          "height": 255
        }
      },
      "source": [
        "LOG_DIR = 'drive/ColabNotebooks/tb_logs'\n",
        "\t\n",
        "!wget https://bin.equinox.io/c/4VmDzA7iaHb/ngrok-stable-linux-amd64.zip\n",
        "!unzip ngrok-stable-linux-amd64.zip\n",
        "\t\n",
        "import os\n",
        "if not os.path.exists(LOG_DIR):\n",
        "    os.makedirs(LOG_DIR)\n",
        "\t  \n",
        "get_ipython().system_raw('tensorboard --logdir {} --host 0.0.0.0 --port 6006 &'.format(LOG_DIR))\n",
        "\t\n",
        "get_ipython().system_raw('./ngrok http 6006 &')\n",
        "\t\n",
        "!curl -s http://localhost:4040/api/tunnels | python3 -c \"import sys, json; print(json.load(sys.stdin)['tunnels'][0]['public_url'])\""
      ],
      "execution_count": 0,
      "outputs": [
        {
          "output_type": "stream",
          "text": [
            "--2019-05-01 11:36:47--  https://bin.equinox.io/c/4VmDzA7iaHb/ngrok-stable-linux-amd64.zip\n",
            "Resolving bin.equinox.io (bin.equinox.io)... 52.73.94.166, 34.231.75.48, 52.203.102.189, ...\n",
            "Connecting to bin.equinox.io (bin.equinox.io)|52.73.94.166|:443... connected.\n",
            "HTTP request sent, awaiting response... 200 OK\n",
            "Length: 14991793 (14M) [application/octet-stream]\n",
            "Saving to: ‘ngrok-stable-linux-amd64.zip’\n",
            "\n",
            "ngrok-stable-linux- 100%[===================>]  14.30M  36.4MB/s    in 0.4s    \n",
            "\n",
            "2019-05-01 11:36:52 (36.4 MB/s) - ‘ngrok-stable-linux-amd64.zip’ saved [14991793/14991793]\n",
            "\n",
            "Archive:  ngrok-stable-linux-amd64.zip\n",
            "  inflating: ngrok                   \n",
            "http://f8b4f345.ngrok.io\n"
          ],
          "name": "stdout"
        }
      ]
    },
    {
      "cell_type": "code",
      "metadata": {
        "id": "cqYkC6A1Lrh0",
        "colab_type": "code",
        "colab": {}
      },
      "source": [
        ""
      ],
      "execution_count": 0,
      "outputs": []
    }
  ]
}