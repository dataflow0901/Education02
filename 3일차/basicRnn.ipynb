{
  "nbformat": 4,
  "nbformat_minor": 0,
  "metadata": {
    "colab": {
      "name": "basicRnn.ipynb",
      "version": "0.3.2",
      "provenance": [],
      "collapsed_sections": []
    },
    "kernelspec": {
      "name": "python3",
      "display_name": "Python 3"
    }
  },
  "cells": [
    {
      "cell_type": "code",
      "metadata": {
        "id": "vB7x6WJ7Ju8x",
        "colab_type": "code",
        "colab": {}
      },
      "source": [
        "import tensorflow as tf\n",
        "import numpy as np\n",
        "import matplotlib.pyplot as plt\n",
        "\n",
        "tf.reset_default_graph()"
      ],
      "execution_count": 0,
      "outputs": []
    },
    {
      "cell_type": "code",
      "metadata": {
        "id": "jL_4CD1-KCtQ",
        "colab_type": "code",
        "colab": {}
      },
      "source": [
        "char_arr = [c for c in 'helo']\n",
        "num_dic = {n:i for i, n in enumerate(char_arr)}\n",
        "dic_len = len(num_dic)\n",
        "\n",
        "input_batch = []\n",
        "target_batch =[]"
      ],
      "execution_count": 0,
      "outputs": []
    },
    {
      "cell_type": "code",
      "metadata": {
        "id": "d9fi_Vu4oEVl",
        "colab_type": "code",
        "outputId": "d0d85be6-3241-4cd1-d6d9-0134fb891d87",
        "colab": {
          "base_uri": "https://localhost:8080/",
          "height": 34
        }
      },
      "source": [
        "char_arr"
      ],
      "execution_count": 0,
      "outputs": [
        {
          "output_type": "execute_result",
          "data": {
            "text/plain": [
              "['h', 'e', 'l', 'o']"
            ]
          },
          "metadata": {
            "tags": []
          },
          "execution_count": 158
        }
      ]
    },
    {
      "cell_type": "code",
      "metadata": {
        "id": "Lb_2K10ZpEOl",
        "colab_type": "code",
        "outputId": "03658f13-4096-49ea-a71b-e160ae3d19f4",
        "colab": {
          "base_uri": "https://localhost:8080/",
          "height": 34
        }
      },
      "source": [
        "dic_len"
      ],
      "execution_count": 0,
      "outputs": [
        {
          "output_type": "execute_result",
          "data": {
            "text/plain": [
              "4"
            ]
          },
          "metadata": {
            "tags": []
          },
          "execution_count": 159
        }
      ]
    },
    {
      "cell_type": "code",
      "metadata": {
        "id": "dJ5mnDulKkJM",
        "colab_type": "code",
        "outputId": "070b71b7-9827-4f70-c08b-986e04998bd0",
        "colab": {
          "base_uri": "https://localhost:8080/",
          "height": 34
        }
      },
      "source": [
        "num_dic"
      ],
      "execution_count": 0,
      "outputs": [
        {
          "output_type": "execute_result",
          "data": {
            "text/plain": [
              "{'e': 1, 'h': 0, 'l': 2, 'o': 3}"
            ]
          },
          "metadata": {
            "tags": []
          },
          "execution_count": 160
        }
      ]
    },
    {
      "cell_type": "code",
      "metadata": {
        "id": "agXEJgCMOGI3",
        "colab_type": "code",
        "colab": {}
      },
      "source": [
        "input1 = [num_dic[n] for n in 'helloh']\n",
        "target1 = [num_dic[n] for n in 'elloho'] # 트레이닝 시\n",
        "#target2 = [num_dic[n] for n in 'PPPP'] # 테스트 시\n",
        "#input_batch.append(np.eye(dic_len)[input1])\n",
        "#target_batch.append(np.eye(dic_len)[target1])"
      ],
      "execution_count": 0,
      "outputs": []
    },
    {
      "cell_type": "code",
      "metadata": {
        "id": "ji2RLhHDvVol",
        "colab_type": "code",
        "outputId": "c3a1ec3e-f361-493a-92dc-5d48ae665415",
        "colab": {
          "base_uri": "https://localhost:8080/",
          "height": 34
        }
      },
      "source": [
        "target1"
      ],
      "execution_count": 0,
      "outputs": [
        {
          "output_type": "execute_result",
          "data": {
            "text/plain": [
              "array([[1, 2, 2, 3, 0, 3]])"
            ]
          },
          "metadata": {
            "tags": []
          },
          "execution_count": 179
        }
      ]
    },
    {
      "cell_type": "code",
      "metadata": {
        "id": "T8X3k0k_n28A",
        "colab_type": "code",
        "outputId": "72ae2024-72b8-4512-9353-97962412dd4b",
        "colab": {
          "base_uri": "https://localhost:8080/",
          "height": 34
        }
      },
      "source": [
        "input1"
      ],
      "execution_count": 0,
      "outputs": [
        {
          "output_type": "execute_result",
          "data": {
            "text/plain": [
              "[0, 1, 2, 2, 3, 0]"
            ]
          },
          "metadata": {
            "tags": []
          },
          "execution_count": 162
        }
      ]
    },
    {
      "cell_type": "code",
      "metadata": {
        "id": "pCIAgXDbR-Et",
        "colab_type": "code",
        "colab": {}
      },
      "source": [
        "input_batch = np.eye(dic_len)[input1]\n",
        "target_batch = np.eye(dic_len)[target1]"
      ],
      "execution_count": 0,
      "outputs": []
    },
    {
      "cell_type": "code",
      "metadata": {
        "id": "f9PQnebkpH0_",
        "colab_type": "code",
        "outputId": "71239a92-e78c-4349-b7ef-56711d43ce6c",
        "colab": {
          "base_uri": "https://localhost:8080/",
          "height": 88
        }
      },
      "source": [
        "np.eye(dic_len)"
      ],
      "execution_count": 0,
      "outputs": [
        {
          "output_type": "execute_result",
          "data": {
            "text/plain": [
              "array([[1., 0., 0., 0.],\n",
              "       [0., 1., 0., 0.],\n",
              "       [0., 0., 1., 0.],\n",
              "       [0., 0., 0., 1.]])"
            ]
          },
          "metadata": {
            "tags": []
          },
          "execution_count": 164
        }
      ]
    },
    {
      "cell_type": "code",
      "metadata": {
        "id": "HXIXXCYIgwmo",
        "colab_type": "code",
        "outputId": "7a417d90-6630-4259-f966-f147720e9910",
        "colab": {
          "base_uri": "https://localhost:8080/",
          "height": 123
        }
      },
      "source": [
        "input_batch"
      ],
      "execution_count": 0,
      "outputs": [
        {
          "output_type": "execute_result",
          "data": {
            "text/plain": [
              "array([[1., 0., 0., 0.],\n",
              "       [0., 1., 0., 0.],\n",
              "       [0., 0., 1., 0.],\n",
              "       [0., 0., 1., 0.],\n",
              "       [0., 0., 0., 1.],\n",
              "       [1., 0., 0., 0.]])"
            ]
          },
          "metadata": {
            "tags": []
          },
          "execution_count": 165
        }
      ]
    },
    {
      "cell_type": "code",
      "metadata": {
        "id": "Nz1GqtGfSFYN",
        "colab_type": "code",
        "outputId": "c7ee0b3d-00c6-40de-c782-7d3f4a3f230a",
        "colab": {
          "base_uri": "https://localhost:8080/",
          "height": 123
        }
      },
      "source": [
        "target_batch"
      ],
      "execution_count": 0,
      "outputs": [
        {
          "output_type": "execute_result",
          "data": {
            "text/plain": [
              "array([[0., 1., 0., 0.],\n",
              "       [0., 0., 1., 0.],\n",
              "       [0., 0., 1., 0.],\n",
              "       [0., 0., 0., 1.],\n",
              "       [1., 0., 0., 0.],\n",
              "       [0., 0., 0., 1.]])"
            ]
          },
          "metadata": {
            "tags": []
          },
          "execution_count": 166
        }
      ]
    },
    {
      "cell_type": "code",
      "metadata": {
        "id": "ZaD3jCYmLRVG",
        "colab_type": "code",
        "colab": {}
      },
      "source": [
        "learning_rate = 0.01\n",
        "n_hidden = 12\n",
        "#total_epoch = 100\n",
        "n_step = 6 #최대 4개의 input만 받는\n",
        "# 입력과 출력의 형태가 one-hot 인코딩으로 같으므로 크기도 같다.\n",
        "n_class = dic_len\n",
        "n_input = dic_len"
      ],
      "execution_count": 0,
      "outputs": []
    },
    {
      "cell_type": "code",
      "metadata": {
        "id": "mVechmlhLYMy",
        "colab_type": "code",
        "colab": {}
      },
      "source": [
        "input = tf.placeholder(tf.float32, [1,n_step, n_input], name='input')\n",
        "target = tf.placeholder(tf.float32, [1, n_step], name='target') # target은 one hot encoding이 아님"
      ],
      "execution_count": 0,
      "outputs": []
    },
    {
      "cell_type": "code",
      "metadata": {
        "id": "P8ZAdYLdh8o5",
        "colab_type": "code",
        "outputId": "4577fbcb-b354-4215-8e14-5a6eda36be2c",
        "colab": {
          "base_uri": "https://localhost:8080/",
          "height": 34
        }
      },
      "source": [
        "target.shape"
      ],
      "execution_count": 0,
      "outputs": [
        {
          "output_type": "execute_result",
          "data": {
            "text/plain": [
              "TensorShape([Dimension(1), Dimension(6)])"
            ]
          },
          "metadata": {
            "tags": []
          },
          "execution_count": 169
        }
      ]
    },
    {
      "cell_type": "code",
      "metadata": {
        "id": "O8xxmrappmvr",
        "colab_type": "code",
        "outputId": "7b3b74ab-21e2-4824-e107-39dc7020efc4",
        "colab": {
          "base_uri": "https://localhost:8080/",
          "height": 34
        }
      },
      "source": [
        "input.shape"
      ],
      "execution_count": 0,
      "outputs": [
        {
          "output_type": "execute_result",
          "data": {
            "text/plain": [
              "TensorShape([Dimension(1), Dimension(6), Dimension(4)])"
            ]
          },
          "metadata": {
            "tags": []
          },
          "execution_count": 170
        }
      ]
    },
    {
      "cell_type": "code",
      "metadata": {
        "id": "q3O3RpEKL9ae",
        "colab_type": "code",
        "colab": {}
      },
      "source": [
        "# RNN 셀을 구성한다.\n",
        "with tf.variable_scope('rnn_cell'):\n",
        "    rnn_cell = tf.nn.rnn_cell.BasicRNNCell(n_hidden)\n",
        "    #rnn_cell = tf.nn.rnn_cell.DropoutWrapper(enc_cell, output_keep_prob=0.5)\n",
        "\n",
        "    outputs, enc_states = tf.nn.dynamic_rnn(rnn_cell, input,\n",
        "                                            dtype=tf.float32)"
      ],
      "execution_count": 0,
      "outputs": []
    },
    {
      "cell_type": "code",
      "metadata": {
        "id": "zaTFraC3mXoa",
        "colab_type": "code",
        "outputId": "4d6230bf-1476-4eb5-c18f-33846fad9f60",
        "colab": {
          "base_uri": "https://localhost:8080/",
          "height": 34
        }
      },
      "source": [
        "outputs.shape"
      ],
      "execution_count": 0,
      "outputs": [
        {
          "output_type": "execute_result",
          "data": {
            "text/plain": [
              "TensorShape([Dimension(1), Dimension(6), Dimension(12)])"
            ]
          },
          "metadata": {
            "tags": []
          },
          "execution_count": 172
        }
      ]
    },
    {
      "cell_type": "code",
      "metadata": {
        "id": "Kfhz2o8emawk",
        "colab_type": "code",
        "outputId": "919a5c30-772a-4534-e891-22e610bc4f7c",
        "colab": {
          "base_uri": "https://localhost:8080/",
          "height": 34
        }
      },
      "source": [
        "enc_states.shape"
      ],
      "execution_count": 0,
      "outputs": [
        {
          "output_type": "execute_result",
          "data": {
            "text/plain": [
              "TensorShape([Dimension(1), Dimension(12)])"
            ]
          },
          "metadata": {
            "tags": []
          },
          "execution_count": 173
        }
      ]
    },
    {
      "cell_type": "code",
      "metadata": {
        "id": "iD-ZGJt9K4fe",
        "colab_type": "code",
        "colab": {}
      },
      "source": [
        "model1 = tf.layers.dense(outputs, n_class, activation=None)\n",
        "model = tf.reshape(model1, [n_step,n_class])\n",
        "#prediction = tf.argmax(model, 0)\n",
        "#m = tf.identity(model, name='m')\n",
        "#p = tf.identity(prediction, name='p')\n",
        "\n",
        "cost = tf.reduce_mean(\n",
        "            tf.nn.sparse_softmax_cross_entropy_with_logits(\n",
        "                logits=model, labels=target1))\n",
        "\n",
        "optimizer = tf.train.AdamOptimizer(learning_rate).minimize(cost)"
      ],
      "execution_count": 0,
      "outputs": []
    },
    {
      "cell_type": "code",
      "metadata": {
        "id": "D8T89SLIUBhq",
        "colab_type": "code",
        "outputId": "7fb0c0c3-4d19-45c2-cef9-f65526646390",
        "colab": {
          "base_uri": "https://localhost:8080/",
          "height": 34
        }
      },
      "source": [
        "model1.shape"
      ],
      "execution_count": 0,
      "outputs": [
        {
          "output_type": "execute_result",
          "data": {
            "text/plain": [
              "TensorShape([Dimension(1), Dimension(6), Dimension(4)])"
            ]
          },
          "metadata": {
            "tags": []
          },
          "execution_count": 175
        }
      ]
    },
    {
      "cell_type": "code",
      "metadata": {
        "id": "WwSuNVoKq6eO",
        "colab_type": "code",
        "outputId": "c96f1a32-eebb-4cd6-d4a2-466aa9123738",
        "colab": {
          "base_uri": "https://localhost:8080/",
          "height": 34
        }
      },
      "source": [
        "model.shape"
      ],
      "execution_count": 0,
      "outputs": [
        {
          "output_type": "execute_result",
          "data": {
            "text/plain": [
              "TensorShape([Dimension(6), Dimension(4)])"
            ]
          },
          "metadata": {
            "tags": []
          },
          "execution_count": 176
        }
      ]
    },
    {
      "cell_type": "code",
      "metadata": {
        "id": "c_AeybkgrBUe",
        "colab_type": "code",
        "colab": {}
      },
      "source": [
        ""
      ],
      "execution_count": 0,
      "outputs": []
    },
    {
      "cell_type": "code",
      "metadata": {
        "id": "zH9nl09-NUIT",
        "colab_type": "code",
        "outputId": "43d51883-a200-42d4-d56a-f1c7c3ed75ee",
        "colab": {
          "base_uri": "https://localhost:8080/",
          "height": 1794
        }
      },
      "source": [
        "sess = tf.Session()\n",
        "sess.run(tf.global_variables_initializer())\n",
        "input_batch = input_batch.reshape([1,n_step, n_input])\n",
        "target1 = np.reshape(target1, [1,n_step])\n",
        "\n",
        "for i in range(10000):\n",
        "    _, loss = sess.run([optimizer, cost],\n",
        "                       feed_dict={input: input_batch,\n",
        "                                  target: target1})\n",
        "    if i%100 == 0:\n",
        "      print(i, 'cost', '{:.6f}'.format(loss))"
      ],
      "execution_count": 0,
      "outputs": [
        {
          "output_type": "stream",
          "text": [
            "0 cost 1.667477\n",
            "100 cost 0.011797\n",
            "200 cost 0.003654\n",
            "300 cost 0.001840\n",
            "400 cost 0.001126\n",
            "500 cost 0.000768\n",
            "600 cost 0.000560\n",
            "700 cost 0.000429\n",
            "800 cost 0.000340\n",
            "900 cost 0.000276\n",
            "1000 cost 0.000229\n",
            "1100 cost 0.000193\n",
            "1200 cost 0.000165\n",
            "1300 cost 0.000142\n",
            "1400 cost 0.000124\n",
            "1500 cost 0.000109\n",
            "1600 cost 0.000097\n",
            "1700 cost 0.000086\n",
            "1800 cost 0.000077\n",
            "1900 cost 0.000069\n",
            "2000 cost 0.000063\n",
            "2100 cost 0.000057\n",
            "2200 cost 0.000052\n",
            "2300 cost 0.000047\n",
            "2400 cost 0.000043\n",
            "2500 cost 0.000040\n",
            "2600 cost 0.000037\n",
            "2700 cost 0.000034\n",
            "2800 cost 0.000031\n",
            "2900 cost 0.000029\n",
            "3000 cost 0.000027\n",
            "3100 cost 0.000025\n",
            "3200 cost 0.000023\n",
            "3300 cost 0.000021\n",
            "3400 cost 0.000020\n",
            "3500 cost 0.000019\n",
            "3600 cost 0.000017\n",
            "3700 cost 0.000016\n",
            "3800 cost 0.000015\n",
            "3900 cost 0.000014\n",
            "4000 cost 0.000013\n",
            "4100 cost 0.000013\n",
            "4200 cost 0.000012\n",
            "4300 cost 0.000011\n",
            "4400 cost 0.000010\n",
            "4500 cost 0.000010\n",
            "4600 cost 0.000009\n",
            "4700 cost 0.000009\n",
            "4800 cost 0.000008\n",
            "4900 cost 0.000008\n",
            "5000 cost 0.000007\n",
            "5100 cost 0.000007\n",
            "5200 cost 0.000006\n",
            "5300 cost 0.000006\n",
            "5400 cost 0.000006\n",
            "5500 cost 0.000005\n",
            "5600 cost 0.000005\n",
            "5700 cost 0.000005\n",
            "5800 cost 0.000005\n",
            "5900 cost 0.000004\n",
            "6000 cost 0.000004\n",
            "6100 cost 0.000004\n",
            "6200 cost 0.000004\n",
            "6300 cost 0.000004\n",
            "6400 cost 0.000003\n",
            "6500 cost 0.000003\n",
            "6600 cost 0.000003\n",
            "6700 cost 0.000003\n",
            "6800 cost 0.000003\n",
            "6900 cost 0.000003\n",
            "7000 cost 0.000002\n",
            "7100 cost 0.000002\n",
            "7200 cost 0.000002\n",
            "7300 cost 0.000002\n",
            "7400 cost 0.000002\n",
            "7500 cost 0.000002\n",
            "7600 cost 0.000002\n",
            "7700 cost 0.000002\n",
            "7800 cost 0.000002\n",
            "7900 cost 0.000001\n",
            "8000 cost 0.000001\n",
            "8100 cost 0.000001\n",
            "8200 cost 0.000001\n",
            "8300 cost 0.000001\n",
            "8400 cost 0.000001\n",
            "8500 cost 0.000001\n",
            "8600 cost 0.000001\n",
            "8700 cost 0.000001\n",
            "8800 cost 0.000001\n",
            "8900 cost 0.000001\n",
            "9000 cost 0.000001\n",
            "9100 cost 0.000001\n",
            "9200 cost 0.000001\n",
            "9300 cost 0.000001\n",
            "9400 cost 0.000001\n",
            "9500 cost 0.000001\n",
            "9600 cost 0.000001\n",
            "9700 cost 0.000001\n",
            "9800 cost 0.000001\n",
            "9900 cost 0.000001\n"
          ],
          "name": "stdout"
        }
      ]
    },
    {
      "cell_type": "code",
      "metadata": {
        "id": "5ReHbOyMacFH",
        "colab_type": "code",
        "outputId": "58fadb0a-4b71-4d90-a663-d60e9fec2730",
        "colab": {
          "base_uri": "https://localhost:8080/",
          "height": 408
        }
      },
      "source": [
        "prediction = tf.argmax(model, 1)\n",
        "target2 = np.reshape(target2, [1,n_step])\n",
        "result = sess.run([prediction],\n",
        "                       feed_dict={input: input_batch, target: target2})\n",
        "decoded = [char_arr[i] for i in result[0]]\n",
        "\n",
        "print(decoded)"
      ],
      "execution_count": 0,
      "outputs": [
        {
          "output_type": "error",
          "ename": "ValueError",
          "evalue": "ignored",
          "traceback": [
            "\u001b[0;31m---------------------------------------------------------------------------\u001b[0m",
            "\u001b[0;31mValueError\u001b[0m                                Traceback (most recent call last)",
            "\u001b[0;32m<ipython-input-178-7b85cf3c8fb7>\u001b[0m in \u001b[0;36m<module>\u001b[0;34m()\u001b[0m\n\u001b[1;32m      1\u001b[0m \u001b[0mprediction\u001b[0m \u001b[0;34m=\u001b[0m \u001b[0mtf\u001b[0m\u001b[0;34m.\u001b[0m\u001b[0margmax\u001b[0m\u001b[0;34m(\u001b[0m\u001b[0mmodel\u001b[0m\u001b[0;34m,\u001b[0m \u001b[0;36m1\u001b[0m\u001b[0;34m)\u001b[0m\u001b[0;34m\u001b[0m\u001b[0;34m\u001b[0m\u001b[0m\n\u001b[0;32m----> 2\u001b[0;31m \u001b[0mtarget2\u001b[0m \u001b[0;34m=\u001b[0m \u001b[0mnp\u001b[0m\u001b[0;34m.\u001b[0m\u001b[0mreshape\u001b[0m\u001b[0;34m(\u001b[0m\u001b[0mtarget2\u001b[0m\u001b[0;34m,\u001b[0m \u001b[0;34m[\u001b[0m\u001b[0;36m1\u001b[0m\u001b[0;34m,\u001b[0m\u001b[0mn_step\u001b[0m\u001b[0;34m]\u001b[0m\u001b[0;34m)\u001b[0m\u001b[0;34m\u001b[0m\u001b[0;34m\u001b[0m\u001b[0m\n\u001b[0m\u001b[1;32m      3\u001b[0m result = sess.run([prediction],\n\u001b[1;32m      4\u001b[0m                        feed_dict={input: input_batch, target: target2})\n\u001b[1;32m      5\u001b[0m \u001b[0mdecoded\u001b[0m \u001b[0;34m=\u001b[0m \u001b[0;34m[\u001b[0m\u001b[0mchar_arr\u001b[0m\u001b[0;34m[\u001b[0m\u001b[0mi\u001b[0m\u001b[0;34m]\u001b[0m \u001b[0;32mfor\u001b[0m \u001b[0mi\u001b[0m \u001b[0;32min\u001b[0m \u001b[0mresult\u001b[0m\u001b[0;34m[\u001b[0m\u001b[0;36m0\u001b[0m\u001b[0;34m]\u001b[0m\u001b[0;34m]\u001b[0m\u001b[0;34m\u001b[0m\u001b[0;34m\u001b[0m\u001b[0m\n",
            "\u001b[0;32m/usr/local/lib/python3.6/dist-packages/numpy/core/fromnumeric.py\u001b[0m in \u001b[0;36mreshape\u001b[0;34m(a, newshape, order)\u001b[0m\n\u001b[1;32m    290\u001b[0m            [5, 6]])\n\u001b[1;32m    291\u001b[0m     \"\"\"\n\u001b[0;32m--> 292\u001b[0;31m     \u001b[0;32mreturn\u001b[0m \u001b[0m_wrapfunc\u001b[0m\u001b[0;34m(\u001b[0m\u001b[0ma\u001b[0m\u001b[0;34m,\u001b[0m \u001b[0;34m'reshape'\u001b[0m\u001b[0;34m,\u001b[0m \u001b[0mnewshape\u001b[0m\u001b[0;34m,\u001b[0m \u001b[0morder\u001b[0m\u001b[0;34m=\u001b[0m\u001b[0morder\u001b[0m\u001b[0;34m)\u001b[0m\u001b[0;34m\u001b[0m\u001b[0;34m\u001b[0m\u001b[0m\n\u001b[0m\u001b[1;32m    293\u001b[0m \u001b[0;34m\u001b[0m\u001b[0m\n\u001b[1;32m    294\u001b[0m \u001b[0;34m\u001b[0m\u001b[0m\n",
            "\u001b[0;32m/usr/local/lib/python3.6/dist-packages/numpy/core/fromnumeric.py\u001b[0m in \u001b[0;36m_wrapfunc\u001b[0;34m(obj, method, *args, **kwds)\u001b[0m\n\u001b[1;32m     54\u001b[0m \u001b[0;32mdef\u001b[0m \u001b[0m_wrapfunc\u001b[0m\u001b[0;34m(\u001b[0m\u001b[0mobj\u001b[0m\u001b[0;34m,\u001b[0m \u001b[0mmethod\u001b[0m\u001b[0;34m,\u001b[0m \u001b[0;34m*\u001b[0m\u001b[0margs\u001b[0m\u001b[0;34m,\u001b[0m \u001b[0;34m**\u001b[0m\u001b[0mkwds\u001b[0m\u001b[0;34m)\u001b[0m\u001b[0;34m:\u001b[0m\u001b[0;34m\u001b[0m\u001b[0;34m\u001b[0m\u001b[0m\n\u001b[1;32m     55\u001b[0m     \u001b[0;32mtry\u001b[0m\u001b[0;34m:\u001b[0m\u001b[0;34m\u001b[0m\u001b[0;34m\u001b[0m\u001b[0m\n\u001b[0;32m---> 56\u001b[0;31m         \u001b[0;32mreturn\u001b[0m \u001b[0mgetattr\u001b[0m\u001b[0;34m(\u001b[0m\u001b[0mobj\u001b[0m\u001b[0;34m,\u001b[0m \u001b[0mmethod\u001b[0m\u001b[0;34m)\u001b[0m\u001b[0;34m(\u001b[0m\u001b[0;34m*\u001b[0m\u001b[0margs\u001b[0m\u001b[0;34m,\u001b[0m \u001b[0;34m**\u001b[0m\u001b[0mkwds\u001b[0m\u001b[0;34m)\u001b[0m\u001b[0;34m\u001b[0m\u001b[0;34m\u001b[0m\u001b[0m\n\u001b[0m\u001b[1;32m     57\u001b[0m \u001b[0;34m\u001b[0m\u001b[0m\n\u001b[1;32m     58\u001b[0m     \u001b[0;31m# An AttributeError occurs if the object does not have\u001b[0m\u001b[0;34m\u001b[0m\u001b[0;34m\u001b[0m\u001b[0;34m\u001b[0m\u001b[0m\n",
            "\u001b[0;31mValueError\u001b[0m: cannot reshape array of size 4 into shape (1,6)"
          ]
        }
      ]
    }
  ]
}