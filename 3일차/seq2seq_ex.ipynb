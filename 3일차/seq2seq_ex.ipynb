{
  "nbformat": 4,
  "nbformat_minor": 0,
  "metadata": {
    "colab": {
      "name": "seq2seq_ex.ipynb",
      "version": "0.3.2",
      "provenance": [],
      "collapsed_sections": []
    },
    "kernelspec": {
      "name": "python3",
      "display_name": "Python 3"
    }
  },
  "cells": [
    {
      "cell_type": "code",
      "metadata": {
        "id": "rtPr02ijcX73",
        "colab_type": "code",
        "colab": {}
      },
      "source": [
        "import tensorflow as tf\n",
        "import numpy as np\n",
        "\n",
        "tf.reset_default_graph()"
      ],
      "execution_count": 0,
      "outputs": []
    },
    {
      "cell_type": "code",
      "metadata": {
        "id": "fK_Zf2LccYrD",
        "colab_type": "code",
        "colab": {}
      },
      "source": [
        "\n",
        "\n",
        "char_arr = [c for c in \"SEPabcdefghijklmnopqrstuvwxyz단어나무놀이소녀키스사랑봉구우루\"]\n",
        "num_dic = {n: i for i, n in enumerate(char_arr)}\n",
        "dic_len = len(num_dic)\n",
        "\n",
        "seq_data = [['word', \"단어\"], [\"wood\", \"나무\"], [\"game\", \"놀이\"], [\"girl\", \"소녀\"], \n",
        "            [\"kiss\", \"키스\"], [\"love\", \"사랑\"], [\"bong\", \"봉구\"], [\"uruu\", \"우루\"]]"
      ],
      "execution_count": 0,
      "outputs": []
    },
    {
      "cell_type": "code",
      "metadata": {
        "id": "89tgtSfNdS1p",
        "colab_type": "code",
        "colab": {}
      },
      "source": [
        "def make_batch(seq_data):\n",
        "    input_batch = []\n",
        "    output_batch = []\n",
        "    target_batch = []\n",
        "    \n",
        "    for seq in seq_data:\n",
        "        input = [num_dic[n] for n in seq[0]]\n",
        "        output = [num_dic[n] for n in (\"S\" + seq[1])]\n",
        "        target = [num_dic[n] for n in (seq[1] + \"E\")]\n",
        "        \n",
        "        input_batch.append(np.eye(dic_len)[input])\n",
        "        output_batch.append(np.eye(dic_len)[output])\n",
        "        target_batch.append(target)\n",
        "        \n",
        "    return input_batch, output_batch, target_batch"
      ],
      "execution_count": 0,
      "outputs": []
    },
    {
      "cell_type": "code",
      "metadata": {
        "id": "IuGRUiYVnX3X",
        "colab_type": "code",
        "outputId": "bd459289-c8e5-46c9-d36d-c25ebda88930",
        "colab": {
          "base_uri": "https://localhost:8080/",
          "height": 158
        }
      },
      "source": [
        "target_batch"
      ],
      "execution_count": 0,
      "outputs": [
        {
          "output_type": "execute_result",
          "data": {
            "text/plain": [
              "[[29, 30, 1],\n",
              " [31, 32, 1],\n",
              " [33, 34, 1],\n",
              " [35, 36, 1],\n",
              " [37, 38, 1],\n",
              " [39, 40, 1],\n",
              " [41, 42, 1],\n",
              " [43, 44, 1]]"
            ]
          },
          "metadata": {
            "tags": []
          },
          "execution_count": 24
        }
      ]
    },
    {
      "cell_type": "code",
      "metadata": {
        "id": "9dR8DJ7ldWIY",
        "colab_type": "code",
        "colab": {}
      },
      "source": [
        "learning_rate = 0.001\n",
        "n_hidden = 128\n",
        "total_epoch = 1000\n",
        "\n",
        "n_class = n_input = dic_len"
      ],
      "execution_count": 0,
      "outputs": []
    },
    {
      "cell_type": "code",
      "metadata": {
        "id": "vqVq62XudX2g",
        "colab_type": "code",
        "colab": {}
      },
      "source": [
        "enc_input = tf.placeholder(tf.float32, [None, None, n_input])\n",
        "dec_input = tf.placeholder(tf.float32, [None, None, n_input])\n",
        "targets = tf.placeholder(tf.int64, [None, None])"
      ],
      "execution_count": 0,
      "outputs": []
    },
    {
      "cell_type": "code",
      "metadata": {
        "id": "SIIxONwGdafA",
        "colab_type": "code",
        "colab": {}
      },
      "source": [
        "# encoder: [batch size, time steps, input size]\n",
        "# decoder: [batch size, time steps]\n",
        "\n",
        "with tf.variable_scope(\"encode\"):\n",
        "    enc_cell = tf.nn.rnn_cell.BasicRNNCell(n_hidden)\n",
        "    enc_cell = tf.nn.rnn_cell.DropoutWrapper(enc_cell, output_keep_prob=0.5)\n",
        "    \n",
        "    outputs, enc_states = tf.nn.dynamic_rnn(enc_cell, enc_input, dtype=tf.float32)\n",
        "    \n",
        "with tf.variable_scope(\"decode\"):\n",
        "    dec_cell = tf.nn.rnn_cell.BasicRNNCell(n_hidden)\n",
        "    dec_cell = tf.nn.rnn_cell.DropoutWrapper(enc_cell, output_keep_prob=0.5)\n",
        "    \n",
        "    outputs, dec_stats = tf.nn.dynamic_rnn(dec_cell, dec_input, \n",
        "                                           initial_state=enc_states, dtype=tf.float32)"
      ],
      "execution_count": 0,
      "outputs": []
    },
    {
      "cell_type": "code",
      "metadata": {
        "id": "Wa8Sfov5dewo",
        "colab_type": "code",
        "colab": {}
      },
      "source": [
        "model = tf.layers.dense(outputs, n_class, activation=None)\n",
        "cost = tf.reduce_mean(\n",
        "    tf.nn.sparse_softmax_cross_entropy_with_logits(\n",
        "        logits=model, labels=targets\n",
        "    )\n",
        ")\n",
        "opt = tf.train.AdamOptimizer(learning_rate).minimize(cost)"
      ],
      "execution_count": 0,
      "outputs": []
    },
    {
      "cell_type": "code",
      "metadata": {
        "id": "VlJgBk-SdhRx",
        "colab_type": "code",
        "outputId": "13feefec-6611-4589-c2da-67ea6e1f3b52",
        "colab": {
          "base_uri": "https://localhost:8080/",
          "height": 141
        }
      },
      "source": [
        "init = tf.global_variables_initializer()\n",
        "sess = tf.Session()\n",
        "sess.run(init)\n",
        "\n",
        "input_batch, output_batch, target_batch = make_batch(seq_data)\n",
        "\n",
        "cost_val = []\n",
        "for epoch in range(total_epoch):\n",
        "    _, loss = sess.run([opt, cost], feed_dict={enc_input: input_batch,\n",
        "                                               dec_input: output_batch,\n",
        "                                               targets: target_batch})\n",
        "    cost_val.append(loss)\n",
        "    \n",
        "    if (epoch+1) % 200 ==0:\n",
        "        print(\"Epoch: {:04d}, cost: {}\".format(epoch+1, loss))\n",
        "    \n",
        "    \n",
        "print(\"\\noptimization complete\")"
      ],
      "execution_count": 0,
      "outputs": [
        {
          "output_type": "stream",
          "text": [
            "Epoch: 0200, cost: 0.07323212176561356\n",
            "Epoch: 0400, cost: 0.020066646859049797\n",
            "Epoch: 0600, cost: 0.006556548643857241\n",
            "Epoch: 0800, cost: 0.004306246992200613\n",
            "Epoch: 1000, cost: 0.00525472080335021\n",
            "\n",
            "optimization complete\n"
          ],
          "name": "stdout"
        }
      ]
    },
    {
      "cell_type": "code",
      "metadata": {
        "id": "U5fQmaCVogtN",
        "colab_type": "code",
        "colab": {}
      },
      "source": [
        "def translate(word):\n",
        "    # 이 모델은 입력값과 출력값 데이터로 [영어단어, 한글단어] 사용하지만,\n",
        "    # 예측시에는 한글단어를 알지 못하므로, 디코더의 입출력값을 의미 없는 값인 P 값으로 채운다.\n",
        "    # ['word', 'PPPP']\n",
        "    seq_data = [word, 'P' * len(word)]\n",
        "\n",
        "    input_batch, output_batch, target_batch = make_batch([seq_data])\n",
        "\n",
        "    # 결과가 [batch size, time step, input] 으로 나오기 때문에,\n",
        "    # 2번째 차원인 input 차원을 argmax 로 취해 가장 확률이 높은 글자를 예측 값으로 만든다.\n",
        "    prediction = tf.argmax(model, 2)\n",
        "\n",
        "    result = sess.run(prediction,\n",
        "                      feed_dict={enc_input: input_batch,\n",
        "                                 dec_input: output_batch,\n",
        "                                 targets: target_batch})\n",
        "\n",
        "    # 결과 값인 숫자의 인덱스에 해당하는 글자를 가져와 글자 배열을 만든다.\n",
        "    decoded = [char_arr[i] for i in result[0]]\n",
        "\n",
        "    # 출력의 끝을 의미하는 'E' 이후의 글자들을 제거하고 문자열로 만든다.\n",
        "    end = decoded.index('E')\n",
        "    translated = ''.join(decoded[:end])\n",
        "\n",
        "    return translated"
      ],
      "execution_count": 0,
      "outputs": []
    },
    {
      "cell_type": "code",
      "metadata": {
        "id": "0uj4rk4tolOa",
        "colab_type": "code",
        "outputId": "cf92ec22-6d91-4dc5-f64e-4904efab445b",
        "colab": {
          "base_uri": "https://localhost:8080/",
          "height": 70
        }
      },
      "source": [
        "print('\\n=== 번역 테스트 ===')\n",
        "\n",
        "print('gome ->', translate('gome'))\n",
        "#print('ㄴㅏㅁㅠP ->', translate('ㄴㅏㅁㅠP'))\n",
        "#print('ㄱㅓㅇㅣP ->', translate('ㄱㅓㅇㅇP'))\n",
        "#print('ㅅㅗㄴㅕP ->', translate('ㅅㅗㅕㅇP'))\n",
        "#print('ㅋㅣㅅㅡP ->', translate('ㅋㅣㅅㅅP'))\n",
        "#print('ㅂㅗㅎㅕㅁ ->', translate('ㅂㅗㅎㅕㅁ'))"
      ],
      "execution_count": 0,
      "outputs": [
        {
          "output_type": "stream",
          "text": [
            "\n",
            "=== 번역 테스트 ===\n",
            "gome -> 놀이\n"
          ],
          "name": "stdout"
        }
      ]
    },
    {
      "cell_type": "code",
      "metadata": {
        "id": "iiR3aJYUdjgo",
        "colab_type": "code",
        "colab": {}
      },
      "source": [
        "import matplotlib.pyplot as plt\n",
        "plt.rcParams[\"axes.unicode_minus\"] = False\n",
        "\n",
        "plt.figure(figsize=(20, 10))\n",
        "plt.title(\"cost\")\n",
        "plt.plot(cost_val, linewidth=1, alpha=0.8)\n",
        "plt.show()"
      ],
      "execution_count": 0,
      "outputs": []
    }
  ]
}