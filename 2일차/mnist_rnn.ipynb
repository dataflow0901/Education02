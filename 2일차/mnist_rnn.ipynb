{
  "nbformat": 4,
  "nbformat_minor": 0,
  "metadata": {
    "colab": {
      "name": "mnist_rnn.ipynb",
      "version": "0.3.2",
      "provenance": [],
      "collapsed_sections": []
    },
    "kernelspec": {
      "name": "python3",
      "display_name": "Python 3"
    }
  },
  "cells": [
    {
      "cell_type": "code",
      "metadata": {
        "id": "RywW9Yirpu1V",
        "colab_type": "code",
        "colab": {}
      },
      "source": [
        "import tensorflow as tf\n",
        "tf.__version__\n",
        "import numpy as np\n",
        "import matplotlib.pyplot as plt"
      ],
      "execution_count": 0,
      "outputs": []
    },
    {
      "cell_type": "code",
      "metadata": {
        "id": "ztR1DO56tDam",
        "colab_type": "code",
        "colab": {}
      },
      "source": [
        "from tensorflow.examples.tutorials.mnist import input_data\n",
        "mnist = input_data.read_data_sets('MNIST_data', one_hot=True, reshape = False)"
      ],
      "execution_count": 0,
      "outputs": []
    },
    {
      "cell_type": "code",
      "metadata": {
        "id": "PsAjwx_ktJQF",
        "colab_type": "code",
        "outputId": "24ab5087-d7cf-427a-de32-3eb3e4871d09",
        "colab": {
          "base_uri": "https://localhost:8080/",
          "height": 123
        }
      },
      "source": [
        "print(\"훈련 이미지 :\",  mnist.train.images.shape)\n",
        "print(\"훈련 라벨:\",  mnist.train.labels.shape)\n",
        "print(\"테스트 이미지 : \", mnist.test.images.shape)\n",
        "print(\"테스트 라벨 : \", mnist.test.labels.shape)\n",
        "print(\"검증 이미지 : \", mnist.validation.images.shape)\n",
        "print(\"검증 라벨 : \", mnist.validation.labels.shape)"
      ],
      "execution_count": 0,
      "outputs": [
        {
          "output_type": "stream",
          "text": [
            "훈련 이미지 : (55000, 28, 28, 1)\n",
            "훈련 라벨: (55000, 10)\n",
            "테스트 이미지 :  (10000, 28, 28, 1)\n",
            "테스트 라벨 :  (10000, 10)\n",
            "검증 이미지 :  (5000, 28, 28, 1)\n",
            "검증 라벨 :  (5000, 10)\n"
          ],
          "name": "stdout"
        }
      ]
    },
    {
      "cell_type": "code",
      "metadata": {
        "id": "VKYgqzlWtNrU",
        "colab_type": "code",
        "outputId": "15bc6f01-df42-4893-c9b6-ca2ea09d5f31",
        "colab": {
          "base_uri": "https://localhost:8080/",
          "height": 287
        }
      },
      "source": [
        "mnist_index = 49999\n",
        "image = np.reshape(mnist.train.images[mnist_index], [28, 28])\n",
        "print(mnist.train.labels[mnist_index])\n",
        "plt.imshow(image, cmap='Greys')\n",
        "plt.show()"
      ],
      "execution_count": 0,
      "outputs": [
        {
          "output_type": "stream",
          "text": [
            "[1. 0. 0. 0. 0. 0. 0. 0. 0. 0.]\n"
          ],
          "name": "stdout"
        },
        {
          "output_type": "display_data",
          "data": {
            "image/png": "[encoded data removed]",
            "text/plain": [
              "<Figure size 432x288 with 1 Axes>"
            ]
          },
          "metadata": {
            "tags": []
          }
        }
      ]
    },
    {
      "cell_type": "code",
      "metadata": {
        "id": "gHVn1JoatSHv",
        "colab_type": "code",
        "colab": {}
      },
      "source": [
        "#########\n",
        "# 옵션 설정\n",
        "######\n",
        "learning_rate = 0.001\n",
        "total_epoch = 30\n",
        "batch_size = 128\n",
        "\n",
        "# RNN 은 순서가 있는 자료를 다루므로,\n",
        "# 한 번에 입력받는 갯수 및 입력 데이터의 차원을 정해야 한다.\n",
        "# 이를 위해 가로 픽셀수를 n_input(차원) 으로, 세로 픽셀수를 입력 단계인 n_step(입력받는 갯수) 으로 설정하였습니다.\n",
        "n_input = 28\n",
        "n_step = 28\n",
        "n_hidden = 128\n",
        "n_class = 10\n"
      ],
      "execution_count": 0,
      "outputs": []
    },
    {
      "cell_type": "code",
      "metadata": {
        "id": "vleuQ8bhtpYS",
        "colab_type": "code",
        "outputId": "bac9d987-8f39-4708-b878-b81a79e3900d",
        "colab": {
          "base_uri": "https://localhost:8080/",
          "height": 90
        }
      },
      "source": [
        "#########\n",
        "# 신경망 모델 구성\n",
        "######\n",
        "X = tf.placeholder(tf.float32, [None, n_step, n_input])\n",
        "Y = tf.placeholder(tf.float32, [None, n_class])\n",
        "\n",
        "W = tf.Variable(tf.random_normal([n_hidden, n_class]))\n",
        "b = tf.Variable(tf.random_normal([n_class]))"
      ],
      "execution_count": 0,
      "outputs": [
        {
          "output_type": "stream",
          "text": [
            "WARNING:tensorflow:From /usr/local/lib/python3.6/dist-packages/tensorflow/python/framework/op_def_library.py:263: colocate_with (from tensorflow.python.framework.ops) is deprecated and will be removed in a future version.\n",
            "Instructions for updating:\n",
            "Colocations handled automatically by placer.\n"
          ],
          "name": "stdout"
        }
      ]
    },
    {
      "cell_type": "code",
      "metadata": {
        "id": "fcCAH1GBt2lV",
        "colab_type": "code",
        "outputId": "d76ad6f4-1f94-4193-b71f-118c0c324827",
        "colab": {
          "base_uri": "https://localhost:8080/",
          "height": 70
        }
      },
      "source": [
        "# RNN 에 학습에 사용할 셀을 생성합니다\n",
        "# 다음 함수들을 사용하면 다른 구조의 셀로 간단하게 변경할 수 있습니다\n",
        "# BasicRNNCell,BasicLSTMCell,GRUCell\n",
        "cell = tf.nn.rnn_cell.BasicRNNCell(n_hidden)\n"
      ],
      "execution_count": 0,
      "outputs": [
        {
          "output_type": "stream",
          "text": [
            "WARNING:tensorflow:From <ipython-input-9-e006f918b220>:1: BasicRNNCell.__init__ (from tensorflow.python.ops.rnn_cell_impl) is deprecated and will be removed in a future version.\n",
            "Instructions for updating:\n",
            "This class is equivalent as tf.keras.layers.SimpleRNNCell, and will be replaced by that in Tensorflow 2.0.\n"
          ],
          "name": "stdout"
        }
      ]
    },
    {
      "cell_type": "code",
      "metadata": {
        "id": "8JTjO8Nrt7HU",
        "colab_type": "code",
        "outputId": "809e3704-2029-4328-cfe5-f2ad8fcfc374",
        "colab": {
          "base_uri": "https://localhost:8080/",
          "height": 70
        }
      },
      "source": [
        "cell = tf.nn.rnn_cell.BasicRNNCell(n_hidden)\n",
        "\n",
        "# RNN 신경망을 생성합니다\n",
        "# 원래는 다음과 같은 과정을 거쳐야 하지만\n",
        "# states = tf.zeros(batch_size)\n",
        "# for i in range(n_step):\n",
        "#     outputs, states = cell(X[[:, i]], states)\n",
        "# ...\n",
        "# 다음처럼 tf.nn.dynamic_rnn 함수를 사용하면\n",
        "# CNN 의 tf.nn.conv2d 함수처럼 간단하게 RNN 신경망을 만들어줍니다.\n",
        "# 겁나 매직!!\n",
        "outputs, states = tf.nn.dynamic_rnn(cell, X, dtype=tf.float32)"
      ],
      "execution_count": 0,
      "outputs": [
        {
          "output_type": "stream",
          "text": [
            "WARNING:tensorflow:From <ipython-input-10-cf76968b481e>:12: dynamic_rnn (from tensorflow.python.ops.rnn) is deprecated and will be removed in a future version.\n",
            "Instructions for updating:\n",
            "Please use `keras.layers.RNN(cell)`, which is equivalent to this API\n"
          ],
          "name": "stdout"
        }
      ]
    },
    {
      "cell_type": "code",
      "metadata": {
        "id": "67LWoHLBt_Qc",
        "colab_type": "code",
        "colab": {}
      },
      "source": [
        "# 결과를 Y의 다음 형식과 바꿔야 하기 때문에\n",
        "# Y : [batch_size, n_class]\n",
        "# outputs 의 형태를 이에 맞춰 변경해야합니다.\n",
        "# outputs : [batch_size, n_step, n_hidden]\n",
        "#        -> [n_step, batch_size, n_hidden]\n",
        "#        -> [batch_size, n_hidden]\n",
        "outputs = tf.transpose(outputs, [1, 0, 2])\n",
        "outputs = outputs[-1]\n",
        "model = tf.matmul(outputs, W) + b\n",
        "\n",
        "cost = tf.reduce_mean(tf.nn.softmax_cross_entropy_with_logits_v2(logits=model, labels=Y))\n",
        "optimizer = tf.train.AdamOptimizer(learning_rate).minimize(cost)"
      ],
      "execution_count": 0,
      "outputs": []
    },
    {
      "cell_type": "code",
      "metadata": {
        "id": "ISbOnpRguDjt",
        "colab_type": "code",
        "outputId": "7ef0c93f-fbc6-4336-8272-21f826b9b4bd",
        "colab": {
          "base_uri": "https://localhost:8080/",
          "height": 563
        }
      },
      "source": [
        "#########\n",
        "# 신경망 모델 학습\n",
        "######\n",
        "sess = tf.Session()\n",
        "sess.run(tf.global_variables_initializer())\n",
        "\n",
        "total_batch = int(mnist.train.num_examples/batch_size)\n",
        "\n",
        "for epoch in range(total_epoch):\n",
        "    total_cost = 0\n",
        "\n",
        "    for i in range(total_batch):\n",
        "        batch_xs, batch_ys = mnist.train.next_batch(batch_size)\n",
        "        # X 데이터를 RNN 입력 데이터에 맞게 [batch_size, n_step, n_input] 형태로 변환합니다.\n",
        "        batch_xs = batch_xs.reshape((batch_size, n_step, n_input))\n",
        "\n",
        "        _, cost_val = sess.run([optimizer, cost],\n",
        "                               feed_dict={X: batch_xs, Y: batch_ys})\n",
        "        total_cost += cost_val\n",
        "\n",
        "    print('Epoch:', '%04d' % (epoch + 1),\n",
        "          'Avg. cost =', '{:.3f}'.format(total_cost / total_batch))\n",
        "\n",
        "print('최적화 완료!')"
      ],
      "execution_count": 0,
      "outputs": [
        {
          "output_type": "stream",
          "text": [
            "Epoch: 0001 Avg. cost = 0.576\n",
            "Epoch: 0002 Avg. cost = 0.230\n",
            "Epoch: 0003 Avg. cost = 0.180\n",
            "Epoch: 0004 Avg. cost = 0.154\n",
            "Epoch: 0005 Avg. cost = 0.137\n",
            "Epoch: 0006 Avg. cost = 0.131\n",
            "Epoch: 0007 Avg. cost = 0.114\n",
            "Epoch: 0008 Avg. cost = 0.113\n",
            "Epoch: 0009 Avg. cost = 0.107\n",
            "Epoch: 0010 Avg. cost = 0.101\n",
            "Epoch: 0011 Avg. cost = 0.098\n",
            "Epoch: 0012 Avg. cost = 0.085\n",
            "Epoch: 0013 Avg. cost = 0.091\n",
            "Epoch: 0014 Avg. cost = 0.088\n",
            "Epoch: 0015 Avg. cost = 0.086\n",
            "Epoch: 0016 Avg. cost = 0.085\n",
            "Epoch: 0017 Avg. cost = 0.083\n",
            "Epoch: 0018 Avg. cost = 0.081\n",
            "Epoch: 0019 Avg. cost = 0.081\n",
            "Epoch: 0020 Avg. cost = 0.075\n",
            "Epoch: 0021 Avg. cost = 0.069\n",
            "Epoch: 0022 Avg. cost = 0.067\n",
            "Epoch: 0023 Avg. cost = 0.068\n",
            "Epoch: 0024 Avg. cost = 0.070\n",
            "Epoch: 0025 Avg. cost = 0.068\n",
            "Epoch: 0026 Avg. cost = 0.067\n",
            "Epoch: 0027 Avg. cost = 0.067\n",
            "Epoch: 0028 Avg. cost = 0.063\n",
            "Epoch: 0029 Avg. cost = 0.062\n",
            "Epoch: 0030 Avg. cost = 0.060\n",
            "최적화 완료!\n"
          ],
          "name": "stdout"
        }
      ]
    },
    {
      "cell_type": "code",
      "metadata": {
        "id": "SFCReZtwuLCQ",
        "colab_type": "code",
        "outputId": "7b5262d3-b366-4569-cd78-6fcd0b667a53",
        "colab": {
          "base_uri": "https://localhost:8080/",
          "height": 35
        }
      },
      "source": [
        "#########\n",
        "# 결과 확인\n",
        "######\n",
        "is_correct = tf.equal(tf.argmax(model, 1), tf.argmax(Y, 1))\n",
        "accuracy = tf.reduce_mean(tf.cast(is_correct, tf.float32))\n",
        "\n",
        "test_batch_size = len(mnist.test.images)\n",
        "test_xs = mnist.test.images.reshape(test_batch_size, n_step, n_input)\n",
        "test_ys = mnist.test.labels\n",
        "\n",
        "print('정확도:', sess.run(accuracy,\n",
        "                       feed_dict={X: test_xs, Y: test_ys}))"
      ],
      "execution_count": 0,
      "outputs": [
        {
          "output_type": "stream",
          "text": [
            "정확도: 0.9766\n"
          ],
          "name": "stdout"
        }
      ]
    }
  ]
}