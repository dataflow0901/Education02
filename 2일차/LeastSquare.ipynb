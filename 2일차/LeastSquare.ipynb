{
  "nbformat": 4,
  "nbformat_minor": 0,
  "metadata": {
    "colab": {
      "name": "LeastSquare.ipynb",
      "version": "0.3.2",
      "provenance": [],
      "collapsed_sections": []
    },
    "kernelspec": {
      "name": "python3",
      "display_name": "Python 3"
    }
  },
  "cells": [
    {
      "cell_type": "code",
      "metadata": {
        "id": "FYFAc2ZC7035",
        "colab_type": "code",
        "colab": {}
      },
      "source": [
        "import tensorflow as tf\n",
        "import numpy as np\n",
        "import matplotlib.pyplot as plt\n",
        "from numpy import linalg\n",
        "\n",
        "tf.reset_default_graph()"
      ],
      "execution_count": 0,
      "outputs": []
    },
    {
      "cell_type": "code",
      "metadata": {
        "id": "ejLm7XOcB9vN",
        "colab_type": "code",
        "outputId": "8b1967ae-7731-4554-e6d5-ba514e88c2e7",
        "colab": {
          "base_uri": "https://localhost:8080/",
          "height": 35
        }
      },
      "source": [
        "tf.__version__"
      ],
      "execution_count": 0,
      "outputs": [
        {
          "output_type": "execute_result",
          "data": {
            "text/plain": [
              "'1.13.1'"
            ]
          },
          "metadata": {
            "tags": []
          },
          "execution_count": 2
        }
      ]
    },
    {
      "cell_type": "code",
      "metadata": {
        "id": "VI_r6XRECEWM",
        "colab_type": "code",
        "colab": {}
      },
      "source": [
        "A = np.array([[60,5.5,1], [65,5.0,0], [55,6.0,1]], np.float32)\n",
        "b = np.array([66,74,78], np.float32)\n",
        "tempA = [[]]"
      ],
      "execution_count": 0,
      "outputs": []
    },
    {
      "cell_type": "code",
      "metadata": {
        "id": "HAyUbkkQCNB-",
        "colab_type": "code",
        "colab": {}
      },
      "source": [
        "A.shape"
      ],
      "execution_count": 0,
      "outputs": []
    },
    {
      "cell_type": "code",
      "metadata": {
        "id": "vR2MKvOzESW3",
        "colab_type": "code",
        "outputId": "e1a91712-7519-41b1-9efa-9c01079b56b4",
        "colab": {
          "base_uri": "https://localhost:8080/",
          "height": 70
        }
      },
      "source": [
        "A.transpose(1,0)"
      ],
      "execution_count": 0,
      "outputs": [
        {
          "output_type": "execute_result",
          "data": {
            "text/plain": [
              "array([[60. , 65. , 55. ],\n",
              "       [ 5.5,  5. ,  6. ],\n",
              "       [ 1. ,  0. ,  1. ]])"
            ]
          },
          "metadata": {
            "tags": []
          },
          "execution_count": 17
        }
      ]
    },
    {
      "cell_type": "code",
      "metadata": {
        "id": "zoEffWYXDIu0",
        "colab_type": "code",
        "colab": {}
      },
      "source": [
        "\n",
        "tempA = np.matmul(A.transpose(1,0),A)\n"
      ],
      "execution_count": 0,
      "outputs": []
    },
    {
      "cell_type": "code",
      "metadata": {
        "id": "xaU3Nm6aEgim",
        "colab_type": "code",
        "outputId": "47ee1a3f-fe8e-47ee-af9d-f6851577cfd6",
        "colab": {
          "base_uri": "https://localhost:8080/",
          "height": 70
        }
      },
      "source": [
        "tempA"
      ],
      "execution_count": 0,
      "outputs": [
        {
          "output_type": "execute_result",
          "data": {
            "text/plain": [
              "array([[1.085e+04, 9.850e+02, 1.150e+02],\n",
              "       [9.850e+02, 9.125e+01, 1.150e+01],\n",
              "       [1.150e+02, 1.150e+01, 2.000e+00]], dtype=float32)"
            ]
          },
          "metadata": {
            "tags": []
          },
          "execution_count": 22
        }
      ]
    },
    {
      "cell_type": "code",
      "metadata": {
        "id": "_USykgTQEyBE",
        "colab_type": "code",
        "colab": {}
      },
      "source": [
        "tempi = linalg.inv(tempA)\n",
        "tempb = np.matmul(tempi,A.transpose(1,0))\n",
        "x = np.matmul(tempb,b)"
      ],
      "execution_count": 0,
      "outputs": []
    },
    {
      "cell_type": "code",
      "metadata": {
        "id": "KxIakAo2GBqO",
        "colab_type": "code",
        "outputId": "ff4526dc-ad4f-41b8-f0e7-abf117fa22d0",
        "colab": {
          "base_uri": "https://localhost:8080/",
          "height": 35
        }
      },
      "source": [
        "x"
      ],
      "execution_count": 0,
      "outputs": [
        {
          "output_type": "execute_result",
          "data": {
            "text/plain": [
              "array([ -0.40000057,  20.000198  , -20.000023  ], dtype=float32)"
            ]
          },
          "metadata": {
            "tags": []
          },
          "execution_count": 26
        }
      ]
    }
  ]
}