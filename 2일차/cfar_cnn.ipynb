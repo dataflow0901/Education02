{
  "nbformat": 4,
  "nbformat_minor": 0,
  "metadata": {
    "colab": {
      "name": "cfar_cnn.ipynb",
      "version": "0.3.2",
      "provenance": [],
      "collapsed_sections": []
    },
    "kernelspec": {
      "name": "python3",
      "display_name": "Python 3"
    },
    "accelerator": "TPU"
  },
  "cells": [
    {
      "cell_type": "code",
      "metadata": {
        "id": "1MleqrTXVQDa",
        "colab_type": "code",
        "colab": {}
      },
      "source": [
        "import tensorflow as tf\n",
        "import numpy as np\n",
        "import matplotlib.pyplot as plt\n",
        "from numpy import linalg\n",
        "\n",
        "tf.reset_default_graph()"
      ],
      "execution_count": 0,
      "outputs": []
    },
    {
      "cell_type": "code",
      "metadata": {
        "id": "Y1FHoxe1WHmF",
        "colab_type": "code",
        "colab": {}
      },
      "source": [
        "# CIFAR-10 데이터를 다운로드 받기 위한 keras의 helper 함수인 load_data 함수를 임포트합니다.\n",
        "from tensorflow.keras.datasets.cifar10 import load_data\n",
        "#from tensorflow.examples.tutorials.mnist import input_data"
      ],
      "execution_count": 0,
      "outputs": []
    },
    {
      "cell_type": "code",
      "metadata": {
        "id": "99i96VH8YEXD",
        "colab_type": "code",
        "colab": {}
      },
      "source": [
        "# 다음 배치를 읽어오기 위한 next_batch 유틸리티 함수를 정의합니다.\n",
        "def next_batch(num, data, labels):\n",
        "  #num 개수 만큼의 랜덤한 샘플들과 레이블들을 리턴합니다.\n",
        "  idx = np.arange(0 , len(data))\n",
        "  np.random.shuffle(idx)\n",
        "  idx = idx[:num]\n",
        "  data_shuffle = [data[ i] for i in idx]\n",
        "  labels_shuffle = [labels[ i] for i in idx]  \n",
        "  \n",
        "  return np.asarray(data_shuffle), np.asarray(labels_shuffle)"
      ],
      "execution_count": 0,
      "outputs": []
    },
    {
      "cell_type": "code",
      "metadata": {
        "id": "re-ZNVs1c0KN",
        "colab_type": "code",
        "colab": {}
      },
      "source": [
        "# CNN 모델을 정의합니다. \n",
        "def build_CNN_classifier(x):\n",
        "  # 입력 이미지\n",
        "  x_image = x\n",
        "\n",
        "  # 첫번째 convolutional layer - 하나의 grayscale 이미지를 16개의 특징들(feature)으로 맵핑(maping)합니다.\n",
        "  W_conv1 = tf.Variable(tf.truncated_normal(shape=[3, 3, 3, 16], stddev=5e-2))\n",
        "  b_conv1 = tf.Variable(tf.constant(0.1, shape=[16]))\n",
        "  h_conv1 = tf.nn.relu(tf.nn.conv2d(x_image, W_conv1, strides=[1, 1, 1, 1], padding='SAME') + b_conv1)\n",
        "\n",
        "  # 두번째 convolutional layer - 16개의 특징들(feature)을 32개의 특징들(feature)로 맵핑(maping)합니다.\n",
        "  W_conv2 = tf.Variable(tf.truncated_normal(shape=[5, 5, 16, 32], stddev=5e-2))\n",
        "  b_conv2 = tf.Variable(tf.constant(0.1, shape=[32]))\n",
        "  h_conv2 = tf.nn.relu(tf.nn.conv2d(h_conv1, W_conv2, strides=[1, 1, 1, 1], padding='SAME') + b_conv2)\n",
        "  \n",
        "  # 첫번째 Pooling layer\n",
        "  h_pool1 = tf.nn.max_pool(h_conv2, ksize=[1, 2, 2, 1], strides=[1, 2, 2, 1], padding='SAME')  \n",
        "\n",
        "  # 세번째 convolutional layer\n",
        "  W_conv3 = tf.Variable(tf.truncated_normal(shape=[3, 3, 32, 64], stddev=5e-2))\n",
        "  b_conv3 = tf.Variable(tf.constant(0.1, shape=[64]))\n",
        "  h_conv3 = tf.nn.relu(tf.nn.conv2d(h_pool1, W_conv3, strides=[1, 1, 1, 1], padding='SAME') + b_conv3)\n",
        "\n",
        "  # 네번째 convolutional layer\n",
        "  W_conv4 = tf.Variable(tf.truncated_normal(shape=[3, 3, 64, 128], stddev=5e-2))\n",
        "  b_conv4 = tf.Variable(tf.constant(0.1, shape=[128])) \n",
        "  h_conv4 = tf.nn.relu(tf.nn.conv2d(h_conv3, W_conv4, strides=[1, 1, 1, 1], padding='SAME') + b_conv4)\n",
        "  \n",
        "  # 두번째 pooling layer.\n",
        "  h_pool2 = tf.nn.max_pool(h_conv4, ksize=[1, 2, 2, 1], strides=[1, 2, 2, 1], padding='SAME')  \n",
        "\n",
        "  # 다섯번째 convolutional layer\n",
        "  W_conv5 = tf.Variable(tf.truncated_normal(shape=[3, 3, 128, 128], stddev=5e-2))\n",
        "  b_conv5 = tf.Variable(tf.constant(0.1, shape=[128]))\n",
        "  h_conv5 = tf.nn.relu(tf.nn.conv2d(h_pool2, W_conv5, strides=[1, 1, 1, 1], padding='SAME') + b_conv5)\n",
        "  \n",
        "  #세번째 pooling layer.\n",
        "  h_pool3 = tf.nn.max_pool(h_conv5, ksize=[1, 2, 2, 1], strides=[1, 2, 2, 1], padding='SAME')    \n",
        "  \n",
        "  # 여섯번째 convolutional layer\n",
        "  W_conv6 = tf.Variable(tf.truncated_normal(shape=[3, 3, 128, 128], stddev=5e-2))\n",
        "  b_conv6 = tf.Variable(tf.constant(0.1, shape=[128]))\n",
        "  h_conv6 = tf.nn.relu(tf.nn.conv2d(h_pool3, W_conv6, strides=[1, 1, 1, 1], padding='SAME') + b_conv6)\n",
        "  \n",
        "  #네번째 pooling layer.\n",
        "  h_pool4 = tf.nn.max_pool(h_conv6, ksize=[1, 2, 2, 1], strides=[1, 2, 2, 1], padding='SAME')    \n",
        "\n",
        "  # Fully Connected Layer 3번의 downsampling 이후에, 우리의 32x32 이미지는 4x4x128 특징맵(feature map)이 됩니다.\n",
        "  # 이를 384개의 특징들로 맵핑(maping)합니다.\n",
        "  W_fc1 = tf.Variable(tf.truncated_normal(shape=[2 * 2 * 128, 128], stddev=5e-2))\n",
        "  b_fc1 = tf.Variable(tf.constant(0.1, shape=[128]))\n",
        "\n",
        "  h_pool_flat = tf.reshape(h_pool4, [-1, 2*2*128])\n",
        "  h_fc1 = tf.nn.relu(tf.matmul(h_pool_flat, W_fc1) + b_fc1)\n",
        "\n",
        "  # Dropout - 모델의 복잡도를 컨트롤합니다. 특징들의 co-adaptation을 방지합니다.\n",
        "  h_fc1_drop = tf.nn.dropout(h_fc1, keep_prob) \n",
        "\n",
        "  # Fully Connected Layer 2 - 384개의 특징들(feature)을 10개의 클래스-airplane, automobile, bird...-로 맵핑(maping)합니다.\n",
        "  W_fc2 = tf.Variable(tf.truncated_normal(shape=[128, 10], stddev=5e-2))\n",
        "  b_fc2 = tf.Variable(tf.constant(0.1, shape=[10]))\n",
        "  logits = tf.matmul(h_fc1_drop,W_fc2) + b_fc2\n",
        "  y_pred = tf.nn.softmax(logits)\n",
        "\n",
        "  return y_pred, logits"
      ],
      "execution_count": 0,
      "outputs": []
    },
    {
      "cell_type": "code",
      "metadata": {
        "id": "G9MmH285dG5i",
        "colab_type": "code",
        "colab": {}
      },
      "source": [
        "# 인풋 아웃풋 데이터, 드롭아웃 확률을 입력받기위한 플레이스홀더를 정의합니다.\n",
        "x = tf.placeholder(tf.float32, shape=[None, 32, 32, 3])\n",
        "y = tf.placeholder(tf.float32, shape=[None, 10])\n",
        "keep_prob = tf.placeholder(tf.float32)\n"
      ],
      "execution_count": 0,
      "outputs": []
    },
    {
      "cell_type": "code",
      "metadata": {
        "id": "94kUGhKAct-4",
        "colab_type": "code",
        "outputId": "1e9f429f-3f2d-4e2d-b08a-25eabeb096ee",
        "colab": {
          "base_uri": "https://localhost:8080/",
          "height": 52
        }
      },
      "source": [
        "# CIFAR-10 데이터를 다운로드하고 데이터를 불러옵니다.\n",
        "(x_train, y_train), (x_test, y_test) = load_data()\n",
        "# scalar 형태의 레이블(0~9)을 One-hot Encoding 형태로 변환합니다.\n",
        "y_train_one_hot = tf.squeeze(tf.one_hot(y_train, 10),axis=1)\n",
        "y_test_one_hot = tf.squeeze(tf.one_hot(y_test, 10),axis=1)"
      ],
      "execution_count": 0,
      "outputs": [
        {
          "output_type": "stream",
          "text": [
            "Downloading data from https://www.cs.toronto.edu/~kriz/cifar-10-python.tar.gz\n",
            "170500096/170498071 [==============================] - 16s 0us/step\n"
          ],
          "name": "stdout"
        }
      ]
    },
    {
      "cell_type": "code",
      "metadata": {
        "id": "c7qAeWjWdwa8",
        "colab_type": "code",
        "outputId": "1a26f07a-9665-4935-dca8-502a9d8715b8",
        "colab": {
          "base_uri": "https://localhost:8080/",
          "height": 123
        }
      },
      "source": [
        "# Convolutional Neural Networks(CNN) 그래프를 생성합니다.\n",
        "y_pred, logits = build_CNN_classifier(x)"
      ],
      "execution_count": 0,
      "outputs": [
        {
          "output_type": "stream",
          "text": [
            "WARNING:tensorflow:From /usr/local/lib/python3.6/dist-packages/tensorflow/python/framework/op_def_library.py:263: colocate_with (from tensorflow.python.framework.ops) is deprecated and will be removed in a future version.\n",
            "Instructions for updating:\n",
            "Colocations handled automatically by placer.\n",
            "WARNING:tensorflow:From <ipython-input-4-44e19470c8fb>:56: calling dropout (from tensorflow.python.ops.nn_ops) with keep_prob is deprecated and will be removed in a future version.\n",
            "Instructions for updating:\n",
            "Please use `rate` instead of `keep_prob`. Rate should be set to `rate = 1 - keep_prob`.\n"
          ],
          "name": "stdout"
        }
      ]
    },
    {
      "cell_type": "code",
      "metadata": {
        "id": "NmYPlDL1dyD-",
        "colab_type": "code",
        "outputId": "2d04ef7c-e5b5-41cf-cb3f-0ce123c96c29",
        "colab": {
          "base_uri": "https://localhost:8080/",
          "height": 159
        }
      },
      "source": [
        "# Cross Entropy를 비용함수(loss function)으로 정의하고, RMSPropOptimizer를 이용해서 비용 함수를 최소화합니다.\n",
        "loss = tf.reduce_mean(tf.nn.softmax_cross_entropy_with_logits(labels=y, logits=logits))\n",
        "train_step = tf.train.RMSPropOptimizer(1e-3).minimize(loss)"
      ],
      "execution_count": 0,
      "outputs": [
        {
          "output_type": "stream",
          "text": [
            "WARNING:tensorflow:From <ipython-input-8-6d50f470cc1f>:1: softmax_cross_entropy_with_logits (from tensorflow.python.ops.nn_ops) is deprecated and will be removed in a future version.\n",
            "Instructions for updating:\n",
            "\n",
            "Future major versions of TensorFlow will allow gradients to flow\n",
            "into the labels input on backprop by default.\n",
            "\n",
            "See `tf.nn.softmax_cross_entropy_with_logits_v2`.\n",
            "\n"
          ],
          "name": "stdout"
        }
      ]
    },
    {
      "cell_type": "code",
      "metadata": {
        "id": "nTD1tzk7d0QA",
        "colab_type": "code",
        "colab": {}
      },
      "source": [
        "# 정확도를 계산하는 연산을 추가합니다.\n",
        "correct_prediction = tf.equal(tf.argmax(y_pred, 1), tf.argmax(y, 1))\n",
        "accuracy = tf.reduce_mean(tf.cast(correct_prediction, tf.float32))"
      ],
      "execution_count": 0,
      "outputs": []
    },
    {
      "cell_type": "code",
      "metadata": {
        "id": "FcU0-k5id2no",
        "colab_type": "code",
        "outputId": "e60f8643-c5b7-469e-f017-71ef547ddd48",
        "colab": {
          "base_uri": "https://localhost:8080/",
          "height": 1566
        }
      },
      "source": [
        "# 세션을 열어 실제 학습을 진행합니다.\n",
        "with tf.Session() as sess:\n",
        "  # 모든 변수들을 초기화한다. \n",
        "  sess.run(tf.global_variables_initializer())\n",
        "  \n",
        "  # 10000 Step만큼 최적화를 수행합니다.\n",
        "  for i in range(10000):\n",
        "    batch = next_batch(64, x_train, y_train_one_hot.eval())\n",
        "\n",
        "    # 100 Step마다 training 데이터셋에 대한 정확도와 loss를 출력합니다.\n",
        "    if i % 100 == 0:\n",
        "      train_accuracy = accuracy.eval(feed_dict={x: batch[0], y: batch[1], keep_prob: 1.0})\n",
        "      loss_print = loss.eval(feed_dict={x: batch[0], y: batch[1], keep_prob: 1.0})\n",
        "\n",
        "      print(\"반복(Epoch): %d, 트레이닝 데이터 정확도: %f, 손실 함수(loss): %f\" % (i, train_accuracy, loss_print))\n",
        "    # 20% 확률의 Dropout을 이용해서 학습을 진행합니다.\n",
        "    sess.run(train_step, feed_dict={x: batch[0], y: batch[1], keep_prob: 0.8})\n",
        "\n",
        "  # 학습이 끝나면 테스트 데이터(10000개)에 대한 정확도를 출력합니다.  \n",
        "  test_accuracy = 0.0  \n",
        "  for i in range(10):\n",
        "    test_batch = next_batch(1000, x_test, y_test_one_hot.eval())\n",
        "    test_accuracy = test_accuracy + accuracy.eval(feed_dict={x: test_batch[0], y: test_batch[1], keep_prob: 1.0})\n",
        "  test_accuracy = test_accuracy / 10;\n",
        "  print(\"테스트 데이터 정확도: %f\" % test_accuracy)"
      ],
      "execution_count": 0,
      "outputs": [
        {
          "output_type": "stream",
          "text": [
            "반복(Epoch): 0, 트레이닝 데이터 정확도: 0.031250, 손실 함수(loss): 5.547497\n",
            "반복(Epoch): 100, 트레이닝 데이터 정확도: 0.109375, 손실 함수(loss): 2.242839\n",
            "반복(Epoch): 200, 트레이닝 데이터 정확도: 0.140625, 손실 함수(loss): 3.163556\n",
            "반복(Epoch): 300, 트레이닝 데이터 정확도: 0.343750, 손실 함수(loss): 1.757909\n",
            "반복(Epoch): 400, 트레이닝 데이터 정확도: 0.390625, 손실 함수(loss): 1.475577\n",
            "반복(Epoch): 500, 트레이닝 데이터 정확도: 0.437500, 손실 함수(loss): 1.590437\n",
            "반복(Epoch): 600, 트레이닝 데이터 정확도: 0.406250, 손실 함수(loss): 1.643724\n",
            "반복(Epoch): 700, 트레이닝 데이터 정확도: 0.375000, 손실 함수(loss): 1.615167\n",
            "반복(Epoch): 800, 트레이닝 데이터 정확도: 0.515625, 손실 함수(loss): 1.307433\n",
            "반복(Epoch): 900, 트레이닝 데이터 정확도: 0.578125, 손실 함수(loss): 1.314286\n",
            "반복(Epoch): 1000, 트레이닝 데이터 정확도: 0.531250, 손실 함수(loss): 1.153880\n",
            "반복(Epoch): 1100, 트레이닝 데이터 정확도: 0.546875, 손실 함수(loss): 1.232640\n",
            "반복(Epoch): 1200, 트레이닝 데이터 정확도: 0.500000, 손실 함수(loss): 1.326224\n",
            "반복(Epoch): 1300, 트레이닝 데이터 정확도: 0.671875, 손실 함수(loss): 0.870851\n",
            "반복(Epoch): 1400, 트레이닝 데이터 정확도: 0.656250, 손실 함수(loss): 0.903598\n",
            "반복(Epoch): 1500, 트레이닝 데이터 정확도: 0.734375, 손실 함수(loss): 0.722039\n",
            "반복(Epoch): 1600, 트레이닝 데이터 정확도: 0.625000, 손실 함수(loss): 1.107236\n",
            "반복(Epoch): 1700, 트레이닝 데이터 정확도: 0.640625, 손실 함수(loss): 0.961356\n",
            "반복(Epoch): 1800, 트레이닝 데이터 정확도: 0.671875, 손실 함수(loss): 1.039430\n",
            "반복(Epoch): 1900, 트레이닝 데이터 정확도: 0.656250, 손실 함수(loss): 0.879773\n",
            "반복(Epoch): 2000, 트레이닝 데이터 정확도: 0.578125, 손실 함수(loss): 1.340401\n",
            "반복(Epoch): 2100, 트레이닝 데이터 정확도: 0.765625, 손실 함수(loss): 0.663269\n",
            "반복(Epoch): 2200, 트레이닝 데이터 정확도: 0.796875, 손실 함수(loss): 0.618386\n",
            "반복(Epoch): 2300, 트레이닝 데이터 정확도: 0.671875, 손실 함수(loss): 0.927680\n",
            "반복(Epoch): 2400, 트레이닝 데이터 정확도: 0.859375, 손실 함수(loss): 0.468911\n",
            "반복(Epoch): 2500, 트레이닝 데이터 정확도: 0.718750, 손실 함수(loss): 0.654015\n",
            "반복(Epoch): 2600, 트레이닝 데이터 정확도: 0.734375, 손실 함수(loss): 0.651346\n",
            "반복(Epoch): 2700, 트레이닝 데이터 정확도: 0.703125, 손실 함수(loss): 0.954972\n",
            "반복(Epoch): 2800, 트레이닝 데이터 정확도: 0.781250, 손실 함수(loss): 0.574913\n",
            "반복(Epoch): 2900, 트레이닝 데이터 정확도: 0.765625, 손실 함수(loss): 0.728178\n",
            "반복(Epoch): 3000, 트레이닝 데이터 정확도: 0.671875, 손실 함수(loss): 0.953205\n",
            "반복(Epoch): 3100, 트레이닝 데이터 정확도: 0.640625, 손실 함수(loss): 0.858909\n",
            "반복(Epoch): 3200, 트레이닝 데이터 정확도: 0.703125, 손실 함수(loss): 0.790613\n",
            "반복(Epoch): 3300, 트레이닝 데이터 정확도: 0.703125, 손실 함수(loss): 1.098747\n",
            "반복(Epoch): 3400, 트레이닝 데이터 정확도: 0.750000, 손실 함수(loss): 0.857895\n",
            "반복(Epoch): 3500, 트레이닝 데이터 정확도: 0.812500, 손실 함수(loss): 0.493636\n",
            "반복(Epoch): 3600, 트레이닝 데이터 정확도: 0.750000, 손실 함수(loss): 0.854958\n",
            "반복(Epoch): 3700, 트레이닝 데이터 정확도: 0.750000, 손실 함수(loss): 0.686520\n",
            "반복(Epoch): 3800, 트레이닝 데이터 정확도: 0.781250, 손실 함수(loss): 0.748511\n",
            "반복(Epoch): 3900, 트레이닝 데이터 정확도: 0.765625, 손실 함수(loss): 0.697088\n",
            "반복(Epoch): 4000, 트레이닝 데이터 정확도: 0.734375, 손실 함수(loss): 0.907782\n",
            "반복(Epoch): 4100, 트레이닝 데이터 정확도: 0.687500, 손실 함수(loss): 1.009745\n",
            "반복(Epoch): 4200, 트레이닝 데이터 정확도: 0.781250, 손실 함수(loss): 0.752327\n",
            "반복(Epoch): 4300, 트레이닝 데이터 정확도: 0.843750, 손실 함수(loss): 0.409003\n",
            "반복(Epoch): 4400, 트레이닝 데이터 정확도: 0.765625, 손실 함수(loss): 0.616968\n",
            "반복(Epoch): 4500, 트레이닝 데이터 정확도: 0.750000, 손실 함수(loss): 0.831207\n",
            "반복(Epoch): 4600, 트레이닝 데이터 정확도: 0.671875, 손실 함수(loss): 1.148919\n",
            "반복(Epoch): 4700, 트레이닝 데이터 정확도: 0.781250, 손실 함수(loss): 0.665378\n",
            "반복(Epoch): 4800, 트레이닝 데이터 정확도: 0.781250, 손실 함수(loss): 0.516590\n",
            "반복(Epoch): 4900, 트레이닝 데이터 정확도: 0.531250, 손실 함수(loss): 1.884515\n",
            "반복(Epoch): 5000, 트레이닝 데이터 정확도: 0.718750, 손실 함수(loss): 1.197000\n",
            "반복(Epoch): 5100, 트레이닝 데이터 정확도: 0.718750, 손실 함수(loss): 1.115856\n",
            "반복(Epoch): 5200, 트레이닝 데이터 정확도: 0.734375, 손실 함수(loss): 0.721749\n",
            "반복(Epoch): 5300, 트레이닝 데이터 정확도: 0.656250, 손실 함수(loss): 0.860283\n",
            "반복(Epoch): 5400, 트레이닝 데이터 정확도: 0.687500, 손실 함수(loss): 0.869030\n",
            "반복(Epoch): 5500, 트레이닝 데이터 정확도: 0.625000, 손실 함수(loss): 1.724304\n",
            "반복(Epoch): 5600, 트레이닝 데이터 정확도: 0.812500, 손실 함수(loss): 0.633325\n",
            "반복(Epoch): 5700, 트레이닝 데이터 정확도: 0.765625, 손실 함수(loss): 0.858872\n",
            "반복(Epoch): 5800, 트레이닝 데이터 정확도: 0.687500, 손실 함수(loss): 0.788975\n",
            "반복(Epoch): 5900, 트레이닝 데이터 정확도: 0.687500, 손실 함수(loss): 1.074661\n",
            "반복(Epoch): 6000, 트레이닝 데이터 정확도: 0.734375, 손실 함수(loss): 0.752278\n",
            "반복(Epoch): 6100, 트레이닝 데이터 정확도: 0.734375, 손실 함수(loss): 0.773850\n",
            "반복(Epoch): 6200, 트레이닝 데이터 정확도: 0.796875, 손실 함수(loss): 0.631136\n",
            "반복(Epoch): 6300, 트레이닝 데이터 정확도: 0.765625, 손실 함수(loss): 0.732975\n",
            "반복(Epoch): 6400, 트레이닝 데이터 정확도: 0.703125, 손실 함수(loss): 0.705850\n",
            "반복(Epoch): 6500, 트레이닝 데이터 정확도: 0.781250, 손실 함수(loss): 0.649779\n",
            "반복(Epoch): 6600, 트레이닝 데이터 정확도: 0.734375, 손실 함수(loss): 0.859017\n",
            "반복(Epoch): 6700, 트레이닝 데이터 정확도: 0.687500, 손실 함수(loss): 0.947528\n",
            "반복(Epoch): 6800, 트레이닝 데이터 정확도: 0.687500, 손실 함수(loss): 0.914525\n",
            "반복(Epoch): 6900, 트레이닝 데이터 정확도: 0.531250, 손실 함수(loss): 2.006339\n",
            "반복(Epoch): 7000, 트레이닝 데이터 정확도: 0.750000, 손실 함수(loss): 0.800906\n",
            "반복(Epoch): 7100, 트레이닝 데이터 정확도: 0.796875, 손실 함수(loss): 0.598833\n",
            "반복(Epoch): 7200, 트레이닝 데이터 정확도: 0.843750, 손실 함수(loss): 0.474032\n",
            "반복(Epoch): 7300, 트레이닝 데이터 정확도: 0.734375, 손실 함수(loss): 0.877138\n",
            "반복(Epoch): 7400, 트레이닝 데이터 정확도: 0.687500, 손실 함수(loss): 0.737544\n",
            "반복(Epoch): 7500, 트레이닝 데이터 정확도: 0.703125, 손실 함수(loss): 0.725768\n",
            "반복(Epoch): 7600, 트레이닝 데이터 정확도: 0.750000, 손실 함수(loss): 0.702559\n",
            "반복(Epoch): 7700, 트레이닝 데이터 정확도: 0.828125, 손실 함수(loss): 0.560554\n",
            "반복(Epoch): 7800, 트레이닝 데이터 정확도: 0.843750, 손실 함수(loss): 0.519644\n",
            "반복(Epoch): 7900, 트레이닝 데이터 정확도: 0.656250, 손실 함수(loss): 0.945644\n",
            "반복(Epoch): 8000, 트레이닝 데이터 정확도: 0.765625, 손실 함수(loss): 0.828814\n",
            "반복(Epoch): 8100, 트레이닝 데이터 정확도: 0.828125, 손실 함수(loss): 0.414029\n",
            "반복(Epoch): 8200, 트레이닝 데이터 정확도: 0.687500, 손실 함수(loss): 0.955472\n",
            "반복(Epoch): 8300, 트레이닝 데이터 정확도: 0.750000, 손실 함수(loss): 0.655348\n",
            "반복(Epoch): 8400, 트레이닝 데이터 정확도: 0.828125, 손실 함수(loss): 0.506724\n",
            "반복(Epoch): 8500, 트레이닝 데이터 정확도: 0.718750, 손실 함수(loss): 0.987455\n",
            "반복(Epoch): 8600, 트레이닝 데이터 정확도: 0.781250, 손실 함수(loss): 0.643872\n",
            "반복(Epoch): 8700, 트레이닝 데이터 정확도: 0.812500, 손실 함수(loss): 0.614969\n",
            "반복(Epoch): 8800, 트레이닝 데이터 정확도: 0.671875, 손실 함수(loss): 0.942895\n",
            "반복(Epoch): 8900, 트레이닝 데이터 정확도: 0.625000, 손실 함수(loss): 1.398308\n",
            "반복(Epoch): 9000, 트레이닝 데이터 정확도: 0.750000, 손실 함수(loss): 0.845184\n",
            "반복(Epoch): 9100, 트레이닝 데이터 정확도: 0.687500, 손실 함수(loss): 0.743280\n",
            "반복(Epoch): 9200, 트레이닝 데이터 정확도: 0.875000, 손실 함수(loss): 0.474669\n"
          ],
          "name": "stdout"
        }
      ]
    }
  ]
}