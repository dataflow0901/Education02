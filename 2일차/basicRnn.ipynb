{
  "nbformat": 4,
  "nbformat_minor": 0,
  "metadata": {
    "colab": {
      "name": "basicRnn.ipynb",
      "version": "0.3.2",
      "provenance": [],
      "collapsed_sections": []
    },
    "kernelspec": {
      "name": "python3",
      "display_name": "Python 3"
    }
  },
  "cells": [
    {
      "cell_type": "code",
      "metadata": {
        "id": "vB7x6WJ7Ju8x",
        "colab_type": "code",
        "colab": {}
      },
      "source": [
        "import tensorflow as tf\n",
        "import numpy as np\n",
        "import matplotlib.pyplot as plt\n",
        "\n",
        "tf.reset_default_graph()"
      ],
      "execution_count": 0,
      "outputs": []
    },
    {
      "cell_type": "code",
      "metadata": {
        "id": "jL_4CD1-KCtQ",
        "colab_type": "code",
        "colab": {}
      },
      "source": [
        "char_arr = [c for c in 'SEPhelo']\n",
        "num_dic = {n:i for i, n in enumerate(char_arr)}\n",
        "dic_len = len(num_dic)\n",
        "\n",
        "input_batch = []\n",
        "target_batch =[]"
      ],
      "execution_count": 0,
      "outputs": []
    },
    {
      "cell_type": "code",
      "metadata": {
        "id": "w4uPpXbMKfpO",
        "colab_type": "code",
        "outputId": "27ac3178-2bba-43cf-a68e-9adf09ccaeef",
        "colab": {
          "base_uri": "https://localhost:8080/",
          "height": 35
        }
      },
      "source": [
        "char_arr"
      ],
      "execution_count": 0,
      "outputs": [
        {
          "output_type": "execute_result",
          "data": {
            "text/plain": [
              "['S', 'E', 'P', 'h', 'e', 'l', 'o']"
            ]
          },
          "metadata": {
            "tags": []
          },
          "execution_count": 154
        }
      ]
    },
    {
      "cell_type": "markdown",
      "metadata": {
        "id": "WB7OwButX82g",
        "colab_type": "text"
      },
      "source": [
        ""
      ]
    },
    {
      "cell_type": "code",
      "metadata": {
        "id": "dJ5mnDulKkJM",
        "colab_type": "code",
        "outputId": "e46d39d8-5e90-41ea-c839-6cdf173196d2",
        "colab": {
          "base_uri": "https://localhost:8080/",
          "height": 35
        }
      },
      "source": [
        "num_dic"
      ],
      "execution_count": 0,
      "outputs": [
        {
          "output_type": "execute_result",
          "data": {
            "text/plain": [
              "{'E': 1, 'P': 2, 'S': 0, 'e': 4, 'h': 3, 'l': 5, 'o': 6}"
            ]
          },
          "metadata": {
            "tags": []
          },
          "execution_count": 155
        }
      ]
    },
    {
      "cell_type": "code",
      "metadata": {
        "id": "agXEJgCMOGI3",
        "colab_type": "code",
        "colab": {}
      },
      "source": [
        "input1 = [num_dic[n] for n in 'hell']\n",
        "target1 = [num_dic[n] for n in 'ello'] # 트레이닝 시\n",
        "target2 = [num_dic[n] for n in 'PPPP'] # 테스트 시\n",
        "#input_batch.append(np.eye(dic_len)[input1])\n",
        "#target_batch.append(np.eye(dic_len)[target1])"
      ],
      "execution_count": 0,
      "outputs": []
    },
    {
      "cell_type": "code",
      "metadata": {
        "id": "NJZQeY9hRzyI",
        "colab_type": "code",
        "outputId": "a7229fb1-fb25-4578-f792-832dc3b08420",
        "colab": {
          "base_uri": "https://localhost:8080/",
          "height": 35
        }
      },
      "source": [
        "target1"
      ],
      "execution_count": 0,
      "outputs": [
        {
          "output_type": "execute_result",
          "data": {
            "text/plain": [
              "[4, 5, 5, 6]"
            ]
          },
          "metadata": {
            "tags": []
          },
          "execution_count": 156
        }
      ]
    },
    {
      "cell_type": "code",
      "metadata": {
        "id": "pCIAgXDbR-Et",
        "colab_type": "code",
        "colab": {}
      },
      "source": [
        "input_batch = np.eye(dic_len)[input1]\n",
        "target_batch = np.eye(dic_len)[target1]"
      ],
      "execution_count": 0,
      "outputs": []
    },
    {
      "cell_type": "code",
      "metadata": {
        "id": "Nz1GqtGfSFYN",
        "colab_type": "code",
        "outputId": "746cb4cc-805e-4424-d99c-57a027805310",
        "colab": {
          "base_uri": "https://localhost:8080/",
          "height": 87
        }
      },
      "source": [
        "target_batch"
      ],
      "execution_count": 0,
      "outputs": [
        {
          "output_type": "execute_result",
          "data": {
            "text/plain": [
              "array([[0., 1., 0., 0.],\n",
              "       [0., 0., 1., 0.],\n",
              "       [0., 0., 1., 0.],\n",
              "       [0., 0., 0., 1.]])"
            ]
          },
          "metadata": {
            "tags": []
          },
          "execution_count": 55
        }
      ]
    },
    {
      "cell_type": "code",
      "metadata": {
        "id": "ZaD3jCYmLRVG",
        "colab_type": "code",
        "colab": {}
      },
      "source": [
        "learning_rate = 0.01\n",
        "n_hidden = 12\n",
        "#total_epoch = 100\n",
        "n_step = 4 #최대 4개의 input만 받는\n",
        "# 입력과 출력의 형태가 one-hot 인코딩으로 같으므로 크기도 같다.\n",
        "n_class = dic_len\n",
        "n_input = dic_len"
      ],
      "execution_count": 0,
      "outputs": []
    },
    {
      "cell_type": "code",
      "metadata": {
        "id": "mVechmlhLYMy",
        "colab_type": "code",
        "colab": {}
      },
      "source": [
        "input = tf.placeholder(tf.float32, [1,n_step, n_input], name='input')\n",
        "target = tf.placeholder(tf.float32, [1, n_step], name='target')"
      ],
      "execution_count": 0,
      "outputs": []
    },
    {
      "cell_type": "code",
      "metadata": {
        "id": "q3O3RpEKL9ae",
        "colab_type": "code",
        "colab": {}
      },
      "source": [
        "# RNN 셀을 구성한다.\n",
        "with tf.variable_scope('rnn_cell'):\n",
        "    rnn_cell = tf.nn.rnn_cell.BasicRNNCell(n_hidden)\n",
        "    #rnn_cell = tf.nn.rnn_cell.DropoutWrapper(enc_cell, output_keep_prob=0.5)\n",
        "\n",
        "    outputs, enc_states = tf.nn.dynamic_rnn(rnn_cell, input,\n",
        "                                            dtype=tf.float32)"
      ],
      "execution_count": 0,
      "outputs": []
    },
    {
      "cell_type": "code",
      "metadata": {
        "id": "iD-ZGJt9K4fe",
        "colab_type": "code",
        "colab": {}
      },
      "source": [
        "model = tf.layers.dense(outputs, n_class, activation=None)\n",
        "model = tf.reshape(model, [n_step,n_class])\n",
        "#prediction = tf.argmax(model, 0)\n",
        "#m = tf.identity(model, name='m')\n",
        "#p = tf.identity(prediction, name='p')\n",
        "\n",
        "cost = tf.reduce_mean(\n",
        "            tf.nn.sparse_softmax_cross_entropy_with_logits(\n",
        "                logits=model, labels=target1))\n",
        "\n",
        "optimizer = tf.train.AdamOptimizer(learning_rate).minimize(cost)"
      ],
      "execution_count": 0,
      "outputs": []
    },
    {
      "cell_type": "code",
      "metadata": {
        "id": "D8T89SLIUBhq",
        "colab_type": "code",
        "outputId": "e526fdb2-2260-49df-cbe6-0dafd8a5a16d",
        "colab": {
          "base_uri": "https://localhost:8080/",
          "height": 35
        }
      },
      "source": [
        "model.shape"
      ],
      "execution_count": 0,
      "outputs": [
        {
          "output_type": "execute_result",
          "data": {
            "text/plain": [
              "TensorShape([Dimension(1), Dimension(4), Dimension(4)])"
            ]
          },
          "metadata": {
            "tags": []
          },
          "execution_count": 62
        }
      ]
    },
    {
      "cell_type": "code",
      "metadata": {
        "id": "zH9nl09-NUIT",
        "colab_type": "code",
        "colab": {}
      },
      "source": [
        "sess = tf.Session()\n",
        "sess.run(tf.global_variables_initializer())\n",
        "input_batch = input_batch.reshape([1,n_step, n_input])\n",
        "target1 = np.reshape(target1, [1,n_step])\n",
        "\n",
        "for i in range(10000):\n",
        "    _, loss = sess.run([optimizer, cost],\n",
        "                       feed_dict={input: input_batch,\n",
        "                                  target: target1})\n",
        "    if i%100 == 0:\n",
        "      print(i, 'cost', '{:.6f}'.format(loss))"
      ],
      "execution_count": 0,
      "outputs": []
    },
    {
      "cell_type": "code",
      "metadata": {
        "id": "5ReHbOyMacFH",
        "colab_type": "code",
        "outputId": "7cbfd77f-0c30-4992-c188-f95c815eda3f",
        "colab": {
          "base_uri": "https://localhost:8080/",
          "height": 35
        }
      },
      "source": [
        "prediction = tf.argmax(model, 1)\n",
        "target2 = np.reshape(target2, [1,n_step])\n",
        "result = sess.run([prediction],\n",
        "                       feed_dict={input: input_batch, target: target2})\n",
        "decoded = [char_arr[i] for i in result[0]]\n",
        "\n",
        "print(decoded)"
      ],
      "execution_count": 0,
      "outputs": [
        {
          "output_type": "stream",
          "text": [
            "['e', 'l', 'l', 'o']\n"
          ],
          "name": "stdout"
        }
      ]
    }
  ]
}